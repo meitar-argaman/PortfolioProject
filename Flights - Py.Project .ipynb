{
 "cells": [
  {
   "cell_type": "markdown",
   "metadata": {},
   "source": [
    "## Ben Gurion Aairport Data"
   ]
  },
  {
   "cell_type": "raw",
   "metadata": {},
   "source": [
    "Project 3 - Python \n",
    "Shlomit Yehezkel \n",
    "date 15.06.2023 "
   ]
  },
  {
   "cell_type": "code",
   "execution_count": 1,
   "metadata": {},
   "outputs": [],
   "source": [
    "import os\n",
    "import pandas as pd\n",
    "import numpy as np\n",
    "import matplotlib.pyplot as plt\n",
    "import seaborn as sb\n",
    "import datetime as dt"
   ]
  },
  {
   "cell_type": "code",
   "execution_count": 2,
   "metadata": {},
   "outputs": [],
   "source": [
    "import requests\n",
    "import json\n"
   ]
  },
  {
   "cell_type": "markdown",
   "metadata": {},
   "source": [
    "#### Loadding flights data and learning it "
   ]
  },
  {
   "cell_type": "code",
   "execution_count": 3,
   "metadata": {},
   "outputs": [],
   "source": [
    "r = requests.get(\"https://data.gov.il/api/3/action/datastore_search?resource_id=e83f763b-b7d7-479e-b172-ae981ddc6de5&limit=5000\")"
   ]
  },
  {
   "cell_type": "code",
   "execution_count": 4,
   "metadata": {},
   "outputs": [],
   "source": [
    "res = json.loads(r.content)"
   ]
  },
  {
   "cell_type": "code",
   "execution_count": 5,
   "metadata": {},
   "outputs": [],
   "source": [
    "flights = pd.DataFrame(res['result']['records'])"
   ]
  },
  {
   "cell_type": "code",
   "execution_count": 6,
   "metadata": {},
   "outputs": [
    {
     "data": {
      "text/html": [
       "<div>\n",
       "<style scoped>\n",
       "    .dataframe tbody tr th:only-of-type {\n",
       "        vertical-align: middle;\n",
       "    }\n",
       "\n",
       "    .dataframe tbody tr th {\n",
       "        vertical-align: top;\n",
       "    }\n",
       "\n",
       "    .dataframe thead th {\n",
       "        text-align: right;\n",
       "    }\n",
       "</style>\n",
       "<table border=\"1\" class=\"dataframe\">\n",
       "  <thead>\n",
       "    <tr style=\"text-align: right;\">\n",
       "      <th></th>\n",
       "      <th>_id</th>\n",
       "      <th>CHOPER</th>\n",
       "      <th>CHFLTN</th>\n",
       "      <th>CHOPERD</th>\n",
       "      <th>CHSTOL</th>\n",
       "      <th>CHPTOL</th>\n",
       "      <th>CHAORD</th>\n",
       "      <th>CHLOC1</th>\n",
       "      <th>CHLOC1D</th>\n",
       "      <th>CHLOC1TH</th>\n",
       "      <th>CHLOC1T</th>\n",
       "      <th>CHLOC1CH</th>\n",
       "      <th>CHLOCCT</th>\n",
       "      <th>CHTERM</th>\n",
       "      <th>CHCINT</th>\n",
       "      <th>CHCKZN</th>\n",
       "      <th>CHRMINE</th>\n",
       "      <th>CHRMINH</th>\n",
       "    </tr>\n",
       "  </thead>\n",
       "  <tbody>\n",
       "    <tr>\n",
       "      <th>0</th>\n",
       "      <td>1</td>\n",
       "      <td>W6</td>\n",
       "      <td>2326</td>\n",
       "      <td>WIZZAIR</td>\n",
       "      <td>2023-06-14T10:55:00</td>\n",
       "      <td>2023-06-14T11:33:00</td>\n",
       "      <td>D</td>\n",
       "      <td>BUD</td>\n",
       "      <td>BUDAPEST</td>\n",
       "      <td>בודפשט</td>\n",
       "      <td>BUDAPEST</td>\n",
       "      <td>הונגריה</td>\n",
       "      <td>HUNGARY</td>\n",
       "      <td>1</td>\n",
       "      <td>312-320</td>\n",
       "      <td>A</td>\n",
       "      <td>DEPARTED</td>\n",
       "      <td>המריאה</td>\n",
       "    </tr>\n",
       "    <tr>\n",
       "      <th>1</th>\n",
       "      <td>2</td>\n",
       "      <td>6H</td>\n",
       "      <td>582</td>\n",
       "      <td>ISRAIR AIRLINES</td>\n",
       "      <td>2023-06-14T11:40:00</td>\n",
       "      <td>2023-06-14T11:35:00</td>\n",
       "      <td>A</td>\n",
       "      <td>LCA</td>\n",
       "      <td>LARNACA</td>\n",
       "      <td>לרנקה</td>\n",
       "      <td>LARNACA</td>\n",
       "      <td>קפריסין</td>\n",
       "      <td>CYPRUS</td>\n",
       "      <td>3</td>\n",
       "      <td>None</td>\n",
       "      <td>None</td>\n",
       "      <td>LANDED</td>\n",
       "      <td>נחתה</td>\n",
       "    </tr>\n",
       "    <tr>\n",
       "      <th>2</th>\n",
       "      <td>3</td>\n",
       "      <td>PC</td>\n",
       "      <td>792</td>\n",
       "      <td>PEGASUS AIRLINES</td>\n",
       "      <td>2023-06-14T10:55:00</td>\n",
       "      <td>2023-06-14T11:42:00</td>\n",
       "      <td>D</td>\n",
       "      <td>AYT</td>\n",
       "      <td>ANTALYA</td>\n",
       "      <td>אנטליה</td>\n",
       "      <td>ANTALYA</td>\n",
       "      <td>טורקיה</td>\n",
       "      <td>TURKEY</td>\n",
       "      <td>1</td>\n",
       "      <td>355-360</td>\n",
       "      <td>C</td>\n",
       "      <td>DEPARTED</td>\n",
       "      <td>המריאה</td>\n",
       "    </tr>\n",
       "  </tbody>\n",
       "</table>\n",
       "</div>"
      ],
      "text/plain": [
       "   _id CHOPER CHFLTN           CHOPERD               CHSTOL   \n",
       "0    1     W6   2326           WIZZAIR  2023-06-14T10:55:00  \\\n",
       "1    2     6H    582   ISRAIR AIRLINES  2023-06-14T11:40:00   \n",
       "2    3     PC    792  PEGASUS AIRLINES  2023-06-14T10:55:00   \n",
       "\n",
       "                CHPTOL CHAORD CHLOC1   CHLOC1D CHLOC1TH   CHLOC1T CHLOC1CH   \n",
       "0  2023-06-14T11:33:00      D    BUD  BUDAPEST   בודפשט  BUDAPEST  הונגריה  \\\n",
       "1  2023-06-14T11:35:00      A    LCA   LARNACA    לרנקה   LARNACA  קפריסין   \n",
       "2  2023-06-14T11:42:00      D    AYT   ANTALYA   אנטליה   ANTALYA   טורקיה   \n",
       "\n",
       "   CHLOCCT CHTERM   CHCINT CHCKZN   CHRMINE CHRMINH  \n",
       "0  HUNGARY      1  312-320      A  DEPARTED  המריאה  \n",
       "1   CYPRUS      3     None   None    LANDED    נחתה  \n",
       "2   TURKEY      1  355-360      C  DEPARTED  המריאה  "
      ]
     },
     "execution_count": 6,
     "metadata": {},
     "output_type": "execute_result"
    }
   ],
   "source": [
    "flights.head(3)"
   ]
  },
  {
   "cell_type": "code",
   "execution_count": 7,
   "metadata": {},
   "outputs": [
    {
     "data": {
      "text/html": [
       "<div>\n",
       "<style scoped>\n",
       "    .dataframe tbody tr th:only-of-type {\n",
       "        vertical-align: middle;\n",
       "    }\n",
       "\n",
       "    .dataframe tbody tr th {\n",
       "        vertical-align: top;\n",
       "    }\n",
       "\n",
       "    .dataframe thead th {\n",
       "        text-align: right;\n",
       "    }\n",
       "</style>\n",
       "<table border=\"1\" class=\"dataframe\">\n",
       "  <thead>\n",
       "    <tr style=\"text-align: right;\">\n",
       "      <th></th>\n",
       "      <th>_id</th>\n",
       "      <th>CHOPER</th>\n",
       "      <th>CHFLTN</th>\n",
       "      <th>CHOPERD</th>\n",
       "      <th>CHSTOL</th>\n",
       "      <th>CHPTOL</th>\n",
       "      <th>CHAORD</th>\n",
       "      <th>CHLOC1</th>\n",
       "      <th>CHLOC1D</th>\n",
       "      <th>CHLOC1TH</th>\n",
       "      <th>CHLOC1T</th>\n",
       "      <th>CHLOC1CH</th>\n",
       "      <th>CHLOCCT</th>\n",
       "      <th>CHTERM</th>\n",
       "      <th>CHCINT</th>\n",
       "      <th>CHCKZN</th>\n",
       "      <th>CHRMINE</th>\n",
       "      <th>CHRMINH</th>\n",
       "    </tr>\n",
       "  </thead>\n",
       "  <tbody>\n",
       "    <tr>\n",
       "      <th>2654</th>\n",
       "      <td>2655</td>\n",
       "      <td>D8</td>\n",
       "      <td>3790</td>\n",
       "      <td>NORWEGIAN AIR SHUTTLE</td>\n",
       "      <td>2023-06-18T11:30:00</td>\n",
       "      <td>2023-06-18T11:30:00</td>\n",
       "      <td>A</td>\n",
       "      <td>CPH</td>\n",
       "      <td>COPENHAGEN KASTRUP</td>\n",
       "      <td>קופנהאגן</td>\n",
       "      <td>COPENHAGEN</td>\n",
       "      <td>דנמרק</td>\n",
       "      <td>DENMARK</td>\n",
       "      <td>3</td>\n",
       "      <td>None</td>\n",
       "      <td>None</td>\n",
       "      <td>NOT FINAL</td>\n",
       "      <td>לא סופי</td>\n",
       "    </tr>\n",
       "    <tr>\n",
       "      <th>2655</th>\n",
       "      <td>2656</td>\n",
       "      <td>VS</td>\n",
       "      <td>4005</td>\n",
       "      <td>VIRGIN ATLANTIC AIRWAYS</td>\n",
       "      <td>2023-06-18T11:30:00</td>\n",
       "      <td>2023-06-18T11:30:00</td>\n",
       "      <td>D</td>\n",
       "      <td>ATL</td>\n",
       "      <td>ATLANTA</td>\n",
       "      <td>אטלנטה</td>\n",
       "      <td>ATLANTA</td>\n",
       "      <td>ארצות הברית</td>\n",
       "      <td>UNITED STATES</td>\n",
       "      <td>3</td>\n",
       "      <td>45-55</td>\n",
       "      <td>B</td>\n",
       "      <td>ON TIME</td>\n",
       "      <td>בזמן</td>\n",
       "    </tr>\n",
       "    <tr>\n",
       "      <th>2656</th>\n",
       "      <td>2657</td>\n",
       "      <td>XC</td>\n",
       "      <td>441</td>\n",
       "      <td>CORONDON AIRLINES</td>\n",
       "      <td>2023-06-18T11:30:00</td>\n",
       "      <td>2023-06-18T11:30:00</td>\n",
       "      <td>A</td>\n",
       "      <td>AYT</td>\n",
       "      <td>ANTALYA</td>\n",
       "      <td>אנטליה</td>\n",
       "      <td>ANTALYA</td>\n",
       "      <td>טורקיה</td>\n",
       "      <td>TURKEY</td>\n",
       "      <td>3</td>\n",
       "      <td>None</td>\n",
       "      <td>None</td>\n",
       "      <td>NOT FINAL</td>\n",
       "      <td>לא סופי</td>\n",
       "    </tr>\n",
       "  </tbody>\n",
       "</table>\n",
       "</div>"
      ],
      "text/plain": [
       "       _id CHOPER CHFLTN                  CHOPERD               CHSTOL   \n",
       "2654  2655     D8   3790    NORWEGIAN AIR SHUTTLE  2023-06-18T11:30:00  \\\n",
       "2655  2656     VS   4005  VIRGIN ATLANTIC AIRWAYS  2023-06-18T11:30:00   \n",
       "2656  2657     XC    441        CORONDON AIRLINES  2023-06-18T11:30:00   \n",
       "\n",
       "                   CHPTOL CHAORD CHLOC1             CHLOC1D  CHLOC1TH   \n",
       "2654  2023-06-18T11:30:00      A    CPH  COPENHAGEN KASTRUP  קופנהאגן  \\\n",
       "2655  2023-06-18T11:30:00      D    ATL             ATLANTA    אטלנטה   \n",
       "2656  2023-06-18T11:30:00      A    AYT             ANTALYA    אנטליה   \n",
       "\n",
       "         CHLOC1T     CHLOC1CH        CHLOCCT CHTERM CHCINT CHCKZN    CHRMINE   \n",
       "2654  COPENHAGEN        דנמרק        DENMARK      3   None   None  NOT FINAL  \\\n",
       "2655     ATLANTA  ארצות הברית  UNITED STATES      3  45-55      B    ON TIME   \n",
       "2656     ANTALYA       טורקיה         TURKEY      3   None   None  NOT FINAL   \n",
       "\n",
       "      CHRMINH  \n",
       "2654  לא סופי  \n",
       "2655     בזמן  \n",
       "2656  לא סופי  "
      ]
     },
     "execution_count": 7,
     "metadata": {},
     "output_type": "execute_result"
    }
   ],
   "source": [
    "flights.tail(3)"
   ]
  },
  {
   "cell_type": "code",
   "execution_count": 8,
   "metadata": {},
   "outputs": [
    {
     "name": "stdout",
     "output_type": "stream",
     "text": [
      "<class 'pandas.core.frame.DataFrame'>\n",
      "RangeIndex: 2657 entries, 0 to 2656\n",
      "Data columns (total 18 columns):\n",
      " #   Column    Non-Null Count  Dtype \n",
      "---  ------    --------------  ----- \n",
      " 0   _id       2657 non-null   int64 \n",
      " 1   CHOPER    2657 non-null   object\n",
      " 2   CHFLTN    2657 non-null   object\n",
      " 3   CHOPERD   2657 non-null   object\n",
      " 4   CHSTOL    2657 non-null   object\n",
      " 5   CHPTOL    2657 non-null   object\n",
      " 6   CHAORD    2657 non-null   object\n",
      " 7   CHLOC1    2657 non-null   object\n",
      " 8   CHLOC1D   2657 non-null   object\n",
      " 9   CHLOC1TH  2657 non-null   object\n",
      " 10  CHLOC1T   2657 non-null   object\n",
      " 11  CHLOC1CH  2657 non-null   object\n",
      " 12  CHLOCCT   2657 non-null   object\n",
      " 13  CHTERM    2657 non-null   object\n",
      " 14  CHCINT    1338 non-null   object\n",
      " 15  CHCKZN    1338 non-null   object\n",
      " 16  CHRMINE   2657 non-null   object\n",
      " 17  CHRMINH   2657 non-null   object\n",
      "dtypes: int64(1), object(17)\n",
      "memory usage: 373.8+ KB\n"
     ]
    }
   ],
   "source": [
    "flights.info()"
   ]
  },
  {
   "cell_type": "code",
   "execution_count": 9,
   "metadata": {},
   "outputs": [
    {
     "data": {
      "text/plain": [
       "Index(['_id', 'CHOPER', 'CHFLTN', 'CHOPERD', 'CHSTOL', 'CHPTOL', 'CHAORD',\n",
       "       'CHLOC1', 'CHLOC1D', 'CHLOC1TH', 'CHLOC1T', 'CHLOC1CH', 'CHLOCCT',\n",
       "       'CHTERM', 'CHCINT', 'CHCKZN', 'CHRMINE', 'CHRMINH'],\n",
       "      dtype='object')"
      ]
     },
     "execution_count": 9,
     "metadata": {},
     "output_type": "execute_result"
    }
   ],
   "source": [
    "flights.columns"
   ]
  },
  {
   "cell_type": "code",
   "execution_count": 10,
   "metadata": {},
   "outputs": [
    {
     "data": {
      "text/plain": [
       "array(['W6', '6H', 'PC', 'IZ', 'FR', 'AM', 'AR', 'B6', 'LY', 'TK', 'BZ',\n",
       "       'EK', 'FZ', 'EY', 'EJU', 'UA', 'LO', 'AC', 'DL', 'VS', 'A4', 'A3',\n",
       "       'CY', 'H4', 'HM', 'UX', 'NH', 'OS', 'EZY', 'QS', 'AF', 'BA', 'HU',\n",
       "       'FB', 'JU', 'AA', 'U8', '6E', 'LH', 'SN', 'AZ', 'IB', 'TP', 'AT',\n",
       "       'NO', 'TO', 'I2', 'VY', 'LX', 'RJ', 'W4', 'MS', 'HV', 'S7', 'WZ',\n",
       "       'A9', 'KE', 'ET', 'W9', 'QF', 'H7', 'TG', 'VN', 'RO', 'AY', 'XC',\n",
       "       'KL', 'OK', 'LA', 'CX', 'HY', 'XQ', '5W', 'J2', 'XR', 'SM', 'GF',\n",
       "       'FH', 'EZS', 'TWI', 'BUC', '5F', 'D8', 'AI', 'MNE', 'BT', '2S',\n",
       "       'KM'], dtype=object)"
      ]
     },
     "execution_count": 10,
     "metadata": {},
     "output_type": "execute_result"
    }
   ],
   "source": [
    "flights.CHOPER.unique()"
   ]
  },
  {
   "cell_type": "code",
   "execution_count": 11,
   "metadata": {},
   "outputs": [
    {
     "data": {
      "text/plain": [
       "88"
      ]
     },
     "execution_count": 11,
     "metadata": {},
     "output_type": "execute_result"
    }
   ],
   "source": [
    "flights.CHOPER.nunique()"
   ]
  },
  {
   "cell_type": "code",
   "execution_count": 12,
   "metadata": {},
   "outputs": [
    {
     "data": {
      "text/plain": [
       "array(['WIZZAIR', 'ISRAIR AIRLINES', 'PEGASUS AIRLINES',\n",
       "       'ARKIA  ISRAELI  AIRLINES', 'RYANAIR', 'AERO MEXICO',\n",
       "       'AEROLINEAS ARGENTINAS S.A.', 'JETBLUE AIRWAYS CORPORATION',\n",
       "       'EL AL ISRAEL AIRLINES', 'TURKISH AIRLINES', 'BLUE BIRD AIRWAYS',\n",
       "       'EMIRATES', 'FLYDUBAI', 'ETIHAD AIRWAYS', 'EASYJET EUROPE AIRLINE',\n",
       "       'UNITED AIRLINES', 'LOT POLISH AIRLINES', 'AIR CANADA',\n",
       "       'DELTA AIRLINES', 'VIRGIN ATLANTIC AIRWAYS', 'AZIMUTH AIRLINES',\n",
       "       'AEGEAN  AIRLINES', 'CYPRUS AIRWAYS', 'HISKY EUROPE SRL',\n",
       "       'AIR SEYCHELLES', 'AIR EUROPA Lineas Aereas S.A.U',\n",
       "       'ALL NIPPON AIRWAYS', 'AUSTRIAN AIRLINES', 'EASYJET', 'SMARTWINGS',\n",
       "       'AIR FRANCE', 'BRITISH AIRWAYS PLC', 'HAINAN AIRLINES',\n",
       "       'BULGARIA  AIR', 'AIR SERBIA', 'AMERICAN AIRLINES', 'TUS AIRWAYS',\n",
       "       'INDIGO AIRLINES', 'LUFTHANSA', 'BRUSSELS AIRLINES',\n",
       "       'ITALIA TRASPORTO AEREO', 'IBERIA', 'AIR PORTUGAL',\n",
       "       'ROYAL AIR MAROC', 'NEOS', 'TRANSAVIA FRANCE', 'IBERIA EXPRESS',\n",
       "       'VUELING AIRLINES S.A.', 'SWISS INT`L  AIRLINES',\n",
       "       'ROYAL  JORDANIAN', 'WIZZ AIR MALTA', 'EGYPTAIR AIRLINES',\n",
       "       'TRANSAVIA', 'SIBERIA AIRLINES', 'RED WINGS AIRLINES',\n",
       "       'GEORGIAN AIRWAYS', 'KOREAN AIR', 'ETHIOPIAN AIRLINES', 'WIZZ UK',\n",
       "       'QANTAS AIRWAYS', 'HISKY', 'THAI AIRWAYS', 'VIETNAM AIRLINES',\n",
       "       'TAROM - RUMANIAN AIR TRANSPORT', 'FINNAIR', 'CORONDON AIRLINES',\n",
       "       'K.L.M.', 'CZECH AIRLINES', 'LATAM AIRLINES',\n",
       "       'CATHAY PACIFIC AIRWAYS', 'UZBEKISTAN AIR', 'SUN EXPRESS',\n",
       "       'WIZZ AIR ABU DHABI', 'AZERBAIJAN AIRLINES', 'CORENDON EUROPE',\n",
       "       'AIR CAIRO', 'GULF AIR - BAHREIN', 'FREEBIRD AIRLINES',\n",
       "       'EASY JET SWITZERLAND', 'TAILWIND AIRLINES',\n",
       "       'EUROPEAN AIR CHARTER', 'FLYONE', 'NORWEGIAN AIR SHUTTLE',\n",
       "       'AIR INDIA', 'TOMONTENEGRO', 'AIR BALTIC', 'SOUTWIND AIRLINES',\n",
       "       'AIR MALTA'], dtype=object)"
      ]
     },
     "execution_count": 12,
     "metadata": {},
     "output_type": "execute_result"
    }
   ],
   "source": [
    "flights.CHOPERD.unique()"
   ]
  },
  {
   "cell_type": "code",
   "execution_count": 13,
   "metadata": {},
   "outputs": [
    {
     "data": {
      "text/plain": [
       "88"
      ]
     },
     "execution_count": 13,
     "metadata": {},
     "output_type": "execute_result"
    }
   ],
   "source": [
    "flights.CHOPERD.nunique()"
   ]
  },
  {
   "cell_type": "code",
   "execution_count": 14,
   "metadata": {},
   "outputs": [
    {
     "data": {
      "text/plain": [
       "array(['D', 'A'], dtype=object)"
      ]
     },
     "execution_count": 14,
     "metadata": {},
     "output_type": "execute_result"
    }
   ],
   "source": [
    "flights.CHAORD.unique()"
   ]
  },
  {
   "cell_type": "code",
   "execution_count": 15,
   "metadata": {},
   "outputs": [
    {
     "data": {
      "text/plain": [
       "130"
      ]
     },
     "execution_count": 15,
     "metadata": {},
     "output_type": "execute_result"
    }
   ],
   "source": [
    "flights.CHLOC1.nunique()"
   ]
  },
  {
   "cell_type": "code",
   "execution_count": null,
   "metadata": {},
   "outputs": [],
   "source": []
  },
  {
   "cell_type": "markdown",
   "metadata": {},
   "source": [
    "##### Display the first rows "
   ]
  },
  {
   "cell_type": "code",
   "execution_count": 16,
   "metadata": {},
   "outputs": [
    {
     "data": {
      "text/html": [
       "<div>\n",
       "<style scoped>\n",
       "    .dataframe tbody tr th:only-of-type {\n",
       "        vertical-align: middle;\n",
       "    }\n",
       "\n",
       "    .dataframe tbody tr th {\n",
       "        vertical-align: top;\n",
       "    }\n",
       "\n",
       "    .dataframe thead th {\n",
       "        text-align: right;\n",
       "    }\n",
       "</style>\n",
       "<table border=\"1\" class=\"dataframe\">\n",
       "  <thead>\n",
       "    <tr style=\"text-align: right;\">\n",
       "      <th></th>\n",
       "      <th>_id</th>\n",
       "      <th>CHOPER</th>\n",
       "      <th>CHFLTN</th>\n",
       "      <th>CHOPERD</th>\n",
       "      <th>CHSTOL</th>\n",
       "      <th>CHPTOL</th>\n",
       "      <th>CHAORD</th>\n",
       "      <th>CHLOC1</th>\n",
       "      <th>CHLOC1D</th>\n",
       "      <th>CHLOC1TH</th>\n",
       "      <th>CHLOC1T</th>\n",
       "      <th>CHLOC1CH</th>\n",
       "      <th>CHLOCCT</th>\n",
       "      <th>CHTERM</th>\n",
       "      <th>CHCINT</th>\n",
       "      <th>CHCKZN</th>\n",
       "      <th>CHRMINE</th>\n",
       "      <th>CHRMINH</th>\n",
       "    </tr>\n",
       "  </thead>\n",
       "  <tbody>\n",
       "    <tr>\n",
       "      <th>0</th>\n",
       "      <td>1</td>\n",
       "      <td>W6</td>\n",
       "      <td>2326</td>\n",
       "      <td>WIZZAIR</td>\n",
       "      <td>2023-06-14T10:55:00</td>\n",
       "      <td>2023-06-14T11:33:00</td>\n",
       "      <td>D</td>\n",
       "      <td>BUD</td>\n",
       "      <td>BUDAPEST</td>\n",
       "      <td>בודפשט</td>\n",
       "      <td>BUDAPEST</td>\n",
       "      <td>הונגריה</td>\n",
       "      <td>HUNGARY</td>\n",
       "      <td>1</td>\n",
       "      <td>312-320</td>\n",
       "      <td>A</td>\n",
       "      <td>DEPARTED</td>\n",
       "      <td>המריאה</td>\n",
       "    </tr>\n",
       "  </tbody>\n",
       "</table>\n",
       "</div>"
      ],
      "text/plain": [
       "   _id CHOPER CHFLTN  CHOPERD               CHSTOL               CHPTOL   \n",
       "0    1     W6   2326  WIZZAIR  2023-06-14T10:55:00  2023-06-14T11:33:00  \\\n",
       "\n",
       "  CHAORD CHLOC1   CHLOC1D CHLOC1TH   CHLOC1T CHLOC1CH  CHLOCCT CHTERM   \n",
       "0      D    BUD  BUDAPEST   בודפשט  BUDAPEST  הונגריה  HUNGARY      1  \\\n",
       "\n",
       "    CHCINT CHCKZN   CHRMINE CHRMINH  \n",
       "0  312-320      A  DEPARTED  המריאה  "
      ]
     },
     "execution_count": 16,
     "metadata": {},
     "output_type": "execute_result"
    }
   ],
   "source": [
    "flights.head(1)"
   ]
  },
  {
   "cell_type": "markdown",
   "metadata": {},
   "source": [
    "##### Last 10 rows - There is no problem at Flights DF"
   ]
  },
  {
   "cell_type": "code",
   "execution_count": 17,
   "metadata": {},
   "outputs": [
    {
     "data": {
      "text/html": [
       "<div>\n",
       "<style scoped>\n",
       "    .dataframe tbody tr th:only-of-type {\n",
       "        vertical-align: middle;\n",
       "    }\n",
       "\n",
       "    .dataframe tbody tr th {\n",
       "        vertical-align: top;\n",
       "    }\n",
       "\n",
       "    .dataframe thead th {\n",
       "        text-align: right;\n",
       "    }\n",
       "</style>\n",
       "<table border=\"1\" class=\"dataframe\">\n",
       "  <thead>\n",
       "    <tr style=\"text-align: right;\">\n",
       "      <th></th>\n",
       "      <th>_id</th>\n",
       "      <th>CHOPER</th>\n",
       "      <th>CHFLTN</th>\n",
       "      <th>CHOPERD</th>\n",
       "      <th>CHSTOL</th>\n",
       "      <th>CHPTOL</th>\n",
       "      <th>CHAORD</th>\n",
       "      <th>CHLOC1</th>\n",
       "      <th>CHLOC1D</th>\n",
       "      <th>CHLOC1TH</th>\n",
       "      <th>CHLOC1T</th>\n",
       "      <th>CHLOC1CH</th>\n",
       "      <th>CHLOCCT</th>\n",
       "      <th>CHTERM</th>\n",
       "      <th>CHCINT</th>\n",
       "      <th>CHCKZN</th>\n",
       "      <th>CHRMINE</th>\n",
       "      <th>CHRMINH</th>\n",
       "    </tr>\n",
       "  </thead>\n",
       "  <tbody>\n",
       "    <tr>\n",
       "      <th>2647</th>\n",
       "      <td>2648</td>\n",
       "      <td>TK</td>\n",
       "      <td>7709</td>\n",
       "      <td>TURKISH AIRLINES</td>\n",
       "      <td>2023-06-18T11:15:00</td>\n",
       "      <td>2023-06-18T11:15:00</td>\n",
       "      <td>D</td>\n",
       "      <td>SAW</td>\n",
       "      <td>ISTANBUL-SABIHA GOKCHEN</td>\n",
       "      <td>איסטנבול</td>\n",
       "      <td>ISTANBUL</td>\n",
       "      <td>טורקיה</td>\n",
       "      <td>TURKEY</td>\n",
       "      <td>3</td>\n",
       "      <td>G1-G11</td>\n",
       "      <td>G</td>\n",
       "      <td>ON TIME</td>\n",
       "      <td>בזמן</td>\n",
       "    </tr>\n",
       "    <tr>\n",
       "      <th>2648</th>\n",
       "      <td>2649</td>\n",
       "      <td>H4</td>\n",
       "      <td>236</td>\n",
       "      <td>HISKY EUROPE SRL</td>\n",
       "      <td>2023-06-18T11:20:00</td>\n",
       "      <td>2023-06-18T11:20:00</td>\n",
       "      <td>D</td>\n",
       "      <td>OTP</td>\n",
       "      <td>BUCHAREST - OTOPENI</td>\n",
       "      <td>בוקרשט</td>\n",
       "      <td>BUCHAREST</td>\n",
       "      <td>רומניה</td>\n",
       "      <td>ROMANIA</td>\n",
       "      <td>3</td>\n",
       "      <td>G16-G18</td>\n",
       "      <td>G</td>\n",
       "      <td>ON TIME</td>\n",
       "      <td>בזמן</td>\n",
       "    </tr>\n",
       "    <tr>\n",
       "      <th>2649</th>\n",
       "      <td>2650</td>\n",
       "      <td>TK</td>\n",
       "      <td>7668</td>\n",
       "      <td>TURKISH AIRLINES</td>\n",
       "      <td>2023-06-18T11:20:00</td>\n",
       "      <td>2023-06-18T11:20:00</td>\n",
       "      <td>A</td>\n",
       "      <td>AYT</td>\n",
       "      <td>ANTALYA</td>\n",
       "      <td>אנטליה</td>\n",
       "      <td>ANTALYA</td>\n",
       "      <td>טורקיה</td>\n",
       "      <td>TURKEY</td>\n",
       "      <td>3</td>\n",
       "      <td>None</td>\n",
       "      <td>None</td>\n",
       "      <td>NOT FINAL</td>\n",
       "      <td>לא סופי</td>\n",
       "    </tr>\n",
       "    <tr>\n",
       "      <th>2650</th>\n",
       "      <td>2651</td>\n",
       "      <td>6H</td>\n",
       "      <td>884</td>\n",
       "      <td>ISRAIR AIRLINES</td>\n",
       "      <td>2023-06-18T11:20:00</td>\n",
       "      <td>2023-06-18T11:20:00</td>\n",
       "      <td>A</td>\n",
       "      <td>BUS</td>\n",
       "      <td>BATUMI</td>\n",
       "      <td>בטומי</td>\n",
       "      <td>BATUMI</td>\n",
       "      <td>גיאורגיה</td>\n",
       "      <td>GEORGIA</td>\n",
       "      <td>3</td>\n",
       "      <td>None</td>\n",
       "      <td>None</td>\n",
       "      <td>NOT FINAL</td>\n",
       "      <td>לא סופי</td>\n",
       "    </tr>\n",
       "    <tr>\n",
       "      <th>2651</th>\n",
       "      <td>2652</td>\n",
       "      <td>IZ</td>\n",
       "      <td>2824</td>\n",
       "      <td>ARKIA  ISRAELI  AIRLINES</td>\n",
       "      <td>2023-06-18T11:25:00</td>\n",
       "      <td>2023-06-18T11:25:00</td>\n",
       "      <td>A</td>\n",
       "      <td>ETM</td>\n",
       "      <td>RAMON</td>\n",
       "      <td>אילת - רמון</td>\n",
       "      <td>RAMON</td>\n",
       "      <td>ישראל</td>\n",
       "      <td>ISRAEL</td>\n",
       "      <td>1</td>\n",
       "      <td>None</td>\n",
       "      <td>None</td>\n",
       "      <td>NOT FINAL</td>\n",
       "      <td>לא סופי</td>\n",
       "    </tr>\n",
       "    <tr>\n",
       "      <th>2652</th>\n",
       "      <td>2653</td>\n",
       "      <td>W6</td>\n",
       "      <td>2679</td>\n",
       "      <td>WIZZAIR</td>\n",
       "      <td>2023-06-18T11:25:00</td>\n",
       "      <td>2023-06-18T11:25:00</td>\n",
       "      <td>D</td>\n",
       "      <td>JMK</td>\n",
       "      <td>MIKONOS</td>\n",
       "      <td>מיקונוס</td>\n",
       "      <td>MYKONOS</td>\n",
       "      <td>יוון</td>\n",
       "      <td>GREECE</td>\n",
       "      <td>1</td>\n",
       "      <td>312-320</td>\n",
       "      <td>A</td>\n",
       "      <td>ON TIME</td>\n",
       "      <td>בזמן</td>\n",
       "    </tr>\n",
       "    <tr>\n",
       "      <th>2653</th>\n",
       "      <td>2654</td>\n",
       "      <td>DL</td>\n",
       "      <td>249</td>\n",
       "      <td>DELTA AIRLINES</td>\n",
       "      <td>2023-06-18T11:30:00</td>\n",
       "      <td>2023-06-18T11:30:00</td>\n",
       "      <td>D</td>\n",
       "      <td>ATL</td>\n",
       "      <td>ATLANTA</td>\n",
       "      <td>אטלנטה</td>\n",
       "      <td>ATLANTA</td>\n",
       "      <td>ארצות הברית</td>\n",
       "      <td>UNITED STATES</td>\n",
       "      <td>3</td>\n",
       "      <td>45-55</td>\n",
       "      <td>B</td>\n",
       "      <td>ON TIME</td>\n",
       "      <td>בזמן</td>\n",
       "    </tr>\n",
       "    <tr>\n",
       "      <th>2654</th>\n",
       "      <td>2655</td>\n",
       "      <td>D8</td>\n",
       "      <td>3790</td>\n",
       "      <td>NORWEGIAN AIR SHUTTLE</td>\n",
       "      <td>2023-06-18T11:30:00</td>\n",
       "      <td>2023-06-18T11:30:00</td>\n",
       "      <td>A</td>\n",
       "      <td>CPH</td>\n",
       "      <td>COPENHAGEN KASTRUP</td>\n",
       "      <td>קופנהאגן</td>\n",
       "      <td>COPENHAGEN</td>\n",
       "      <td>דנמרק</td>\n",
       "      <td>DENMARK</td>\n",
       "      <td>3</td>\n",
       "      <td>None</td>\n",
       "      <td>None</td>\n",
       "      <td>NOT FINAL</td>\n",
       "      <td>לא סופי</td>\n",
       "    </tr>\n",
       "    <tr>\n",
       "      <th>2655</th>\n",
       "      <td>2656</td>\n",
       "      <td>VS</td>\n",
       "      <td>4005</td>\n",
       "      <td>VIRGIN ATLANTIC AIRWAYS</td>\n",
       "      <td>2023-06-18T11:30:00</td>\n",
       "      <td>2023-06-18T11:30:00</td>\n",
       "      <td>D</td>\n",
       "      <td>ATL</td>\n",
       "      <td>ATLANTA</td>\n",
       "      <td>אטלנטה</td>\n",
       "      <td>ATLANTA</td>\n",
       "      <td>ארצות הברית</td>\n",
       "      <td>UNITED STATES</td>\n",
       "      <td>3</td>\n",
       "      <td>45-55</td>\n",
       "      <td>B</td>\n",
       "      <td>ON TIME</td>\n",
       "      <td>בזמן</td>\n",
       "    </tr>\n",
       "    <tr>\n",
       "      <th>2656</th>\n",
       "      <td>2657</td>\n",
       "      <td>XC</td>\n",
       "      <td>441</td>\n",
       "      <td>CORONDON AIRLINES</td>\n",
       "      <td>2023-06-18T11:30:00</td>\n",
       "      <td>2023-06-18T11:30:00</td>\n",
       "      <td>A</td>\n",
       "      <td>AYT</td>\n",
       "      <td>ANTALYA</td>\n",
       "      <td>אנטליה</td>\n",
       "      <td>ANTALYA</td>\n",
       "      <td>טורקיה</td>\n",
       "      <td>TURKEY</td>\n",
       "      <td>3</td>\n",
       "      <td>None</td>\n",
       "      <td>None</td>\n",
       "      <td>NOT FINAL</td>\n",
       "      <td>לא סופי</td>\n",
       "    </tr>\n",
       "  </tbody>\n",
       "</table>\n",
       "</div>"
      ],
      "text/plain": [
       "       _id CHOPER CHFLTN                   CHOPERD               CHSTOL   \n",
       "2647  2648     TK   7709          TURKISH AIRLINES  2023-06-18T11:15:00  \\\n",
       "2648  2649     H4    236          HISKY EUROPE SRL  2023-06-18T11:20:00   \n",
       "2649  2650     TK   7668          TURKISH AIRLINES  2023-06-18T11:20:00   \n",
       "2650  2651     6H    884           ISRAIR AIRLINES  2023-06-18T11:20:00   \n",
       "2651  2652     IZ   2824  ARKIA  ISRAELI  AIRLINES  2023-06-18T11:25:00   \n",
       "2652  2653     W6   2679                   WIZZAIR  2023-06-18T11:25:00   \n",
       "2653  2654     DL    249            DELTA AIRLINES  2023-06-18T11:30:00   \n",
       "2654  2655     D8   3790     NORWEGIAN AIR SHUTTLE  2023-06-18T11:30:00   \n",
       "2655  2656     VS   4005   VIRGIN ATLANTIC AIRWAYS  2023-06-18T11:30:00   \n",
       "2656  2657     XC    441         CORONDON AIRLINES  2023-06-18T11:30:00   \n",
       "\n",
       "                   CHPTOL CHAORD CHLOC1                  CHLOC1D     CHLOC1TH   \n",
       "2647  2023-06-18T11:15:00      D    SAW  ISTANBUL-SABIHA GOKCHEN     איסטנבול  \\\n",
       "2648  2023-06-18T11:20:00      D    OTP      BUCHAREST - OTOPENI       בוקרשט   \n",
       "2649  2023-06-18T11:20:00      A    AYT                  ANTALYA       אנטליה   \n",
       "2650  2023-06-18T11:20:00      A    BUS                   BATUMI        בטומי   \n",
       "2651  2023-06-18T11:25:00      A    ETM                    RAMON  אילת - רמון   \n",
       "2652  2023-06-18T11:25:00      D    JMK                  MIKONOS      מיקונוס   \n",
       "2653  2023-06-18T11:30:00      D    ATL                  ATLANTA       אטלנטה   \n",
       "2654  2023-06-18T11:30:00      A    CPH       COPENHAGEN KASTRUP     קופנהאגן   \n",
       "2655  2023-06-18T11:30:00      D    ATL                  ATLANTA       אטלנטה   \n",
       "2656  2023-06-18T11:30:00      A    AYT                  ANTALYA       אנטליה   \n",
       "\n",
       "         CHLOC1T     CHLOC1CH        CHLOCCT CHTERM   CHCINT CHCKZN   \n",
       "2647    ISTANBUL       טורקיה         TURKEY      3   G1-G11      G  \\\n",
       "2648   BUCHAREST       רומניה        ROMANIA      3  G16-G18      G   \n",
       "2649     ANTALYA       טורקיה         TURKEY      3     None   None   \n",
       "2650      BATUMI     גיאורגיה        GEORGIA      3     None   None   \n",
       "2651       RAMON        ישראל         ISRAEL      1     None   None   \n",
       "2652     MYKONOS         יוון         GREECE      1  312-320      A   \n",
       "2653     ATLANTA  ארצות הברית  UNITED STATES      3    45-55      B   \n",
       "2654  COPENHAGEN        דנמרק        DENMARK      3     None   None   \n",
       "2655     ATLANTA  ארצות הברית  UNITED STATES      3    45-55      B   \n",
       "2656     ANTALYA       טורקיה         TURKEY      3     None   None   \n",
       "\n",
       "        CHRMINE  CHRMINH  \n",
       "2647    ON TIME     בזמן  \n",
       "2648    ON TIME     בזמן  \n",
       "2649  NOT FINAL  לא סופי  \n",
       "2650  NOT FINAL  לא סופי  \n",
       "2651  NOT FINAL  לא סופי  \n",
       "2652    ON TIME     בזמן  \n",
       "2653    ON TIME     בזמן  \n",
       "2654  NOT FINAL  לא סופי  \n",
       "2655    ON TIME     בזמן  \n",
       "2656  NOT FINAL  לא סופי  "
      ]
     },
     "execution_count": 17,
     "metadata": {},
     "output_type": "execute_result"
    }
   ],
   "source": [
    "flights.tail(10)"
   ]
  },
  {
   "cell_type": "markdown",
   "metadata": {},
   "source": [
    "##### Percentage of Nulls for each columns "
   ]
  },
  {
   "cell_type": "code",
   "execution_count": 18,
   "metadata": {},
   "outputs": [
    {
     "data": {
      "text/plain": [
       "_id            0\n",
       "CHOPER         0\n",
       "CHFLTN         0\n",
       "CHOPERD        0\n",
       "CHSTOL         0\n",
       "CHPTOL         0\n",
       "CHAORD         0\n",
       "CHLOC1         0\n",
       "CHLOC1D        0\n",
       "CHLOC1TH       0\n",
       "CHLOC1T        0\n",
       "CHLOC1CH       0\n",
       "CHLOCCT        0\n",
       "CHTERM         0\n",
       "CHCINT      1319\n",
       "CHCKZN      1319\n",
       "CHRMINE        0\n",
       "CHRMINH        0\n",
       "dtype: int64"
      ]
     },
     "execution_count": 18,
     "metadata": {},
     "output_type": "execute_result"
    }
   ],
   "source": [
    "flights.isnull().sum()"
   ]
  },
  {
   "cell_type": "code",
   "execution_count": 19,
   "metadata": {},
   "outputs": [
    {
     "data": {
      "text/html": [
       "<div>\n",
       "<style scoped>\n",
       "    .dataframe tbody tr th:only-of-type {\n",
       "        vertical-align: middle;\n",
       "    }\n",
       "\n",
       "    .dataframe tbody tr th {\n",
       "        vertical-align: top;\n",
       "    }\n",
       "\n",
       "    .dataframe thead th {\n",
       "        text-align: right;\n",
       "    }\n",
       "</style>\n",
       "<table border=\"1\" class=\"dataframe\">\n",
       "  <thead>\n",
       "    <tr style=\"text-align: right;\">\n",
       "      <th></th>\n",
       "      <th>_id</th>\n",
       "      <th>CHOPER</th>\n",
       "      <th>CHFLTN</th>\n",
       "      <th>CHOPERD</th>\n",
       "      <th>CHSTOL</th>\n",
       "      <th>CHPTOL</th>\n",
       "      <th>CHAORD</th>\n",
       "      <th>CHLOC1</th>\n",
       "      <th>CHLOC1D</th>\n",
       "      <th>CHLOC1TH</th>\n",
       "      <th>CHLOC1T</th>\n",
       "      <th>CHLOC1CH</th>\n",
       "      <th>CHLOCCT</th>\n",
       "      <th>CHTERM</th>\n",
       "      <th>CHCINT</th>\n",
       "      <th>CHCKZN</th>\n",
       "      <th>CHRMINE</th>\n",
       "      <th>CHRMINH</th>\n",
       "    </tr>\n",
       "  </thead>\n",
       "  <tbody>\n",
       "    <tr>\n",
       "      <th>0</th>\n",
       "      <td>False</td>\n",
       "      <td>False</td>\n",
       "      <td>False</td>\n",
       "      <td>False</td>\n",
       "      <td>False</td>\n",
       "      <td>False</td>\n",
       "      <td>False</td>\n",
       "      <td>False</td>\n",
       "      <td>False</td>\n",
       "      <td>False</td>\n",
       "      <td>False</td>\n",
       "      <td>False</td>\n",
       "      <td>False</td>\n",
       "      <td>False</td>\n",
       "      <td>False</td>\n",
       "      <td>False</td>\n",
       "      <td>False</td>\n",
       "      <td>False</td>\n",
       "    </tr>\n",
       "    <tr>\n",
       "      <th>1</th>\n",
       "      <td>False</td>\n",
       "      <td>False</td>\n",
       "      <td>False</td>\n",
       "      <td>False</td>\n",
       "      <td>False</td>\n",
       "      <td>False</td>\n",
       "      <td>False</td>\n",
       "      <td>False</td>\n",
       "      <td>False</td>\n",
       "      <td>False</td>\n",
       "      <td>False</td>\n",
       "      <td>False</td>\n",
       "      <td>False</td>\n",
       "      <td>False</td>\n",
       "      <td>True</td>\n",
       "      <td>True</td>\n",
       "      <td>False</td>\n",
       "      <td>False</td>\n",
       "    </tr>\n",
       "    <tr>\n",
       "      <th>2</th>\n",
       "      <td>False</td>\n",
       "      <td>False</td>\n",
       "      <td>False</td>\n",
       "      <td>False</td>\n",
       "      <td>False</td>\n",
       "      <td>False</td>\n",
       "      <td>False</td>\n",
       "      <td>False</td>\n",
       "      <td>False</td>\n",
       "      <td>False</td>\n",
       "      <td>False</td>\n",
       "      <td>False</td>\n",
       "      <td>False</td>\n",
       "      <td>False</td>\n",
       "      <td>False</td>\n",
       "      <td>False</td>\n",
       "      <td>False</td>\n",
       "      <td>False</td>\n",
       "    </tr>\n",
       "    <tr>\n",
       "      <th>3</th>\n",
       "      <td>False</td>\n",
       "      <td>False</td>\n",
       "      <td>False</td>\n",
       "      <td>False</td>\n",
       "      <td>False</td>\n",
       "      <td>False</td>\n",
       "      <td>False</td>\n",
       "      <td>False</td>\n",
       "      <td>False</td>\n",
       "      <td>False</td>\n",
       "      <td>False</td>\n",
       "      <td>False</td>\n",
       "      <td>False</td>\n",
       "      <td>False</td>\n",
       "      <td>False</td>\n",
       "      <td>False</td>\n",
       "      <td>False</td>\n",
       "      <td>False</td>\n",
       "    </tr>\n",
       "    <tr>\n",
       "      <th>4</th>\n",
       "      <td>False</td>\n",
       "      <td>False</td>\n",
       "      <td>False</td>\n",
       "      <td>False</td>\n",
       "      <td>False</td>\n",
       "      <td>False</td>\n",
       "      <td>False</td>\n",
       "      <td>False</td>\n",
       "      <td>False</td>\n",
       "      <td>False</td>\n",
       "      <td>False</td>\n",
       "      <td>False</td>\n",
       "      <td>False</td>\n",
       "      <td>False</td>\n",
       "      <td>True</td>\n",
       "      <td>True</td>\n",
       "      <td>False</td>\n",
       "      <td>False</td>\n",
       "    </tr>\n",
       "    <tr>\n",
       "      <th>...</th>\n",
       "      <td>...</td>\n",
       "      <td>...</td>\n",
       "      <td>...</td>\n",
       "      <td>...</td>\n",
       "      <td>...</td>\n",
       "      <td>...</td>\n",
       "      <td>...</td>\n",
       "      <td>...</td>\n",
       "      <td>...</td>\n",
       "      <td>...</td>\n",
       "      <td>...</td>\n",
       "      <td>...</td>\n",
       "      <td>...</td>\n",
       "      <td>...</td>\n",
       "      <td>...</td>\n",
       "      <td>...</td>\n",
       "      <td>...</td>\n",
       "      <td>...</td>\n",
       "    </tr>\n",
       "    <tr>\n",
       "      <th>2652</th>\n",
       "      <td>False</td>\n",
       "      <td>False</td>\n",
       "      <td>False</td>\n",
       "      <td>False</td>\n",
       "      <td>False</td>\n",
       "      <td>False</td>\n",
       "      <td>False</td>\n",
       "      <td>False</td>\n",
       "      <td>False</td>\n",
       "      <td>False</td>\n",
       "      <td>False</td>\n",
       "      <td>False</td>\n",
       "      <td>False</td>\n",
       "      <td>False</td>\n",
       "      <td>False</td>\n",
       "      <td>False</td>\n",
       "      <td>False</td>\n",
       "      <td>False</td>\n",
       "    </tr>\n",
       "    <tr>\n",
       "      <th>2653</th>\n",
       "      <td>False</td>\n",
       "      <td>False</td>\n",
       "      <td>False</td>\n",
       "      <td>False</td>\n",
       "      <td>False</td>\n",
       "      <td>False</td>\n",
       "      <td>False</td>\n",
       "      <td>False</td>\n",
       "      <td>False</td>\n",
       "      <td>False</td>\n",
       "      <td>False</td>\n",
       "      <td>False</td>\n",
       "      <td>False</td>\n",
       "      <td>False</td>\n",
       "      <td>False</td>\n",
       "      <td>False</td>\n",
       "      <td>False</td>\n",
       "      <td>False</td>\n",
       "    </tr>\n",
       "    <tr>\n",
       "      <th>2654</th>\n",
       "      <td>False</td>\n",
       "      <td>False</td>\n",
       "      <td>False</td>\n",
       "      <td>False</td>\n",
       "      <td>False</td>\n",
       "      <td>False</td>\n",
       "      <td>False</td>\n",
       "      <td>False</td>\n",
       "      <td>False</td>\n",
       "      <td>False</td>\n",
       "      <td>False</td>\n",
       "      <td>False</td>\n",
       "      <td>False</td>\n",
       "      <td>False</td>\n",
       "      <td>True</td>\n",
       "      <td>True</td>\n",
       "      <td>False</td>\n",
       "      <td>False</td>\n",
       "    </tr>\n",
       "    <tr>\n",
       "      <th>2655</th>\n",
       "      <td>False</td>\n",
       "      <td>False</td>\n",
       "      <td>False</td>\n",
       "      <td>False</td>\n",
       "      <td>False</td>\n",
       "      <td>False</td>\n",
       "      <td>False</td>\n",
       "      <td>False</td>\n",
       "      <td>False</td>\n",
       "      <td>False</td>\n",
       "      <td>False</td>\n",
       "      <td>False</td>\n",
       "      <td>False</td>\n",
       "      <td>False</td>\n",
       "      <td>False</td>\n",
       "      <td>False</td>\n",
       "      <td>False</td>\n",
       "      <td>False</td>\n",
       "    </tr>\n",
       "    <tr>\n",
       "      <th>2656</th>\n",
       "      <td>False</td>\n",
       "      <td>False</td>\n",
       "      <td>False</td>\n",
       "      <td>False</td>\n",
       "      <td>False</td>\n",
       "      <td>False</td>\n",
       "      <td>False</td>\n",
       "      <td>False</td>\n",
       "      <td>False</td>\n",
       "      <td>False</td>\n",
       "      <td>False</td>\n",
       "      <td>False</td>\n",
       "      <td>False</td>\n",
       "      <td>False</td>\n",
       "      <td>True</td>\n",
       "      <td>True</td>\n",
       "      <td>False</td>\n",
       "      <td>False</td>\n",
       "    </tr>\n",
       "  </tbody>\n",
       "</table>\n",
       "<p>2657 rows × 18 columns</p>\n",
       "</div>"
      ],
      "text/plain": [
       "        _id  CHOPER  CHFLTN  CHOPERD  CHSTOL  CHPTOL  CHAORD  CHLOC1  CHLOC1D   \n",
       "0     False   False   False    False   False   False   False   False    False  \\\n",
       "1     False   False   False    False   False   False   False   False    False   \n",
       "2     False   False   False    False   False   False   False   False    False   \n",
       "3     False   False   False    False   False   False   False   False    False   \n",
       "4     False   False   False    False   False   False   False   False    False   \n",
       "...     ...     ...     ...      ...     ...     ...     ...     ...      ...   \n",
       "2652  False   False   False    False   False   False   False   False    False   \n",
       "2653  False   False   False    False   False   False   False   False    False   \n",
       "2654  False   False   False    False   False   False   False   False    False   \n",
       "2655  False   False   False    False   False   False   False   False    False   \n",
       "2656  False   False   False    False   False   False   False   False    False   \n",
       "\n",
       "      CHLOC1TH  CHLOC1T  CHLOC1CH  CHLOCCT  CHTERM  CHCINT  CHCKZN  CHRMINE   \n",
       "0        False    False     False    False   False   False   False    False  \\\n",
       "1        False    False     False    False   False    True    True    False   \n",
       "2        False    False     False    False   False   False   False    False   \n",
       "3        False    False     False    False   False   False   False    False   \n",
       "4        False    False     False    False   False    True    True    False   \n",
       "...        ...      ...       ...      ...     ...     ...     ...      ...   \n",
       "2652     False    False     False    False   False   False   False    False   \n",
       "2653     False    False     False    False   False   False   False    False   \n",
       "2654     False    False     False    False   False    True    True    False   \n",
       "2655     False    False     False    False   False   False   False    False   \n",
       "2656     False    False     False    False   False    True    True    False   \n",
       "\n",
       "      CHRMINH  \n",
       "0       False  \n",
       "1       False  \n",
       "2       False  \n",
       "3       False  \n",
       "4       False  \n",
       "...       ...  \n",
       "2652    False  \n",
       "2653    False  \n",
       "2654    False  \n",
       "2655    False  \n",
       "2656    False  \n",
       "\n",
       "[2657 rows x 18 columns]"
      ]
     },
     "execution_count": 19,
     "metadata": {},
     "output_type": "execute_result"
    }
   ],
   "source": [
    "flights.isnull()"
   ]
  },
  {
   "cell_type": "code",
   "execution_count": 20,
   "metadata": {},
   "outputs": [
    {
     "data": {
      "text/plain": [
       "_id          0.000000\n",
       "CHOPER       0.000000\n",
       "CHFLTN       0.000000\n",
       "CHOPERD      0.000000\n",
       "CHSTOL       0.000000\n",
       "CHPTOL       0.000000\n",
       "CHAORD       0.000000\n",
       "CHLOC1       0.000000\n",
       "CHLOC1D      0.000000\n",
       "CHLOC1TH     0.000000\n",
       "CHLOC1T      0.000000\n",
       "CHLOC1CH     0.000000\n",
       "CHLOCCT      0.000000\n",
       "CHTERM       0.000000\n",
       "CHCINT      49.642454\n",
       "CHCKZN      49.642454\n",
       "CHRMINE      0.000000\n",
       "CHRMINH      0.000000\n",
       "dtype: float64"
      ]
     },
     "execution_count": 20,
     "metadata": {},
     "output_type": "execute_result"
    }
   ],
   "source": [
    "\n",
    "flights.isnull().sum() * 100 / len(flights)\n"
   ]
  },
  {
   "cell_type": "markdown",
   "metadata": {},
   "source": [
    "##### Dropping rows that have Null"
   ]
  },
  {
   "cell_type": "code",
   "execution_count": 21,
   "metadata": {},
   "outputs": [],
   "source": [
    "flights.dropna(inplace = True)"
   ]
  },
  {
   "cell_type": "code",
   "execution_count": 22,
   "metadata": {},
   "outputs": [
    {
     "data": {
      "text/plain": [
       "(1338, 18)"
      ]
     },
     "execution_count": 22,
     "metadata": {},
     "output_type": "execute_result"
    }
   ],
   "source": [
    "flights.shape\n"
   ]
  },
  {
   "cell_type": "markdown",
   "metadata": {},
   "source": [
    "##### Format current day "
   ]
  },
  {
   "cell_type": "code",
   "execution_count": 23,
   "metadata": {},
   "outputs": [
    {
     "name": "stdout",
     "output_type": "stream",
     "text": [
      "Today = 15_06_23\n"
     ]
    }
   ],
   "source": [
    "current_date = dt.datetime.now().strftime(\"%d_%m_%y\")\n",
    "print(\"Today =\", current_date)"
   ]
  },
  {
   "cell_type": "markdown",
   "metadata": {},
   "source": [
    "##### Drop ID column"
   ]
  },
  {
   "cell_type": "code",
   "execution_count": 24,
   "metadata": {},
   "outputs": [],
   "source": [
    "flights.drop('_id', axis=1, inplace=True)"
   ]
  },
  {
   "cell_type": "markdown",
   "metadata": {},
   "source": [
    "##### Saving into csv file "
   ]
  },
  {
   "cell_type": "code",
   "execution_count": 25,
   "metadata": {},
   "outputs": [],
   "source": [
    "filename = current_date+ ' ' + 'Flights' + '.csv'\n",
    "flights.to_csv(filename, index=False)"
   ]
  },
  {
   "cell_type": "markdown",
   "metadata": {},
   "source": [
    "##### Display only airline code and name columns without duplicates"
   ]
  },
  {
   "cell_type": "code",
   "execution_count": 26,
   "metadata": {},
   "outputs": [],
   "source": [
    "airline_df = flights[['CHOPER','CHOPERD']].drop_duplicates()\n"
   ]
  },
  {
   "cell_type": "code",
   "execution_count": 27,
   "metadata": {},
   "outputs": [
    {
     "data": {
      "text/html": [
       "<div>\n",
       "<style scoped>\n",
       "    .dataframe tbody tr th:only-of-type {\n",
       "        vertical-align: middle;\n",
       "    }\n",
       "\n",
       "    .dataframe tbody tr th {\n",
       "        vertical-align: top;\n",
       "    }\n",
       "\n",
       "    .dataframe thead th {\n",
       "        text-align: right;\n",
       "    }\n",
       "</style>\n",
       "<table border=\"1\" class=\"dataframe\">\n",
       "  <thead>\n",
       "    <tr style=\"text-align: right;\">\n",
       "      <th></th>\n",
       "      <th>CHOPER</th>\n",
       "      <th>CHOPERD</th>\n",
       "    </tr>\n",
       "  </thead>\n",
       "  <tbody>\n",
       "    <tr>\n",
       "      <th>0</th>\n",
       "      <td>W6</td>\n",
       "      <td>WIZZAIR</td>\n",
       "    </tr>\n",
       "    <tr>\n",
       "      <th>2</th>\n",
       "      <td>PC</td>\n",
       "      <td>PEGASUS AIRLINES</td>\n",
       "    </tr>\n",
       "    <tr>\n",
       "      <th>6</th>\n",
       "      <td>6H</td>\n",
       "      <td>ISRAIR AIRLINES</td>\n",
       "    </tr>\n",
       "    <tr>\n",
       "      <th>15</th>\n",
       "      <td>FR</td>\n",
       "      <td>RYANAIR</td>\n",
       "    </tr>\n",
       "    <tr>\n",
       "      <th>18</th>\n",
       "      <td>TK</td>\n",
       "      <td>TURKISH AIRLINES</td>\n",
       "    </tr>\n",
       "    <tr>\n",
       "      <th>...</th>\n",
       "      <td>...</td>\n",
       "      <td>...</td>\n",
       "    </tr>\n",
       "    <tr>\n",
       "      <th>1135</th>\n",
       "      <td>AI</td>\n",
       "      <td>AIR INDIA</td>\n",
       "    </tr>\n",
       "    <tr>\n",
       "      <th>1309</th>\n",
       "      <td>MNE</td>\n",
       "      <td>TOMONTENEGRO</td>\n",
       "    </tr>\n",
       "    <tr>\n",
       "      <th>1381</th>\n",
       "      <td>BT</td>\n",
       "      <td>AIR BALTIC</td>\n",
       "    </tr>\n",
       "    <tr>\n",
       "      <th>1562</th>\n",
       "      <td>2S</td>\n",
       "      <td>SOUTWIND AIRLINES</td>\n",
       "    </tr>\n",
       "    <tr>\n",
       "      <th>1932</th>\n",
       "      <td>KM</td>\n",
       "      <td>AIR MALTA</td>\n",
       "    </tr>\n",
       "  </tbody>\n",
       "</table>\n",
       "<p>88 rows × 2 columns</p>\n",
       "</div>"
      ],
      "text/plain": [
       "     CHOPER            CHOPERD\n",
       "0        W6            WIZZAIR\n",
       "2        PC   PEGASUS AIRLINES\n",
       "6        6H    ISRAIR AIRLINES\n",
       "15       FR            RYANAIR\n",
       "18       TK   TURKISH AIRLINES\n",
       "...     ...                ...\n",
       "1135     AI          AIR INDIA\n",
       "1309    MNE       TOMONTENEGRO\n",
       "1381     BT         AIR BALTIC\n",
       "1562     2S  SOUTWIND AIRLINES\n",
       "1932     KM          AIR MALTA\n",
       "\n",
       "[88 rows x 2 columns]"
      ]
     },
     "execution_count": 27,
     "metadata": {},
     "output_type": "execute_result"
    }
   ],
   "source": [
    "airline_df"
   ]
  },
  {
   "cell_type": "markdown",
   "metadata": {},
   "source": [
    "##### Download airlines"
   ]
  },
  {
   "cell_type": "code",
   "execution_count": 28,
   "metadata": {},
   "outputs": [],
   "source": [
    "os.chdir ('C:\\\\Users\\\\shlomit\\\\Desktop\\\\Data sets\\\\Python project')\n",
    "airlines = pd.read_csv ('airlines.csv')"
   ]
  },
  {
   "cell_type": "code",
   "execution_count": 29,
   "metadata": {},
   "outputs": [
    {
     "name": "stdout",
     "output_type": "stream",
     "text": [
      "<class 'pandas.core.frame.DataFrame'>\n",
      "RangeIndex: 100 entries, 0 to 99\n",
      "Data columns (total 2 columns):\n",
      " #   Column   Non-Null Count  Dtype \n",
      "---  ------   --------------  ----- \n",
      " 0   CHOPER   100 non-null    object\n",
      " 1   CHOPERD  100 non-null    object\n",
      "dtypes: object(2)\n",
      "memory usage: 1.7+ KB\n"
     ]
    }
   ],
   "source": [
    "airlines.info()"
   ]
  },
  {
   "cell_type": "markdown",
   "metadata": {},
   "source": [
    "##### merge and save airline DF to file "
   ]
  },
  {
   "cell_type": "code",
   "execution_count": 30,
   "metadata": {},
   "outputs": [],
   "source": [
    "airlines =  pd.concat ([airlines,airline_df])"
   ]
  },
  {
   "cell_type": "code",
   "execution_count": 31,
   "metadata": {},
   "outputs": [
    {
     "name": "stdout",
     "output_type": "stream",
     "text": [
      "<class 'pandas.core.frame.DataFrame'>\n",
      "Index: 188 entries, 0 to 1932\n",
      "Data columns (total 2 columns):\n",
      " #   Column   Non-Null Count  Dtype \n",
      "---  ------   --------------  ----- \n",
      " 0   CHOPER   188 non-null    object\n",
      " 1   CHOPERD  188 non-null    object\n",
      "dtypes: object(2)\n",
      "memory usage: 4.4+ KB\n"
     ]
    }
   ],
   "source": [
    "airlines.info()"
   ]
  },
  {
   "cell_type": "code",
   "execution_count": 32,
   "metadata": {},
   "outputs": [],
   "source": [
    "filename = current_date + ' ' + 'Airlines' + '.csv'\n",
    "airlines.to_csv(filename, index=False)"
   ]
  },
  {
   "cell_type": "markdown",
   "metadata": {},
   "source": [
    "##### Droping Airline name column"
   ]
  },
  {
   "cell_type": "code",
   "execution_count": 33,
   "metadata": {},
   "outputs": [],
   "source": [
    "flights = flights.drop('CHOPERD', axis=1)"
   ]
  },
  {
   "cell_type": "code",
   "execution_count": 34,
   "metadata": {},
   "outputs": [
    {
     "data": {
      "text/plain": [
       "Index(['CHOPER', 'CHFLTN', 'CHSTOL', 'CHPTOL', 'CHAORD', 'CHLOC1', 'CHLOC1D',\n",
       "       'CHLOC1TH', 'CHLOC1T', 'CHLOC1CH', 'CHLOCCT', 'CHTERM', 'CHCINT',\n",
       "       'CHCKZN', 'CHRMINE', 'CHRMINH'],\n",
       "      dtype='object')"
      ]
     },
     "execution_count": 34,
     "metadata": {},
     "output_type": "execute_result"
    }
   ],
   "source": [
    "flights.columns"
   ]
  },
  {
   "cell_type": "markdown",
   "metadata": {},
   "source": [
    "##### Airport - same task "
   ]
  },
  {
   "cell_type": "code",
   "execution_count": 35,
   "metadata": {},
   "outputs": [
    {
     "data": {
      "text/html": [
       "<div>\n",
       "<style scoped>\n",
       "    .dataframe tbody tr th:only-of-type {\n",
       "        vertical-align: middle;\n",
       "    }\n",
       "\n",
       "    .dataframe tbody tr th {\n",
       "        vertical-align: top;\n",
       "    }\n",
       "\n",
       "    .dataframe thead th {\n",
       "        text-align: right;\n",
       "    }\n",
       "</style>\n",
       "<table border=\"1\" class=\"dataframe\">\n",
       "  <thead>\n",
       "    <tr style=\"text-align: right;\">\n",
       "      <th></th>\n",
       "      <th>CHLOC1</th>\n",
       "      <th>CHLOC1D</th>\n",
       "    </tr>\n",
       "  </thead>\n",
       "  <tbody>\n",
       "    <tr>\n",
       "      <th>0</th>\n",
       "      <td>BUD</td>\n",
       "      <td>BUDAPEST</td>\n",
       "    </tr>\n",
       "    <tr>\n",
       "      <th>2</th>\n",
       "      <td>AYT</td>\n",
       "      <td>ANTALYA</td>\n",
       "    </tr>\n",
       "    <tr>\n",
       "      <th>3</th>\n",
       "      <td>NAP</td>\n",
       "      <td>NAPLES-CAPODICHINO</td>\n",
       "    </tr>\n",
       "  </tbody>\n",
       "</table>\n",
       "</div>"
      ],
      "text/plain": [
       "  CHLOC1             CHLOC1D\n",
       "0    BUD            BUDAPEST\n",
       "2    AYT             ANTALYA\n",
       "3    NAP  NAPLES-CAPODICHINO"
      ]
     },
     "execution_count": 35,
     "metadata": {},
     "output_type": "execute_result"
    }
   ],
   "source": [
    "airport_df = flights[['CHLOC1','CHLOC1D']].drop_duplicates()\n",
    "airport_df.head (3)"
   ]
  },
  {
   "cell_type": "code",
   "execution_count": 36,
   "metadata": {},
   "outputs": [
    {
     "data": {
      "text/html": [
       "<div>\n",
       "<style scoped>\n",
       "    .dataframe tbody tr th:only-of-type {\n",
       "        vertical-align: middle;\n",
       "    }\n",
       "\n",
       "    .dataframe tbody tr th {\n",
       "        vertical-align: top;\n",
       "    }\n",
       "\n",
       "    .dataframe thead th {\n",
       "        text-align: right;\n",
       "    }\n",
       "</style>\n",
       "<table border=\"1\" class=\"dataframe\">\n",
       "  <thead>\n",
       "    <tr style=\"text-align: right;\">\n",
       "      <th></th>\n",
       "      <th>CHLOC1</th>\n",
       "      <th>CHLOC1D</th>\n",
       "    </tr>\n",
       "  </thead>\n",
       "  <tbody>\n",
       "    <tr>\n",
       "      <th>0</th>\n",
       "      <td>SAW</td>\n",
       "      <td>ISTANBUL-SABIHA GOKCHEN</td>\n",
       "    </tr>\n",
       "    <tr>\n",
       "      <th>1</th>\n",
       "      <td>PRG</td>\n",
       "      <td>PRAGUE-RUZYNE</td>\n",
       "    </tr>\n",
       "    <tr>\n",
       "      <th>2</th>\n",
       "      <td>IST</td>\n",
       "      <td>ISTANBUL</td>\n",
       "    </tr>\n",
       "  </tbody>\n",
       "</table>\n",
       "</div>"
      ],
      "text/plain": [
       "  CHLOC1                  CHLOC1D\n",
       "0    SAW  ISTANBUL-SABIHA GOKCHEN\n",
       "1    PRG            PRAGUE-RUZYNE\n",
       "2    IST                 ISTANBUL"
      ]
     },
     "execution_count": 36,
     "metadata": {},
     "output_type": "execute_result"
    }
   ],
   "source": [
    "airport = pd.read_csv ('airports.csv')\n",
    "airport.head (3)"
   ]
  },
  {
   "cell_type": "code",
   "execution_count": 37,
   "metadata": {},
   "outputs": [
    {
     "name": "stdout",
     "output_type": "stream",
     "text": [
      "<class 'pandas.core.frame.DataFrame'>\n",
      "RangeIndex: 165 entries, 0 to 164\n",
      "Data columns (total 2 columns):\n",
      " #   Column   Non-Null Count  Dtype \n",
      "---  ------   --------------  ----- \n",
      " 0   CHLOC1   165 non-null    object\n",
      " 1   CHLOC1D  165 non-null    object\n",
      "dtypes: object(2)\n",
      "memory usage: 2.7+ KB\n"
     ]
    }
   ],
   "source": [
    "airport.info()"
   ]
  },
  {
   "cell_type": "code",
   "execution_count": 38,
   "metadata": {},
   "outputs": [
    {
     "name": "stdout",
     "output_type": "stream",
     "text": [
      "<class 'pandas.core.frame.DataFrame'>\n",
      "Index: 289 entries, 0 to 2188\n",
      "Data columns (total 2 columns):\n",
      " #   Column   Non-Null Count  Dtype \n",
      "---  ------   --------------  ----- \n",
      " 0   CHLOC1   289 non-null    object\n",
      " 1   CHLOC1D  289 non-null    object\n",
      "dtypes: object(2)\n",
      "memory usage: 6.8+ KB\n"
     ]
    }
   ],
   "source": [
    "airport =  pd.concat ([airport,airport_df])\n",
    "airport.info()"
   ]
  },
  {
   "cell_type": "markdown",
   "metadata": {},
   "source": [
    "##### Droping Hebrew columns "
   ]
  },
  {
   "cell_type": "code",
   "execution_count": 39,
   "metadata": {},
   "outputs": [],
   "source": [
    "flights = flights.drop (['CHLOC1CH' , 'CHLOC1TH' , 'CHRMINH' ],axis=1)"
   ]
  },
  {
   "cell_type": "code",
   "execution_count": 40,
   "metadata": {},
   "outputs": [
    {
     "data": {
      "text/html": [
       "<div>\n",
       "<style scoped>\n",
       "    .dataframe tbody tr th:only-of-type {\n",
       "        vertical-align: middle;\n",
       "    }\n",
       "\n",
       "    .dataframe tbody tr th {\n",
       "        vertical-align: top;\n",
       "    }\n",
       "\n",
       "    .dataframe thead th {\n",
       "        text-align: right;\n",
       "    }\n",
       "</style>\n",
       "<table border=\"1\" class=\"dataframe\">\n",
       "  <thead>\n",
       "    <tr style=\"text-align: right;\">\n",
       "      <th></th>\n",
       "      <th>CHOPER</th>\n",
       "      <th>CHFLTN</th>\n",
       "      <th>CHSTOL</th>\n",
       "      <th>CHPTOL</th>\n",
       "      <th>CHAORD</th>\n",
       "      <th>CHLOC1</th>\n",
       "      <th>CHLOC1D</th>\n",
       "      <th>CHLOC1T</th>\n",
       "      <th>CHLOCCT</th>\n",
       "      <th>CHTERM</th>\n",
       "      <th>CHCINT</th>\n",
       "      <th>CHCKZN</th>\n",
       "      <th>CHRMINE</th>\n",
       "    </tr>\n",
       "  </thead>\n",
       "  <tbody>\n",
       "    <tr>\n",
       "      <th>0</th>\n",
       "      <td>W6</td>\n",
       "      <td>2326</td>\n",
       "      <td>2023-06-14T10:55:00</td>\n",
       "      <td>2023-06-14T11:33:00</td>\n",
       "      <td>D</td>\n",
       "      <td>BUD</td>\n",
       "      <td>BUDAPEST</td>\n",
       "      <td>BUDAPEST</td>\n",
       "      <td>HUNGARY</td>\n",
       "      <td>1</td>\n",
       "      <td>312-320</td>\n",
       "      <td>A</td>\n",
       "      <td>DEPARTED</td>\n",
       "    </tr>\n",
       "    <tr>\n",
       "      <th>2</th>\n",
       "      <td>PC</td>\n",
       "      <td>792</td>\n",
       "      <td>2023-06-14T10:55:00</td>\n",
       "      <td>2023-06-14T11:42:00</td>\n",
       "      <td>D</td>\n",
       "      <td>AYT</td>\n",
       "      <td>ANTALYA</td>\n",
       "      <td>ANTALYA</td>\n",
       "      <td>TURKEY</td>\n",
       "      <td>1</td>\n",
       "      <td>355-360</td>\n",
       "      <td>C</td>\n",
       "      <td>DEPARTED</td>\n",
       "    </tr>\n",
       "    <tr>\n",
       "      <th>3</th>\n",
       "      <td>W6</td>\n",
       "      <td>8430</td>\n",
       "      <td>2023-06-14T11:05:00</td>\n",
       "      <td>2023-06-14T11:45:00</td>\n",
       "      <td>D</td>\n",
       "      <td>NAP</td>\n",
       "      <td>NAPLES-CAPODICHINO</td>\n",
       "      <td>NAPLES</td>\n",
       "      <td>ITALY</td>\n",
       "      <td>1</td>\n",
       "      <td>312-320</td>\n",
       "      <td>A</td>\n",
       "      <td>DEPARTED</td>\n",
       "    </tr>\n",
       "  </tbody>\n",
       "</table>\n",
       "</div>"
      ],
      "text/plain": [
       "  CHOPER CHFLTN               CHSTOL               CHPTOL CHAORD CHLOC1   \n",
       "0     W6   2326  2023-06-14T10:55:00  2023-06-14T11:33:00      D    BUD  \\\n",
       "2     PC    792  2023-06-14T10:55:00  2023-06-14T11:42:00      D    AYT   \n",
       "3     W6   8430  2023-06-14T11:05:00  2023-06-14T11:45:00      D    NAP   \n",
       "\n",
       "              CHLOC1D   CHLOC1T  CHLOCCT CHTERM   CHCINT CHCKZN   CHRMINE  \n",
       "0            BUDAPEST  BUDAPEST  HUNGARY      1  312-320      A  DEPARTED  \n",
       "2             ANTALYA   ANTALYA   TURKEY      1  355-360      C  DEPARTED  \n",
       "3  NAPLES-CAPODICHINO    NAPLES    ITALY      1  312-320      A  DEPARTED  "
      ]
     },
     "execution_count": 40,
     "metadata": {},
     "output_type": "execute_result"
    }
   ],
   "source": [
    "flights.head(3)"
   ]
  },
  {
   "cell_type": "markdown",
   "metadata": {},
   "source": [
    "##### Columns rename "
   ]
  },
  {
   "cell_type": "code",
   "execution_count": 41,
   "metadata": {},
   "outputs": [
    {
     "data": {
      "text/plain": [
       "Index(['CHOPER', 'CHFLTN', 'CHSTOL', 'CHPTOL', 'CHAORD', 'CHLOC1', 'CHLOC1D',\n",
       "       'CHLOC1T', 'CHLOCCT', 'CHTERM', 'CHCINT', 'CHCKZN', 'CHRMINE'],\n",
       "      dtype='object')"
      ]
     },
     "execution_count": 41,
     "metadata": {},
     "output_type": "execute_result"
    }
   ],
   "source": [
    "flights.columns"
   ]
  },
  {
   "cell_type": "code",
   "execution_count": 42,
   "metadata": {},
   "outputs": [],
   "source": [
    "flights = flights.rename (columns = {'CHOPER':'Airline',         'CHFLTN':'FlightNum' ,\n",
    "                                     'CHSTOL':'PlanTime',        'CHPTOL': 'ActualTime',\n",
    "                                     'CHAORD':'Direction',       'CHLOC1': 'Airport',\n",
    "                                     'CHLOC1D': 'Airport Name',  'CHLOC1T': 'City',\n",
    "                                     'CHLOCCT': 'Country' ,      'CHTERM': 'Terminal',\n",
    "                                     'CHCINT': 'Sleeve',         'CHCKZN': 'Landing strip',\n",
    "                                     'CHRMINE':'Status' })"
   ]
  },
  {
   "cell_type": "code",
   "execution_count": 43,
   "metadata": {},
   "outputs": [
    {
     "data": {
      "text/plain": [
       "Index(['Airline', 'FlightNum', 'PlanTime', 'ActualTime', 'Direction',\n",
       "       'Airport', 'Airport Name', 'City', 'Country', 'Terminal', 'Sleeve',\n",
       "       'Landing strip', 'Status'],\n",
       "      dtype='object')"
      ]
     },
     "execution_count": 43,
     "metadata": {},
     "output_type": "execute_result"
    }
   ],
   "source": [
    "flights.columns"
   ]
  },
  {
   "cell_type": "markdown",
   "metadata": {},
   "source": [
    "##### Changes datetime type"
   ]
  },
  {
   "cell_type": "code",
   "execution_count": 44,
   "metadata": {},
   "outputs": [],
   "source": [
    "flights.PlanTime = pd.to_datetime(flights.PlanTime)\n",
    "flights.ActualTime = pd.to_datetime(flights.ActualTime)"
   ]
  },
  {
   "cell_type": "code",
   "execution_count": 45,
   "metadata": {},
   "outputs": [
    {
     "name": "stdout",
     "output_type": "stream",
     "text": [
      "<class 'pandas.core.frame.DataFrame'>\n",
      "Index: 1338 entries, 0 to 2655\n",
      "Data columns (total 13 columns):\n",
      " #   Column         Non-Null Count  Dtype         \n",
      "---  ------         --------------  -----         \n",
      " 0   Airline        1338 non-null   object        \n",
      " 1   FlightNum      1338 non-null   object        \n",
      " 2   PlanTime       1338 non-null   datetime64[ns]\n",
      " 3   ActualTime     1338 non-null   datetime64[ns]\n",
      " 4   Direction      1338 non-null   object        \n",
      " 5   Airport        1338 non-null   object        \n",
      " 6   Airport Name   1338 non-null   object        \n",
      " 7   City           1338 non-null   object        \n",
      " 8   Country        1338 non-null   object        \n",
      " 9   Terminal       1338 non-null   object        \n",
      " 10  Sleeve         1338 non-null   object        \n",
      " 11  Landing strip  1338 non-null   object        \n",
      " 12  Status         1338 non-null   object        \n",
      "dtypes: datetime64[ns](2), object(11)\n",
      "memory usage: 146.3+ KB\n"
     ]
    }
   ],
   "source": [
    "flights.info()"
   ]
  },
  {
   "cell_type": "markdown",
   "metadata": {},
   "source": [
    "##### Saving DF to Clean Data file"
   ]
  },
  {
   "cell_type": "code",
   "execution_count": 46,
   "metadata": {},
   "outputs": [],
   "source": [
    "filename = current_date+ ' ' + 'Clean' + '.csv'\n",
    "flights.to_csv(filename, index=False)"
   ]
  },
  {
   "cell_type": "markdown",
   "metadata": {},
   "source": [
    "##### Preparing Final data and save as new file "
   ]
  },
  {
   "cell_type": "code",
   "execution_count": 47,
   "metadata": {},
   "outputs": [
    {
     "data": {
      "text/plain": [
       "Index(['Airline', 'FlightNum', 'PlanTime', 'ActualTime', 'Direction',\n",
       "       'Airport', 'City', 'Country', 'Terminal', 'Status'],\n",
       "      dtype='object')"
      ]
     },
     "execution_count": 47,
     "metadata": {},
     "output_type": "execute_result"
    }
   ],
   "source": [
    "final = pd.read_csv ('final.csv')\n",
    "final.columns "
   ]
  },
  {
   "cell_type": "code",
   "execution_count": 48,
   "metadata": {},
   "outputs": [
    {
     "data": {
      "text/plain": [
       "Index(['Airline', 'FlightNum', 'PlanTime', 'ActualTime', 'Direction',\n",
       "       'Airport', 'Airport Name', 'City', 'Country', 'Terminal', 'Sleeve',\n",
       "       'Landing strip', 'Status'],\n",
       "      dtype='object')"
      ]
     },
     "execution_count": 48,
     "metadata": {},
     "output_type": "execute_result"
    }
   ],
   "source": [
    "flights.columns"
   ]
  },
  {
   "cell_type": "code",
   "execution_count": 49,
   "metadata": {},
   "outputs": [],
   "source": [
    "flights = flights.drop (['Airport Name' , 'Sleeve' , 'Landing strip' ],axis=1)"
   ]
  },
  {
   "cell_type": "code",
   "execution_count": 50,
   "metadata": {},
   "outputs": [
    {
     "data": {
      "text/plain": [
       "Index(['Airline', 'FlightNum', 'PlanTime', 'ActualTime', 'Direction',\n",
       "       'Airport', 'City', 'Country', 'Terminal', 'Status'],\n",
       "      dtype='object')"
      ]
     },
     "execution_count": 50,
     "metadata": {},
     "output_type": "execute_result"
    }
   ],
   "source": [
    "flights.columns"
   ]
  },
  {
   "cell_type": "code",
   "execution_count": 51,
   "metadata": {},
   "outputs": [
    {
     "data": {
      "text/plain": [
       "array(['DEPARTED', 'DEPARTED', 'DEPARTED', ..., 'ON TIME', 'ON TIME',\n",
       "       'ON TIME'], dtype=object)"
      ]
     },
     "execution_count": 51,
     "metadata": {},
     "output_type": "execute_result"
    }
   ],
   "source": [
    "flights.Status.values"
   ]
  },
  {
   "cell_type": "code",
   "execution_count": 52,
   "metadata": {},
   "outputs": [],
   "source": [
    "final_df = flights[flights.Status.isin(['LANDED', 'CANCELED'])]"
   ]
  },
  {
   "cell_type": "code",
   "execution_count": 53,
   "metadata": {},
   "outputs": [
    {
     "data": {
      "text/html": [
       "<div>\n",
       "<style scoped>\n",
       "    .dataframe tbody tr th:only-of-type {\n",
       "        vertical-align: middle;\n",
       "    }\n",
       "\n",
       "    .dataframe tbody tr th {\n",
       "        vertical-align: top;\n",
       "    }\n",
       "\n",
       "    .dataframe thead th {\n",
       "        text-align: right;\n",
       "    }\n",
       "</style>\n",
       "<table border=\"1\" class=\"dataframe\">\n",
       "  <thead>\n",
       "    <tr style=\"text-align: right;\">\n",
       "      <th></th>\n",
       "      <th>Airline</th>\n",
       "      <th>FlightNum</th>\n",
       "      <th>PlanTime</th>\n",
       "      <th>ActualTime</th>\n",
       "      <th>Direction</th>\n",
       "      <th>Airport</th>\n",
       "      <th>City</th>\n",
       "      <th>Country</th>\n",
       "      <th>Terminal</th>\n",
       "      <th>Status</th>\n",
       "    </tr>\n",
       "  </thead>\n",
       "  <tbody>\n",
       "    <tr>\n",
       "      <th>92</th>\n",
       "      <td>AM</td>\n",
       "      <td>7865</td>\n",
       "      <td>2023-06-14 14:55:00</td>\n",
       "      <td>2023-06-14 14:55:00</td>\n",
       "      <td>D</td>\n",
       "      <td>JFK</td>\n",
       "      <td>NEW YORK</td>\n",
       "      <td>UNITED STATES</td>\n",
       "      <td>3</td>\n",
       "      <td>CANCELED</td>\n",
       "    </tr>\n",
       "    <tr>\n",
       "      <th>93</th>\n",
       "      <td>AR</td>\n",
       "      <td>7857</td>\n",
       "      <td>2023-06-14 14:55:00</td>\n",
       "      <td>2023-06-14 14:55:00</td>\n",
       "      <td>D</td>\n",
       "      <td>JFK</td>\n",
       "      <td>NEW YORK</td>\n",
       "      <td>UNITED STATES</td>\n",
       "      <td>3</td>\n",
       "      <td>CANCELED</td>\n",
       "    </tr>\n",
       "    <tr>\n",
       "      <th>94</th>\n",
       "      <td>B6</td>\n",
       "      <td>6457</td>\n",
       "      <td>2023-06-14 14:55:00</td>\n",
       "      <td>2023-06-14 14:55:00</td>\n",
       "      <td>D</td>\n",
       "      <td>JFK</td>\n",
       "      <td>NEW YORK</td>\n",
       "      <td>UNITED STATES</td>\n",
       "      <td>3</td>\n",
       "      <td>CANCELED</td>\n",
       "    </tr>\n",
       "    <tr>\n",
       "      <th>96</th>\n",
       "      <td>LY</td>\n",
       "      <td>011</td>\n",
       "      <td>2023-06-14 14:55:00</td>\n",
       "      <td>2023-06-14 14:55:00</td>\n",
       "      <td>D</td>\n",
       "      <td>JFK</td>\n",
       "      <td>NEW YORK</td>\n",
       "      <td>UNITED STATES</td>\n",
       "      <td>3</td>\n",
       "      <td>CANCELED</td>\n",
       "    </tr>\n",
       "    <tr>\n",
       "      <th>718</th>\n",
       "      <td>EK</td>\n",
       "      <td>2370</td>\n",
       "      <td>2023-06-15 11:00:00</td>\n",
       "      <td>2023-06-15 11:00:00</td>\n",
       "      <td>D</td>\n",
       "      <td>DXB</td>\n",
       "      <td>DUBAI</td>\n",
       "      <td>UNITED ARAB EMIRATES</td>\n",
       "      <td>3</td>\n",
       "      <td>CANCELED</td>\n",
       "    </tr>\n",
       "    <tr>\n",
       "      <th>719</th>\n",
       "      <td>FZ</td>\n",
       "      <td>1550</td>\n",
       "      <td>2023-06-15 11:00:00</td>\n",
       "      <td>2023-06-15 11:00:00</td>\n",
       "      <td>D</td>\n",
       "      <td>DXB</td>\n",
       "      <td>DUBAI</td>\n",
       "      <td>UNITED ARAB EMIRATES</td>\n",
       "      <td>3</td>\n",
       "      <td>CANCELED</td>\n",
       "    </tr>\n",
       "  </tbody>\n",
       "</table>\n",
       "</div>"
      ],
      "text/plain": [
       "    Airline FlightNum            PlanTime          ActualTime Direction   \n",
       "92       AM      7865 2023-06-14 14:55:00 2023-06-14 14:55:00         D  \\\n",
       "93       AR      7857 2023-06-14 14:55:00 2023-06-14 14:55:00         D   \n",
       "94       B6      6457 2023-06-14 14:55:00 2023-06-14 14:55:00         D   \n",
       "96       LY       011 2023-06-14 14:55:00 2023-06-14 14:55:00         D   \n",
       "718      EK      2370 2023-06-15 11:00:00 2023-06-15 11:00:00         D   \n",
       "719      FZ      1550 2023-06-15 11:00:00 2023-06-15 11:00:00         D   \n",
       "\n",
       "    Airport      City               Country Terminal    Status  \n",
       "92      JFK  NEW YORK         UNITED STATES        3  CANCELED  \n",
       "93      JFK  NEW YORK         UNITED STATES        3  CANCELED  \n",
       "94      JFK  NEW YORK         UNITED STATES        3  CANCELED  \n",
       "96      JFK  NEW YORK         UNITED STATES        3  CANCELED  \n",
       "718     DXB     DUBAI  UNITED ARAB EMIRATES        3  CANCELED  \n",
       "719     DXB     DUBAI  UNITED ARAB EMIRATES        3  CANCELED  "
      ]
     },
     "execution_count": 53,
     "metadata": {},
     "output_type": "execute_result"
    }
   ],
   "source": [
    "final_df"
   ]
  },
  {
   "cell_type": "code",
   "execution_count": 54,
   "metadata": {},
   "outputs": [
    {
     "data": {
      "text/plain": [
       "(658, 10)"
      ]
     },
     "execution_count": 54,
     "metadata": {},
     "output_type": "execute_result"
    }
   ],
   "source": [
    "final.shape"
   ]
  },
  {
   "cell_type": "code",
   "execution_count": 55,
   "metadata": {},
   "outputs": [],
   "source": [
    "final =  pd.concat ([final,final_df])"
   ]
  },
  {
   "cell_type": "code",
   "execution_count": 56,
   "metadata": {},
   "outputs": [
    {
     "data": {
      "text/plain": [
       "(664, 10)"
      ]
     },
     "execution_count": 56,
     "metadata": {},
     "output_type": "execute_result"
    }
   ],
   "source": [
    "final.shape"
   ]
  },
  {
   "cell_type": "code",
   "execution_count": 57,
   "metadata": {},
   "outputs": [],
   "source": [
    "filename = current_date+ ' ' + 'final' + '.csv'\n",
    "final.to_csv(filename, index=False)"
   ]
  },
  {
   "cell_type": "markdown",
   "metadata": {},
   "source": [
    "##### Add a new column for total delay in minutes"
   ]
  },
  {
   "cell_type": "code",
   "execution_count": 58,
   "metadata": {},
   "outputs": [],
   "source": [
    "flights['difference_minutes'] = ( flights.ActualTime - flights.PlanTime).dt.total_seconds() / 60"
   ]
  },
  {
   "cell_type": "code",
   "execution_count": 59,
   "metadata": {},
   "outputs": [
    {
     "data": {
      "text/html": [
       "<div>\n",
       "<style scoped>\n",
       "    .dataframe tbody tr th:only-of-type {\n",
       "        vertical-align: middle;\n",
       "    }\n",
       "\n",
       "    .dataframe tbody tr th {\n",
       "        vertical-align: top;\n",
       "    }\n",
       "\n",
       "    .dataframe thead th {\n",
       "        text-align: right;\n",
       "    }\n",
       "</style>\n",
       "<table border=\"1\" class=\"dataframe\">\n",
       "  <thead>\n",
       "    <tr style=\"text-align: right;\">\n",
       "      <th></th>\n",
       "      <th>Airline</th>\n",
       "      <th>FlightNum</th>\n",
       "      <th>PlanTime</th>\n",
       "      <th>ActualTime</th>\n",
       "      <th>Direction</th>\n",
       "      <th>Airport</th>\n",
       "      <th>City</th>\n",
       "      <th>Country</th>\n",
       "      <th>Terminal</th>\n",
       "      <th>Status</th>\n",
       "      <th>difference_minutes</th>\n",
       "    </tr>\n",
       "  </thead>\n",
       "  <tbody>\n",
       "    <tr>\n",
       "      <th>0</th>\n",
       "      <td>W6</td>\n",
       "      <td>2326</td>\n",
       "      <td>2023-06-14 10:55:00</td>\n",
       "      <td>2023-06-14 11:33:00</td>\n",
       "      <td>D</td>\n",
       "      <td>BUD</td>\n",
       "      <td>BUDAPEST</td>\n",
       "      <td>HUNGARY</td>\n",
       "      <td>1</td>\n",
       "      <td>DEPARTED</td>\n",
       "      <td>38.0</td>\n",
       "    </tr>\n",
       "    <tr>\n",
       "      <th>2</th>\n",
       "      <td>PC</td>\n",
       "      <td>792</td>\n",
       "      <td>2023-06-14 10:55:00</td>\n",
       "      <td>2023-06-14 11:42:00</td>\n",
       "      <td>D</td>\n",
       "      <td>AYT</td>\n",
       "      <td>ANTALYA</td>\n",
       "      <td>TURKEY</td>\n",
       "      <td>1</td>\n",
       "      <td>DEPARTED</td>\n",
       "      <td>47.0</td>\n",
       "    </tr>\n",
       "    <tr>\n",
       "      <th>3</th>\n",
       "      <td>W6</td>\n",
       "      <td>8430</td>\n",
       "      <td>2023-06-14 11:05:00</td>\n",
       "      <td>2023-06-14 11:45:00</td>\n",
       "      <td>D</td>\n",
       "      <td>NAP</td>\n",
       "      <td>NAPLES</td>\n",
       "      <td>ITALY</td>\n",
       "      <td>1</td>\n",
       "      <td>DEPARTED</td>\n",
       "      <td>40.0</td>\n",
       "    </tr>\n",
       "  </tbody>\n",
       "</table>\n",
       "</div>"
      ],
      "text/plain": [
       "  Airline FlightNum            PlanTime          ActualTime Direction Airport   \n",
       "0      W6      2326 2023-06-14 10:55:00 2023-06-14 11:33:00         D     BUD  \\\n",
       "2      PC       792 2023-06-14 10:55:00 2023-06-14 11:42:00         D     AYT   \n",
       "3      W6      8430 2023-06-14 11:05:00 2023-06-14 11:45:00         D     NAP   \n",
       "\n",
       "       City  Country Terminal    Status  difference_minutes  \n",
       "0  BUDAPEST  HUNGARY        1  DEPARTED                38.0  \n",
       "2   ANTALYA   TURKEY        1  DEPARTED                47.0  \n",
       "3    NAPLES    ITALY        1  DEPARTED                40.0  "
      ]
     },
     "execution_count": 59,
     "metadata": {},
     "output_type": "execute_result"
    }
   ],
   "source": [
    "flights.head (3)"
   ]
  },
  {
   "cell_type": "markdown",
   "metadata": {},
   "source": [
    "##### Average delay for departed flights"
   ]
  },
  {
   "cell_type": "code",
   "execution_count": 60,
   "metadata": {},
   "outputs": [
    {
     "data": {
      "text/plain": [
       "37.43490304709141"
      ]
     },
     "execution_count": 60,
     "metadata": {},
     "output_type": "execute_result"
    }
   ],
   "source": [
    "flights [ flights.Status == 'DEPARTED'].difference_minutes.mean()"
   ]
  },
  {
   "cell_type": "markdown",
   "metadata": {},
   "source": [
    "#####  Total delay for Airlines , Terminals, Date"
   ]
  },
  {
   "cell_type": "code",
   "execution_count": 61,
   "metadata": {},
   "outputs": [],
   "source": [
    "delay_distribution = flights.groupby(['Airline', 'Terminal'])['difference_minutes'].sum().to_frame()"
   ]
  },
  {
   "cell_type": "code",
   "execution_count": 62,
   "metadata": {},
   "outputs": [
    {
     "data": {
      "text/html": [
       "<div>\n",
       "<style scoped>\n",
       "    .dataframe tbody tr th:only-of-type {\n",
       "        vertical-align: middle;\n",
       "    }\n",
       "\n",
       "    .dataframe tbody tr th {\n",
       "        vertical-align: top;\n",
       "    }\n",
       "\n",
       "    .dataframe thead th {\n",
       "        text-align: right;\n",
       "    }\n",
       "</style>\n",
       "<table border=\"1\" class=\"dataframe\">\n",
       "  <thead>\n",
       "    <tr style=\"text-align: right;\">\n",
       "      <th></th>\n",
       "      <th></th>\n",
       "      <th>difference_minutes</th>\n",
       "    </tr>\n",
       "    <tr>\n",
       "      <th>Airline</th>\n",
       "      <th>Terminal</th>\n",
       "      <th></th>\n",
       "    </tr>\n",
       "  </thead>\n",
       "  <tbody>\n",
       "    <tr>\n",
       "      <th>2S</th>\n",
       "      <th>3</th>\n",
       "      <td>0.0</td>\n",
       "    </tr>\n",
       "    <tr>\n",
       "      <th>5F</th>\n",
       "      <th>3</th>\n",
       "      <td>0.0</td>\n",
       "    </tr>\n",
       "    <tr>\n",
       "      <th>5W</th>\n",
       "      <th>3</th>\n",
       "      <td>0.0</td>\n",
       "    </tr>\n",
       "  </tbody>\n",
       "</table>\n",
       "</div>"
      ],
      "text/plain": [
       "                  difference_minutes\n",
       "Airline Terminal                    \n",
       "2S      3                        0.0\n",
       "5F      3                        0.0\n",
       "5W      3                        0.0"
      ]
     },
     "execution_count": 62,
     "metadata": {},
     "output_type": "execute_result"
    }
   ],
   "source": [
    "delay_distribution.head(3)"
   ]
  },
  {
   "cell_type": "code",
   "execution_count": 63,
   "metadata": {},
   "outputs": [
    {
     "data": {
      "text/plain": [
       "Airline  Terminal\n",
       "LY       3           2059.0\n",
       "W6       1            904.0\n",
       "FR       1            602.0\n",
       "TK       3            577.0\n",
       "B6       3            431.0\n",
       "Name: difference_minutes, dtype: float64"
      ]
     },
     "execution_count": 63,
     "metadata": {},
     "output_type": "execute_result"
    }
   ],
   "source": [
    "delay_distribution.difference_minutes.nlargest()"
   ]
  },
  {
   "cell_type": "code",
   "execution_count": 64,
   "metadata": {},
   "outputs": [
    {
     "data": {
      "text/plain": [
       "Airline  Terminal\n",
       "2S       3           0.0\n",
       "5F       3           0.0\n",
       "5W       3           0.0\n",
       "AI       3           0.0\n",
       "BT       3           0.0\n",
       "Name: difference_minutes, dtype: float64"
      ]
     },
     "execution_count": 64,
     "metadata": {},
     "output_type": "execute_result"
    }
   ],
   "source": [
    "delay_distribution.difference_minutes.nsmallest()"
   ]
  },
  {
   "cell_type": "code",
   "execution_count": null,
   "metadata": {},
   "outputs": [],
   "source": []
  },
  {
   "cell_type": "markdown",
   "metadata": {},
   "source": [
    "## Create 3 diffrent visualizations with your analyzation"
   ]
  },
  {
   "cell_type": "code",
   "execution_count": 65,
   "metadata": {},
   "outputs": [
    {
     "data": {
      "text/html": [
       "<div>\n",
       "<style scoped>\n",
       "    .dataframe tbody tr th:only-of-type {\n",
       "        vertical-align: middle;\n",
       "    }\n",
       "\n",
       "    .dataframe tbody tr th {\n",
       "        vertical-align: top;\n",
       "    }\n",
       "\n",
       "    .dataframe thead th {\n",
       "        text-align: right;\n",
       "    }\n",
       "</style>\n",
       "<table border=\"1\" class=\"dataframe\">\n",
       "  <thead>\n",
       "    <tr style=\"text-align: right;\">\n",
       "      <th></th>\n",
       "      <th>PlanTime</th>\n",
       "      <th>ActualTime</th>\n",
       "      <th>difference_minutes</th>\n",
       "    </tr>\n",
       "  </thead>\n",
       "  <tbody>\n",
       "    <tr>\n",
       "      <th>count</th>\n",
       "      <td>1338</td>\n",
       "      <td>1338</td>\n",
       "      <td>1338.000000</td>\n",
       "    </tr>\n",
       "    <tr>\n",
       "      <th>mean</th>\n",
       "      <td>2023-06-16 09:10:10.313901312</td>\n",
       "      <td>2023-06-16 09:20:38.968609792</td>\n",
       "      <td>10.477578</td>\n",
       "    </tr>\n",
       "    <tr>\n",
       "      <th>min</th>\n",
       "      <td>2023-06-14 10:55:00</td>\n",
       "      <td>2023-06-14 11:33:00</td>\n",
       "      <td>-13.000000</td>\n",
       "    </tr>\n",
       "    <tr>\n",
       "      <th>25%</th>\n",
       "      <td>2023-06-15 09:01:15</td>\n",
       "      <td>2023-06-15 09:38:15</td>\n",
       "      <td>0.000000</td>\n",
       "    </tr>\n",
       "    <tr>\n",
       "      <th>50%</th>\n",
       "      <td>2023-06-16 06:12:30</td>\n",
       "      <td>2023-06-16 06:12:30</td>\n",
       "      <td>0.000000</td>\n",
       "    </tr>\n",
       "    <tr>\n",
       "      <th>75%</th>\n",
       "      <td>2023-06-17 11:13:45</td>\n",
       "      <td>2023-06-17 11:13:45</td>\n",
       "      <td>14.000000</td>\n",
       "    </tr>\n",
       "    <tr>\n",
       "      <th>max</th>\n",
       "      <td>2023-06-18 11:30:00</td>\n",
       "      <td>2023-06-18 11:30:00</td>\n",
       "      <td>276.000000</td>\n",
       "    </tr>\n",
       "    <tr>\n",
       "      <th>std</th>\n",
       "      <td>NaN</td>\n",
       "      <td>NaN</td>\n",
       "      <td>23.542317</td>\n",
       "    </tr>\n",
       "  </tbody>\n",
       "</table>\n",
       "</div>"
      ],
      "text/plain": [
       "                            PlanTime                     ActualTime   \n",
       "count                           1338                           1338  \\\n",
       "mean   2023-06-16 09:10:10.313901312  2023-06-16 09:20:38.968609792   \n",
       "min              2023-06-14 10:55:00            2023-06-14 11:33:00   \n",
       "25%              2023-06-15 09:01:15            2023-06-15 09:38:15   \n",
       "50%              2023-06-16 06:12:30            2023-06-16 06:12:30   \n",
       "75%              2023-06-17 11:13:45            2023-06-17 11:13:45   \n",
       "max              2023-06-18 11:30:00            2023-06-18 11:30:00   \n",
       "std                              NaN                            NaN   \n",
       "\n",
       "       difference_minutes  \n",
       "count         1338.000000  \n",
       "mean            10.477578  \n",
       "min            -13.000000  \n",
       "25%              0.000000  \n",
       "50%              0.000000  \n",
       "75%             14.000000  \n",
       "max            276.000000  \n",
       "std             23.542317  "
      ]
     },
     "execution_count": 65,
     "metadata": {},
     "output_type": "execute_result"
    }
   ],
   "source": [
    "flights.describe()"
   ]
  },
  {
   "cell_type": "code",
   "execution_count": 66,
   "metadata": {},
   "outputs": [
    {
     "data": {
      "text/plain": [
       "Index(['Airline', 'FlightNum', 'PlanTime', 'ActualTime', 'Direction',\n",
       "       'Airport', 'City', 'Country', 'Terminal', 'Status',\n",
       "       'difference_minutes'],\n",
       "      dtype='object')"
      ]
     },
     "execution_count": 66,
     "metadata": {},
     "output_type": "execute_result"
    }
   ],
   "source": [
    "flights.columns"
   ]
  },
  {
   "cell_type": "markdown",
   "metadata": {},
   "source": [
    "#### Is there a connection between the airlines and delay times "
   ]
  },
  {
   "cell_type": "markdown",
   "metadata": {},
   "source": [
    "checking delay precantuge  on each airlaine"
   ]
  },
  {
   "cell_type": "code",
   "execution_count": 67,
   "metadata": {},
   "outputs": [],
   "source": [
    "\n",
    "airline_flights = flights.Airline.value_counts().to_frame().reset_index()\n",
    "airline_flights.columns = ['Airline', 'TotalFlights'] ## Total flights for each airlain\n",
    "delay_flights  = flights [flights.difference_minutes != 0].Airline.value_counts().to_frame().reset_index()\n",
    "delay_flights.columns = ['Airline', 'DelayFlights'] ##  Flights had delay for each airlain\n",
    "\n",
    "##airline_flights ['delay flights'] = x\n",
    "##airline_flights .head (50)"
   ]
  },
  {
   "cell_type": "code",
   "execution_count": 68,
   "metadata": {},
   "outputs": [
    {
     "data": {
      "text/plain": [
       "(71, 2)"
      ]
     },
     "execution_count": 68,
     "metadata": {},
     "output_type": "execute_result"
    }
   ],
   "source": [
    "delay_flights.shape"
   ]
  },
  {
   "cell_type": "code",
   "execution_count": 69,
   "metadata": {},
   "outputs": [
    {
     "data": {
      "text/plain": [
       "(88, 2)"
      ]
     },
     "execution_count": 69,
     "metadata": {},
     "output_type": "execute_result"
    }
   ],
   "source": [
    "airline_flights.shape"
   ]
  },
  {
   "cell_type": "code",
   "execution_count": 70,
   "metadata": {},
   "outputs": [],
   "source": [
    "merged_df = airline_flights.merge(delay_flights, on='Airline',how='left',sort=True)\n",
    "merged_df.fillna(0, inplace = True)\n",
    "merged_df = merged_df.sort_values('DelayFlights')"
   ]
  },
  {
   "cell_type": "code",
   "execution_count": 71,
   "metadata": {},
   "outputs": [
    {
     "data": {
      "text/html": [
       "<div>\n",
       "<style scoped>\n",
       "    .dataframe tbody tr th:only-of-type {\n",
       "        vertical-align: middle;\n",
       "    }\n",
       "\n",
       "    .dataframe tbody tr th {\n",
       "        vertical-align: top;\n",
       "    }\n",
       "\n",
       "    .dataframe thead th {\n",
       "        text-align: right;\n",
       "    }\n",
       "</style>\n",
       "<table border=\"1\" class=\"dataframe\">\n",
       "  <thead>\n",
       "    <tr style=\"text-align: right;\">\n",
       "      <th></th>\n",
       "      <th>TotalFlights</th>\n",
       "      <th>DelayFlights</th>\n",
       "    </tr>\n",
       "  </thead>\n",
       "  <tbody>\n",
       "    <tr>\n",
       "      <th>TotalFlights</th>\n",
       "      <td>1.000000</td>\n",
       "      <td>0.991901</td>\n",
       "    </tr>\n",
       "    <tr>\n",
       "      <th>DelayFlights</th>\n",
       "      <td>0.991901</td>\n",
       "      <td>1.000000</td>\n",
       "    </tr>\n",
       "  </tbody>\n",
       "</table>\n",
       "</div>"
      ],
      "text/plain": [
       "              TotalFlights  DelayFlights\n",
       "TotalFlights      1.000000      0.991901\n",
       "DelayFlights      0.991901      1.000000"
      ]
     },
     "execution_count": 71,
     "metadata": {},
     "output_type": "execute_result"
    }
   ],
   "source": [
    "merged_df.corr(numeric_only=True)\n"
   ]
  },
  {
   "cell_type": "code",
   "execution_count": 72,
   "metadata": {},
   "outputs": [
    {
     "data": {
      "text/html": [
       "<div>\n",
       "<style scoped>\n",
       "    .dataframe tbody tr th:only-of-type {\n",
       "        vertical-align: middle;\n",
       "    }\n",
       "\n",
       "    .dataframe tbody tr th {\n",
       "        vertical-align: top;\n",
       "    }\n",
       "\n",
       "    .dataframe thead th {\n",
       "        text-align: right;\n",
       "    }\n",
       "</style>\n",
       "<table border=\"1\" class=\"dataframe\">\n",
       "  <thead>\n",
       "    <tr style=\"text-align: right;\">\n",
       "      <th></th>\n",
       "      <th>TotalFlights</th>\n",
       "      <th>DelayFlights</th>\n",
       "    </tr>\n",
       "  </thead>\n",
       "  <tbody>\n",
       "    <tr>\n",
       "      <th>count</th>\n",
       "      <td>88.000000</td>\n",
       "      <td>88.000000</td>\n",
       "    </tr>\n",
       "    <tr>\n",
       "      <th>mean</th>\n",
       "      <td>15.204545</td>\n",
       "      <td>4.204545</td>\n",
       "    </tr>\n",
       "    <tr>\n",
       "      <th>std</th>\n",
       "      <td>25.861772</td>\n",
       "      <td>8.057493</td>\n",
       "    </tr>\n",
       "    <tr>\n",
       "      <th>min</th>\n",
       "      <td>1.000000</td>\n",
       "      <td>0.000000</td>\n",
       "    </tr>\n",
       "    <tr>\n",
       "      <th>25%</th>\n",
       "      <td>3.000000</td>\n",
       "      <td>1.000000</td>\n",
       "    </tr>\n",
       "    <tr>\n",
       "      <th>50%</th>\n",
       "      <td>6.000000</td>\n",
       "      <td>2.000000</td>\n",
       "    </tr>\n",
       "    <tr>\n",
       "      <th>75%</th>\n",
       "      <td>19.250000</td>\n",
       "      <td>5.000000</td>\n",
       "    </tr>\n",
       "    <tr>\n",
       "      <th>max</th>\n",
       "      <td>210.000000</td>\n",
       "      <td>67.000000</td>\n",
       "    </tr>\n",
       "  </tbody>\n",
       "</table>\n",
       "</div>"
      ],
      "text/plain": [
       "       TotalFlights  DelayFlights\n",
       "count     88.000000     88.000000\n",
       "mean      15.204545      4.204545\n",
       "std       25.861772      8.057493\n",
       "min        1.000000      0.000000\n",
       "25%        3.000000      1.000000\n",
       "50%        6.000000      2.000000\n",
       "75%       19.250000      5.000000\n",
       "max      210.000000     67.000000"
      ]
     },
     "execution_count": 72,
     "metadata": {},
     "output_type": "execute_result"
    }
   ],
   "source": [
    "merged_df.describe() ## checking standard deviation"
   ]
  },
  {
   "cell_type": "code",
   "execution_count": 73,
   "metadata": {},
   "outputs": [
    {
     "data": {
      "text/plain": [
       "difference_minutes\n",
       " 0.0     968\n",
       " 27.0     17\n",
       " 36.0     16\n",
       " 13.0     14\n",
       " 32.0     14\n",
       "        ... \n",
       " 79.0      1\n",
       " 69.0      1\n",
       "-3.0       1\n",
       "-13.0      1\n",
       " 60.0      1\n",
       "Name: count, Length: 82, dtype: int64"
      ]
     },
     "execution_count": 73,
     "metadata": {},
     "output_type": "execute_result"
    }
   ],
   "source": [
    "flights.difference_minutes.value_counts()"
   ]
  },
  {
   "cell_type": "code",
   "execution_count": 74,
   "metadata": {},
   "outputs": [],
   "source": [
    "merged_df['Airline_delay_percentage'] = merged_df.DelayFlights/merged_df.TotalFlights*100\n",
    "merged_df['Flight_delay_percentage'] = merged_df.DelayFlights*100/87\n",
    "\n",
    "delay = len (flights [flights ['difference_minutes'] == 0.0])\n",
    "on_time = len (flights [flights ['difference_minutes'] != 0.0])\n",
    "pie = [delay , on_time]\n",
    "label = ['Delayed flights'  , 'Flights On_time']"
   ]
  },
  {
   "cell_type": "code",
   "execution_count": 75,
   "metadata": {},
   "outputs": [
    {
     "data": {
      "image/png": "[encoded data removed]",
      "text/plain": [
       "<Figure size 640x480 with 1 Axes>"
      ]
     },
     "metadata": {},
     "output_type": "display_data"
    },
    {
     "data": {
      "image/png": "[encoded data removed]",
      "text/plain": [
       "<Figure size 640x480 with 1 Axes>"
      ]
     },
     "metadata": {},
     "output_type": "display_data"
    }
   ],
   "source": [
    "\n",
    "## first pie \n",
    "plt.pie ( pie , \n",
    "         autopct ='%1.2f%%', shadow = True , explode = (0,0.2) , labels = label)\n",
    "\n",
    "plt.title(\"Flights on time VS Delayed Flight in Ben Gurion Airport  \", color = (0.2, 0.4, 0.6),fontsize = 12 )\n",
    "\n",
    "plt.show()\n",
    "\n",
    "##secound pie\n",
    "plt.pie (merged_df['Flight_delay_percentage'].tail(10) , \n",
    "         autopct ='%1.2f%%',  shadow = True   , \n",
    "        explode = (0,0,0,0,0,0,0,0,0,0.1),\n",
    "        labels = merged_df.Airline.tail(10),radius=0.7)\n",
    "plt.title(\"Delay Percentage\",loc='left', color=(0.2, 0.4, 0.6), fontsize=20)\n",
    "\n",
    "explanations = ['   Present 10 airlins with the highest percentage','',\n",
    "                '   100% - Total delay for all flights']\n",
    "for i, expl in enumerate(explanations):\n",
    "    plt.annotate(expl, (1.2, 0.05 + 0.1*i), fontsize = 15, color = (0.2, 0.4, 0.6))\n",
    "    \n",
    "\n",
    "xycoords='axes fraction'\n",
    "plt.axis(xmin = 0, ymin = 0)\n",
    "\n",
    "plt.show()"
   ]
  },
  {
   "cell_type": "code",
   "execution_count": null,
   "metadata": {},
   "outputs": [],
   "source": [
    "\n"
   ]
  },
  {
   "cell_type": "code",
   "execution_count": 76,
   "metadata": {},
   "outputs": [
    {
     "data": {
      "image/png": "[encoded data removed]",
      "text/plain": [
       "<Figure size 2500x1000 with 1 Axes>"
      ]
     },
     "metadata": {},
     "output_type": "display_data"
    }
   ],
   "source": [
    "plt.figure(figsize = (25,10))\n",
    "\n",
    "plt.title(\" Top Ten companies with a high chance of delay \", \n",
    "          color = (0.2, 0.4, 0.6),fontsize = 35, fontweight = 'bold' )\n",
    "\n",
    "sb.set_style (\"whitegrid\")\n",
    "\n",
    "\n",
    "\n",
    "sb.barplot (x = merged_df.Airline.tail(10) , \n",
    "            y = merged_df.Airline_delay_percentage,\n",
    "            errcolor = (0.2, 0.4, 0.6), width = 0.65 )\n",
    "\n",
    "plt.text( x=0.5 , y=45 ,s = 'Standard deviation',ha='center',fontsize = 18 ,va='bottom' )      \n",
    "plt.text( x=0.5 , y=43 ,s = merged_df.Airline_delay_percentage.std() ,ha='center',fontsize = 18 ,va='bottom' )\n",
    "\n",
    "\n",
    "x = merged_df.Airline.tail(10).to_frame().reset_index(drop = True)\n",
    "y = merged_df.Airline_delay_percentage.tail(10).to_frame().reset_index(drop = True)\n",
    "for i in range(len(x)):\n",
    "   plt.text( x.index[i],\n",
    "            y.Airline_delay_percentage[i],\n",
    "           str( round (y.Airline_delay_percentage[i],2))+'%',\n",
    "            ha='center',fontsize = 22 ,va='bottom') \n",
    "\n",
    "     \n",
    "plt.xlabel ('Airline Company',color = (0.2, 0.4, 0.6) , fontsize = 25)\n",
    "plt.ylabel ('% Delays for \\neach Airline',color = (0.2, 0.4, 0.6), fontsize = 25, rotation = 0, labelpad=30 )\n",
    "plt.xticks(fontsize=25, rotation=45) \n",
    "plt.yticks(fontsize=22)  \n",
    "plt.show()"
   ]
  },
  {
   "cell_type": "code",
   "execution_count": null,
   "metadata": {},
   "outputs": [],
   "source": [
    "\n"
   ]
  },
  {
   "cell_type": "code",
   "execution_count": null,
   "metadata": {},
   "outputs": [],
   "source": []
  },
  {
   "cell_type": "code",
   "execution_count": null,
   "metadata": {},
   "outputs": [],
   "source": [
    "\n"
   ]
  },
  {
   "cell_type": "code",
   "execution_count": null,
   "metadata": {},
   "outputs": [],
   "source": []
  },
  {
   "cell_type": "code",
   "execution_count": null,
   "metadata": {},
   "outputs": [],
   "source": []
  },
  {
   "cell_type": "code",
   "execution_count": null,
   "metadata": {},
   "outputs": [],
   "source": []
  },
  {
   "cell_type": "code",
   "execution_count": null,
   "metadata": {},
   "outputs": [],
   "source": []
  },
  {
   "cell_type": "code",
   "execution_count": null,
   "metadata": {},
   "outputs": [],
   "source": []
  }
 ],
 "metadata": {
  "kernelspec": {
   "display_name": "Python 3 (ipykernel)",
   "language": "python",
   "name": "python3"
  },
  "language_info": {
   "codemirror_mode": {
    "name": "ipython",
    "version": 3
   },
   "file_extension": ".py",
   "mimetype": "text/x-python",
   "name": "python",
   "nbconvert_exporter": "python",
   "pygments_lexer": "ipython3",
   "version": "3.10.9"
  }
 },
 "nbformat": 4,
 "nbformat_minor": 4
}
