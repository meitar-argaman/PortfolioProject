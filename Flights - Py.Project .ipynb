{
 "cells": [
  {
   "cell_type": "markdown",
   "metadata": {},
   "source": [
    "## Ben Gurion Aairport Data"
   ]
  },
  {
   "cell_type": "raw",
   "metadata": {},
   "source": [
    "#Project 3 - Python \n",
    "#Meitar Argaman\n",
    "#date 15.06.2023 "
   ]
  },
  {
   "cell_type": "code",
   "execution_count": 1,
   "metadata": {},
   "outputs": [],
   "source": [
    "import os\n",
    "import pandas as pd\n",
    "import numpy as np\n",
    "import matplotlib.pyplot as plt\n",
    "import seaborn as sb\n",
    "import datetime as dt"
   ]
  },
  {
   "cell_type": "code",
   "execution_count": 2,
   "metadata": {},
   "outputs": [],
   "source": [
    "import requests\n",
    "import json\n"
   ]
  },
  {
   "cell_type": "markdown",
   "metadata": {},
   "source": [
    "#### Loadding flights data and learning it "
   ]
  },
  {
   "cell_type": "code",
   "execution_count": 3,
   "metadata": {},
   "outputs": [],
   "source": [
    "r = requests.get(\"https://data.gov.il/api/3/action/datastore_search?resource_id=e83f763b-b7d7-479e-b172-ae981ddc6de5&limit=5000\")"
   ]
  },
  {
   "cell_type": "code",
   "execution_count": 4,
   "metadata": {},
   "outputs": [],
   "source": [
    "res = json.loads(r.content)"
   ]
  },
  {
   "cell_type": "code",
   "execution_count": 5,
   "metadata": {},
   "outputs": [],
   "source": [
    "flights = pd.DataFrame(res['result']['records'])"
   ]
  },
  {
   "cell_type": "code",
   "execution_count": 6,
   "metadata": {},
   "outputs": [
    {
     "data": {
      "text/html": [
       "<div>\n",
       "<style scoped>\n",
       "    .dataframe tbody tr th:only-of-type {\n",
       "        vertical-align: middle;\n",
       "    }\n",
       "\n",
       "    .dataframe tbody tr th {\n",
       "        vertical-align: top;\n",
       "    }\n",
       "\n",
       "    .dataframe thead th {\n",
       "        text-align: right;\n",
       "    }\n",
       "</style>\n",
       "<table border=\"1\" class=\"dataframe\">\n",
       "  <thead>\n",
       "    <tr style=\"text-align: right;\">\n",
       "      <th></th>\n",
       "      <th>_id</th>\n",
       "      <th>CHOPER</th>\n",
       "      <th>CHFLTN</th>\n",
       "      <th>CHOPERD</th>\n",
       "      <th>CHSTOL</th>\n",
       "      <th>CHPTOL</th>\n",
       "      <th>CHAORD</th>\n",
       "      <th>CHLOC1</th>\n",
       "      <th>CHLOC1D</th>\n",
       "      <th>CHLOC1TH</th>\n",
       "      <th>CHLOC1T</th>\n",
       "      <th>CHLOC1CH</th>\n",
       "      <th>CHLOCCT</th>\n",
       "      <th>CHTERM</th>\n",
       "      <th>CHCINT</th>\n",
       "      <th>CHCKZN</th>\n",
       "      <th>CHRMINE</th>\n",
       "      <th>CHRMINH</th>\n",
       "    </tr>\n",
       "  </thead>\n",
       "  <tbody>\n",
       "    <tr>\n",
       "      <th>0</th>\n",
       "      <td>1</td>\n",
       "      <td>6H</td>\n",
       "      <td>047</td>\n",
       "      <td>ISRAIR AIRLINES</td>\n",
       "      <td>2023-06-29T14:00:00</td>\n",
       "      <td>2023-06-29T14:46:00</td>\n",
       "      <td>D</td>\n",
       "      <td>ETM</td>\n",
       "      <td>RAMON</td>\n",
       "      <td>אילת - רמון</td>\n",
       "      <td>RAMON</td>\n",
       "      <td>ישראל</td>\n",
       "      <td>ISRAEL</td>\n",
       "      <td>1</td>\n",
       "      <td>336-341</td>\n",
       "      <td>B</td>\n",
       "      <td>DEPARTED</td>\n",
       "      <td>המריאה</td>\n",
       "    </tr>\n",
       "    <tr>\n",
       "      <th>1</th>\n",
       "      <td>2</td>\n",
       "      <td>AZ</td>\n",
       "      <td>806</td>\n",
       "      <td>ITALIA TRASPORTO AEREO</td>\n",
       "      <td>2023-06-29T14:20:00</td>\n",
       "      <td>2023-06-29T14:47:00</td>\n",
       "      <td>A</td>\n",
       "      <td>FCO</td>\n",
       "      <td>ROME - FIUMICINO</td>\n",
       "      <td>רומא</td>\n",
       "      <td>ROME</td>\n",
       "      <td>איטליה</td>\n",
       "      <td>ITALY</td>\n",
       "      <td>3</td>\n",
       "      <td>None</td>\n",
       "      <td>None</td>\n",
       "      <td>LANDED</td>\n",
       "      <td>נחתה</td>\n",
       "    </tr>\n",
       "    <tr>\n",
       "      <th>2</th>\n",
       "      <td>3</td>\n",
       "      <td>DL</td>\n",
       "      <td>6672</td>\n",
       "      <td>DELTA AIRLINES</td>\n",
       "      <td>2023-06-29T14:20:00</td>\n",
       "      <td>2023-06-29T14:47:00</td>\n",
       "      <td>A</td>\n",
       "      <td>FCO</td>\n",
       "      <td>ROME - FIUMICINO</td>\n",
       "      <td>רומא</td>\n",
       "      <td>ROME</td>\n",
       "      <td>איטליה</td>\n",
       "      <td>ITALY</td>\n",
       "      <td>3</td>\n",
       "      <td>None</td>\n",
       "      <td>None</td>\n",
       "      <td>LANDED</td>\n",
       "      <td>נחתה</td>\n",
       "    </tr>\n",
       "  </tbody>\n",
       "</table>\n",
       "</div>"
      ],
      "text/plain": [
       "   _id CHOPER CHFLTN                 CHOPERD               CHSTOL  \\\n",
       "0    1     6H    047         ISRAIR AIRLINES  2023-06-29T14:00:00   \n",
       "1    2     AZ    806  ITALIA TRASPORTO AEREO  2023-06-29T14:20:00   \n",
       "2    3     DL   6672          DELTA AIRLINES  2023-06-29T14:20:00   \n",
       "\n",
       "                CHPTOL CHAORD CHLOC1           CHLOC1D     CHLOC1TH CHLOC1T  \\\n",
       "0  2023-06-29T14:46:00      D    ETM             RAMON  אילת - רמון   RAMON   \n",
       "1  2023-06-29T14:47:00      A    FCO  ROME - FIUMICINO         רומא    ROME   \n",
       "2  2023-06-29T14:47:00      A    FCO  ROME - FIUMICINO         רומא    ROME   \n",
       "\n",
       "  CHLOC1CH CHLOCCT CHTERM   CHCINT CHCKZN   CHRMINE CHRMINH  \n",
       "0    ישראל  ISRAEL      1  336-341      B  DEPARTED  המריאה  \n",
       "1   איטליה   ITALY      3     None   None    LANDED    נחתה  \n",
       "2   איטליה   ITALY      3     None   None    LANDED    נחתה  "
      ]
     },
     "execution_count": 6,
     "metadata": {},
     "output_type": "execute_result"
    }
   ],
   "source": [
    "flights.head(3)"
   ]
  },
  {
   "cell_type": "code",
   "execution_count": 7,
   "metadata": {},
   "outputs": [
    {
     "data": {
      "text/html": [
       "<div>\n",
       "<style scoped>\n",
       "    .dataframe tbody tr th:only-of-type {\n",
       "        vertical-align: middle;\n",
       "    }\n",
       "\n",
       "    .dataframe tbody tr th {\n",
       "        vertical-align: top;\n",
       "    }\n",
       "\n",
       "    .dataframe thead th {\n",
       "        text-align: right;\n",
       "    }\n",
       "</style>\n",
       "<table border=\"1\" class=\"dataframe\">\n",
       "  <thead>\n",
       "    <tr style=\"text-align: right;\">\n",
       "      <th></th>\n",
       "      <th>_id</th>\n",
       "      <th>CHOPER</th>\n",
       "      <th>CHFLTN</th>\n",
       "      <th>CHOPERD</th>\n",
       "      <th>CHSTOL</th>\n",
       "      <th>CHPTOL</th>\n",
       "      <th>CHAORD</th>\n",
       "      <th>CHLOC1</th>\n",
       "      <th>CHLOC1D</th>\n",
       "      <th>CHLOC1TH</th>\n",
       "      <th>CHLOC1T</th>\n",
       "      <th>CHLOC1CH</th>\n",
       "      <th>CHLOCCT</th>\n",
       "      <th>CHTERM</th>\n",
       "      <th>CHCINT</th>\n",
       "      <th>CHCKZN</th>\n",
       "      <th>CHRMINE</th>\n",
       "      <th>CHRMINH</th>\n",
       "    </tr>\n",
       "  </thead>\n",
       "  <tbody>\n",
       "    <tr>\n",
       "      <th>2807</th>\n",
       "      <td>2808</td>\n",
       "      <td>BZ</td>\n",
       "      <td>888</td>\n",
       "      <td>BLUE BIRD AIRWAYS</td>\n",
       "      <td>2023-07-03T14:40:00</td>\n",
       "      <td>2023-07-03T14:40:00</td>\n",
       "      <td>D</td>\n",
       "      <td>JMK</td>\n",
       "      <td>MIKONOS</td>\n",
       "      <td>מיקונוס</td>\n",
       "      <td>MYKONOS</td>\n",
       "      <td>יוון</td>\n",
       "      <td>GREECE</td>\n",
       "      <td>3</td>\n",
       "      <td>None</td>\n",
       "      <td>None</td>\n",
       "      <td>ON TIME</td>\n",
       "      <td>בזמן</td>\n",
       "    </tr>\n",
       "    <tr>\n",
       "      <th>2808</th>\n",
       "      <td>2809</td>\n",
       "      <td>DL</td>\n",
       "      <td>8457</td>\n",
       "      <td>DELTA AIRLINES</td>\n",
       "      <td>2023-07-03T14:40:00</td>\n",
       "      <td>2023-07-03T14:40:00</td>\n",
       "      <td>A</td>\n",
       "      <td>CDG</td>\n",
       "      <td>PARIS-CHARLES DE GAULLE</td>\n",
       "      <td>פריס</td>\n",
       "      <td>PARIS</td>\n",
       "      <td>צרפת</td>\n",
       "      <td>FRANCE</td>\n",
       "      <td>3</td>\n",
       "      <td>None</td>\n",
       "      <td>None</td>\n",
       "      <td>NOT FINAL</td>\n",
       "      <td>לא סופי</td>\n",
       "    </tr>\n",
       "    <tr>\n",
       "      <th>2809</th>\n",
       "      <td>2810</td>\n",
       "      <td>6H</td>\n",
       "      <td>251</td>\n",
       "      <td>ISRAIR AIRLINES</td>\n",
       "      <td>2023-07-03T14:40:00</td>\n",
       "      <td>2023-07-03T14:40:00</td>\n",
       "      <td>D</td>\n",
       "      <td>BER</td>\n",
       "      <td>BERLIN BRANDENBURG INTL</td>\n",
       "      <td>ברלין</td>\n",
       "      <td>BERLIN</td>\n",
       "      <td>גרמניה</td>\n",
       "      <td>GERMANY</td>\n",
       "      <td>1</td>\n",
       "      <td>None</td>\n",
       "      <td>None</td>\n",
       "      <td>ON TIME</td>\n",
       "      <td>בזמן</td>\n",
       "    </tr>\n",
       "  </tbody>\n",
       "</table>\n",
       "</div>"
      ],
      "text/plain": [
       "       _id CHOPER CHFLTN            CHOPERD               CHSTOL  \\\n",
       "2807  2808     BZ    888  BLUE BIRD AIRWAYS  2023-07-03T14:40:00   \n",
       "2808  2809     DL   8457     DELTA AIRLINES  2023-07-03T14:40:00   \n",
       "2809  2810     6H    251    ISRAIR AIRLINES  2023-07-03T14:40:00   \n",
       "\n",
       "                   CHPTOL CHAORD CHLOC1                  CHLOC1D CHLOC1TH  \\\n",
       "2807  2023-07-03T14:40:00      D    JMK                  MIKONOS  מיקונוס   \n",
       "2808  2023-07-03T14:40:00      A    CDG  PARIS-CHARLES DE GAULLE     פריס   \n",
       "2809  2023-07-03T14:40:00      D    BER  BERLIN BRANDENBURG INTL    ברלין   \n",
       "\n",
       "      CHLOC1T CHLOC1CH  CHLOCCT CHTERM CHCINT CHCKZN    CHRMINE  CHRMINH  \n",
       "2807  MYKONOS     יוון   GREECE      3   None   None    ON TIME     בזמן  \n",
       "2808    PARIS     צרפת   FRANCE      3   None   None  NOT FINAL  לא סופי  \n",
       "2809   BERLIN   גרמניה  GERMANY      1   None   None    ON TIME     בזמן  "
      ]
     },
     "execution_count": 7,
     "metadata": {},
     "output_type": "execute_result"
    }
   ],
   "source": [
    "flights.tail(3)"
   ]
  },
  {
   "cell_type": "code",
   "execution_count": 8,
   "metadata": {},
   "outputs": [
    {
     "name": "stdout",
     "output_type": "stream",
     "text": [
      "<class 'pandas.core.frame.DataFrame'>\n",
      "RangeIndex: 2810 entries, 0 to 2809\n",
      "Data columns (total 18 columns):\n",
      " #   Column    Non-Null Count  Dtype \n",
      "---  ------    --------------  ----- \n",
      " 0   _id       2810 non-null   int64 \n",
      " 1   CHOPER    2810 non-null   object\n",
      " 2   CHFLTN    2810 non-null   object\n",
      " 3   CHOPERD   2810 non-null   object\n",
      " 4   CHSTOL    2810 non-null   object\n",
      " 5   CHPTOL    2810 non-null   object\n",
      " 6   CHAORD    2810 non-null   object\n",
      " 7   CHLOC1    2810 non-null   object\n",
      " 8   CHLOC1D   2810 non-null   object\n",
      " 9   CHLOC1TH  2810 non-null   object\n",
      " 10  CHLOC1T   2810 non-null   object\n",
      " 11  CHLOC1CH  2810 non-null   object\n",
      " 12  CHLOCCT   2810 non-null   object\n",
      " 13  CHTERM    2810 non-null   object\n",
      " 14  CHCINT    1187 non-null   object\n",
      " 15  CHCKZN    1187 non-null   object\n",
      " 16  CHRMINE   2810 non-null   object\n",
      " 17  CHRMINH   2810 non-null   object\n",
      "dtypes: int64(1), object(17)\n",
      "memory usage: 395.3+ KB\n"
     ]
    }
   ],
   "source": [
    "flights.info()"
   ]
  },
  {
   "cell_type": "code",
   "execution_count": 9,
   "metadata": {},
   "outputs": [
    {
     "data": {
      "text/plain": [
       "Index(['_id', 'CHOPER', 'CHFLTN', 'CHOPERD', 'CHSTOL', 'CHPTOL', 'CHAORD',\n",
       "       'CHLOC1', 'CHLOC1D', 'CHLOC1TH', 'CHLOC1T', 'CHLOC1CH', 'CHLOCCT',\n",
       "       'CHTERM', 'CHCINT', 'CHCKZN', 'CHRMINE', 'CHRMINH'],\n",
       "      dtype='object')"
      ]
     },
     "execution_count": 9,
     "metadata": {},
     "output_type": "execute_result"
    }
   ],
   "source": [
    "flights.columns"
   ]
  },
  {
   "cell_type": "code",
   "execution_count": 10,
   "metadata": {},
   "outputs": [
    {
     "data": {
      "text/plain": [
       "array(['6H', 'AZ', 'DL', 'LY', 'SM', 'EJU', 'BA', 'FHM', 'CX', 'HM', 'JU',\n",
       "       'TK', '6E', 'IZ', 'BZ', 'PC', 'AF', 'BUC', 'SN', 'AC', 'LH', 'NH',\n",
       "       'UA', 'EY', 'AM', 'VS', 'ET', 'EZY', 'H4', 'OS', 'UX', '5F', 'CY',\n",
       "       'AA', 'GF', 'AR', 'B6', 'IB', 'TWI', 'EK', 'LX', 'XC', 'AT', 'TO',\n",
       "       'FR', 'TP', 'I2', 'VY', 'W4', 'MS', 'LO', 'U8', 'AI', 'W6', 'S7',\n",
       "       'D8', 'A3', 'FB', 'HV', 'WZ', 'W9', 'FZ', 'J2', 'QF', 'TG', 'VN',\n",
       "       'RO', 'H7', 'MNE', 'KL', 'BT', 'ENT', 'OK', 'QS', 'LA', 'OU', 'RJ',\n",
       "       'A9', 'A4', 'XQ', '2S', '5W', 'AYT', 'EZS', 'KE', 'AY', '3F', 'KM',\n",
       "       'FI', 'HU', 'HY', 'XR', 'FH', 'HH'], dtype=object)"
      ]
     },
     "execution_count": 10,
     "metadata": {},
     "output_type": "execute_result"
    }
   ],
   "source": [
    "flights.CHOPER.unique()"
   ]
  },
  {
   "cell_type": "code",
   "execution_count": 11,
   "metadata": {},
   "outputs": [
    {
     "data": {
      "text/plain": [
       "94"
      ]
     },
     "execution_count": 11,
     "metadata": {},
     "output_type": "execute_result"
    }
   ],
   "source": [
    "flights.CHOPER.nunique()"
   ]
  },
  {
   "cell_type": "code",
   "execution_count": 12,
   "metadata": {},
   "outputs": [
    {
     "data": {
      "text/plain": [
       "array(['ISRAIR AIRLINES', 'ITALIA TRASPORTO AEREO', 'DELTA AIRLINES',\n",
       "       'EL AL ISRAEL AIRLINES', 'AIR CAIRO', 'EASYJET EUROPE AIRLINE',\n",
       "       'BRITISH AIRWAYS PLC', 'FREEBIRD AIRLINES EUROPE',\n",
       "       'CATHAY PACIFIC AIRWAYS', 'AIR SEYCHELLES', 'AIR SERBIA',\n",
       "       'TURKISH AIRLINES', 'INDIGO AIRLINES', 'ARKIA  ISRAELI  AIRLINES',\n",
       "       'BLUE BIRD AIRWAYS', 'PEGASUS AIRLINES', 'AIR FRANCE',\n",
       "       'EUROPEAN AIR CHARTER', 'BRUSSELS AIRLINES', 'AIR CANADA',\n",
       "       'LUFTHANSA', 'ALL NIPPON AIRWAYS', 'UNITED AIRLINES',\n",
       "       'ETIHAD AIRWAYS', 'AERO MEXICO', 'VIRGIN ATLANTIC AIRWAYS',\n",
       "       'ETHIOPIAN AIRLINES', 'EASYJET', 'HISKY EUROPE SRL',\n",
       "       'AUSTRIAN AIRLINES', 'AIR EUROPA Lineas Aereas S.A.U', 'FLYONE',\n",
       "       'CYPRUS AIRWAYS', 'AMERICAN AIRLINES', 'GULF AIR - BAHREIN',\n",
       "       'AEROLINEAS ARGENTINAS S.A.', 'JETBLUE AIRWAYS CORPORATION',\n",
       "       'IBERIA', 'TAILWIND AIRLINES', 'EMIRATES', 'SWISS INT`L  AIRLINES',\n",
       "       'CORONDON AIRLINES', 'ROYAL AIR MAROC', 'TRANSAVIA FRANCE',\n",
       "       'RYANAIR', 'AIR PORTUGAL', 'IBERIA EXPRESS',\n",
       "       'VUELING AIRLINES S.A.', 'WIZZ AIR MALTA', 'EGYPTAIR AIRLINES',\n",
       "       'LOT POLISH AIRLINES', 'TUS AIRWAYS', 'AIR INDIA', 'WIZZAIR',\n",
       "       'SIBERIA AIRLINES', 'NORWEGIAN AIR SHUTTLE', 'AEGEAN  AIRLINES',\n",
       "       'BULGARIA  AIR', 'TRANSAVIA', 'RED WINGS AIRLINES', 'WIZZ UK',\n",
       "       'FLYDUBAI', 'AZERBAIJAN AIRLINES', 'QANTAS AIRWAYS',\n",
       "       'THAI AIRWAYS', 'VIETNAM AIRLINES',\n",
       "       'TAROM - RUMANIAN AIR TRANSPORT', 'HISKY', 'TOMONTENEGRO',\n",
       "       'K.L.M.', 'AIR BALTIC', 'ENTER AIR- E4', 'CZECH AIRLINES',\n",
       "       'SMARTWINGS', 'LATAM AIRLINES', 'CROATIA AIR', 'ROYAL  JORDANIAN',\n",
       "       'GEORGIAN AIRWAYS', 'AZIMUTH AIRLINES', 'SUN EXPRESS',\n",
       "       'SOUTWIND AIRLINES', 'WIZZ AIR ABU DHABI', 'AYIT AVIATION',\n",
       "       'EASY JET SWITZERLAND', 'KOREAN AIR', 'FINNAIR',\n",
       "       'FLYONE ARMENIA LLC', 'AIR MALTA', 'ICELAND AIR',\n",
       "       'HAINAN AIRLINES', 'UZBEKISTAN AIR', 'CORENDON EUROPE',\n",
       "       'FREEBIRD AIRLINES', 'QANOT SHARQ'], dtype=object)"
      ]
     },
     "execution_count": 12,
     "metadata": {},
     "output_type": "execute_result"
    }
   ],
   "source": [
    "flights.CHOPERD.unique()"
   ]
  },
  {
   "cell_type": "code",
   "execution_count": 13,
   "metadata": {},
   "outputs": [
    {
     "data": {
      "text/plain": [
       "94"
      ]
     },
     "execution_count": 13,
     "metadata": {},
     "output_type": "execute_result"
    }
   ],
   "source": [
    "flights.CHOPERD.nunique()"
   ]
  },
  {
   "cell_type": "code",
   "execution_count": 14,
   "metadata": {},
   "outputs": [
    {
     "data": {
      "text/plain": [
       "array(['D', 'A'], dtype=object)"
      ]
     },
     "execution_count": 14,
     "metadata": {},
     "output_type": "execute_result"
    }
   ],
   "source": [
    "flights.CHAORD.unique()"
   ]
  },
  {
   "cell_type": "code",
   "execution_count": 15,
   "metadata": {},
   "outputs": [
    {
     "data": {
      "text/plain": [
       "131"
      ]
     },
     "execution_count": 15,
     "metadata": {},
     "output_type": "execute_result"
    }
   ],
   "source": [
    "flights.CHLOC1.nunique()"
   ]
  },
  {
   "cell_type": "code",
   "execution_count": null,
   "metadata": {},
   "outputs": [],
   "source": []
  },
  {
   "cell_type": "markdown",
   "metadata": {},
   "source": [
    "##### Display the first rows "
   ]
  },
  {
   "cell_type": "code",
   "execution_count": 16,
   "metadata": {},
   "outputs": [
    {
     "data": {
      "text/html": [
       "<div>\n",
       "<style scoped>\n",
       "    .dataframe tbody tr th:only-of-type {\n",
       "        vertical-align: middle;\n",
       "    }\n",
       "\n",
       "    .dataframe tbody tr th {\n",
       "        vertical-align: top;\n",
       "    }\n",
       "\n",
       "    .dataframe thead th {\n",
       "        text-align: right;\n",
       "    }\n",
       "</style>\n",
       "<table border=\"1\" class=\"dataframe\">\n",
       "  <thead>\n",
       "    <tr style=\"text-align: right;\">\n",
       "      <th></th>\n",
       "      <th>_id</th>\n",
       "      <th>CHOPER</th>\n",
       "      <th>CHFLTN</th>\n",
       "      <th>CHOPERD</th>\n",
       "      <th>CHSTOL</th>\n",
       "      <th>CHPTOL</th>\n",
       "      <th>CHAORD</th>\n",
       "      <th>CHLOC1</th>\n",
       "      <th>CHLOC1D</th>\n",
       "      <th>CHLOC1TH</th>\n",
       "      <th>CHLOC1T</th>\n",
       "      <th>CHLOC1CH</th>\n",
       "      <th>CHLOCCT</th>\n",
       "      <th>CHTERM</th>\n",
       "      <th>CHCINT</th>\n",
       "      <th>CHCKZN</th>\n",
       "      <th>CHRMINE</th>\n",
       "      <th>CHRMINH</th>\n",
       "    </tr>\n",
       "  </thead>\n",
       "  <tbody>\n",
       "    <tr>\n",
       "      <th>0</th>\n",
       "      <td>1</td>\n",
       "      <td>6H</td>\n",
       "      <td>047</td>\n",
       "      <td>ISRAIR AIRLINES</td>\n",
       "      <td>2023-06-29T14:00:00</td>\n",
       "      <td>2023-06-29T14:46:00</td>\n",
       "      <td>D</td>\n",
       "      <td>ETM</td>\n",
       "      <td>RAMON</td>\n",
       "      <td>אילת - רמון</td>\n",
       "      <td>RAMON</td>\n",
       "      <td>ישראל</td>\n",
       "      <td>ISRAEL</td>\n",
       "      <td>1</td>\n",
       "      <td>336-341</td>\n",
       "      <td>B</td>\n",
       "      <td>DEPARTED</td>\n",
       "      <td>המריאה</td>\n",
       "    </tr>\n",
       "  </tbody>\n",
       "</table>\n",
       "</div>"
      ],
      "text/plain": [
       "   _id CHOPER CHFLTN          CHOPERD               CHSTOL  \\\n",
       "0    1     6H    047  ISRAIR AIRLINES  2023-06-29T14:00:00   \n",
       "\n",
       "                CHPTOL CHAORD CHLOC1 CHLOC1D     CHLOC1TH CHLOC1T CHLOC1CH  \\\n",
       "0  2023-06-29T14:46:00      D    ETM   RAMON  אילת - רמון   RAMON    ישראל   \n",
       "\n",
       "  CHLOCCT CHTERM   CHCINT CHCKZN   CHRMINE CHRMINH  \n",
       "0  ISRAEL      1  336-341      B  DEPARTED  המריאה  "
      ]
     },
     "execution_count": 16,
     "metadata": {},
     "output_type": "execute_result"
    }
   ],
   "source": [
    "flights.head(1)"
   ]
  },
  {
   "cell_type": "markdown",
   "metadata": {},
   "source": [
    "##### Last 10 rows - There is no problem at Flights DF"
   ]
  },
  {
   "cell_type": "code",
   "execution_count": 17,
   "metadata": {},
   "outputs": [
    {
     "data": {
      "text/html": [
       "<div>\n",
       "<style scoped>\n",
       "    .dataframe tbody tr th:only-of-type {\n",
       "        vertical-align: middle;\n",
       "    }\n",
       "\n",
       "    .dataframe tbody tr th {\n",
       "        vertical-align: top;\n",
       "    }\n",
       "\n",
       "    .dataframe thead th {\n",
       "        text-align: right;\n",
       "    }\n",
       "</style>\n",
       "<table border=\"1\" class=\"dataframe\">\n",
       "  <thead>\n",
       "    <tr style=\"text-align: right;\">\n",
       "      <th></th>\n",
       "      <th>_id</th>\n",
       "      <th>CHOPER</th>\n",
       "      <th>CHFLTN</th>\n",
       "      <th>CHOPERD</th>\n",
       "      <th>CHSTOL</th>\n",
       "      <th>CHPTOL</th>\n",
       "      <th>CHAORD</th>\n",
       "      <th>CHLOC1</th>\n",
       "      <th>CHLOC1D</th>\n",
       "      <th>CHLOC1TH</th>\n",
       "      <th>CHLOC1T</th>\n",
       "      <th>CHLOC1CH</th>\n",
       "      <th>CHLOCCT</th>\n",
       "      <th>CHTERM</th>\n",
       "      <th>CHCINT</th>\n",
       "      <th>CHCKZN</th>\n",
       "      <th>CHRMINE</th>\n",
       "      <th>CHRMINH</th>\n",
       "    </tr>\n",
       "  </thead>\n",
       "  <tbody>\n",
       "    <tr>\n",
       "      <th>2800</th>\n",
       "      <td>2801</td>\n",
       "      <td>EY</td>\n",
       "      <td>594</td>\n",
       "      <td>ETIHAD AIRWAYS</td>\n",
       "      <td>2023-07-03T14:30:00</td>\n",
       "      <td>2023-07-03T14:30:00</td>\n",
       "      <td>D</td>\n",
       "      <td>AUH</td>\n",
       "      <td>ABU DHABI</td>\n",
       "      <td>אבו דאבי</td>\n",
       "      <td>ABU DHABI</td>\n",
       "      <td>איחוד האמירויות הערב</td>\n",
       "      <td>UNITED ARAB EMIRATES</td>\n",
       "      <td>3</td>\n",
       "      <td>None</td>\n",
       "      <td>None</td>\n",
       "      <td>ON TIME</td>\n",
       "      <td>בזמן</td>\n",
       "    </tr>\n",
       "    <tr>\n",
       "      <th>2801</th>\n",
       "      <td>2802</td>\n",
       "      <td>IZ</td>\n",
       "      <td>097</td>\n",
       "      <td>ARKIA  ISRAELI  AIRLINES</td>\n",
       "      <td>2023-07-03T14:30:00</td>\n",
       "      <td>2023-07-03T14:30:00</td>\n",
       "      <td>D</td>\n",
       "      <td>HER</td>\n",
       "      <td>HERAKLION</td>\n",
       "      <td>הרקליון</td>\n",
       "      <td>HERAKLION</td>\n",
       "      <td>יוון</td>\n",
       "      <td>GREECE</td>\n",
       "      <td>1</td>\n",
       "      <td>None</td>\n",
       "      <td>None</td>\n",
       "      <td>ON TIME</td>\n",
       "      <td>בזמן</td>\n",
       "    </tr>\n",
       "    <tr>\n",
       "      <th>2802</th>\n",
       "      <td>2803</td>\n",
       "      <td>LY</td>\n",
       "      <td>5193</td>\n",
       "      <td>EL AL ISRAEL AIRLINES</td>\n",
       "      <td>2023-07-03T14:30:00</td>\n",
       "      <td>2023-07-03T14:30:00</td>\n",
       "      <td>D</td>\n",
       "      <td>SSH</td>\n",
       "      <td>SHARM EL SHEIKH</td>\n",
       "      <td>שארם אל-שייח</td>\n",
       "      <td>SHARM EL SHEIKH</td>\n",
       "      <td>מצרים</td>\n",
       "      <td>EGYPT</td>\n",
       "      <td>3</td>\n",
       "      <td>None</td>\n",
       "      <td>None</td>\n",
       "      <td>ON TIME</td>\n",
       "      <td>בזמן</td>\n",
       "    </tr>\n",
       "    <tr>\n",
       "      <th>2803</th>\n",
       "      <td>2804</td>\n",
       "      <td>LY</td>\n",
       "      <td>9601</td>\n",
       "      <td>EL AL ISRAEL AIRLINES</td>\n",
       "      <td>2023-07-03T14:30:00</td>\n",
       "      <td>2023-07-03T14:30:00</td>\n",
       "      <td>D</td>\n",
       "      <td>AUH</td>\n",
       "      <td>ABU DHABI</td>\n",
       "      <td>אבו דאבי</td>\n",
       "      <td>ABU DHABI</td>\n",
       "      <td>איחוד האמירויות הערב</td>\n",
       "      <td>UNITED ARAB EMIRATES</td>\n",
       "      <td>3</td>\n",
       "      <td>None</td>\n",
       "      <td>None</td>\n",
       "      <td>ON TIME</td>\n",
       "      <td>בזמן</td>\n",
       "    </tr>\n",
       "    <tr>\n",
       "      <th>2804</th>\n",
       "      <td>2805</td>\n",
       "      <td>6H</td>\n",
       "      <td>048</td>\n",
       "      <td>ISRAIR AIRLINES</td>\n",
       "      <td>2023-07-03T14:30:00</td>\n",
       "      <td>2023-07-03T14:30:00</td>\n",
       "      <td>A</td>\n",
       "      <td>ETM</td>\n",
       "      <td>RAMON</td>\n",
       "      <td>אילת - רמון</td>\n",
       "      <td>RAMON</td>\n",
       "      <td>ישראל</td>\n",
       "      <td>ISRAEL</td>\n",
       "      <td>1</td>\n",
       "      <td>None</td>\n",
       "      <td>None</td>\n",
       "      <td>NOT FINAL</td>\n",
       "      <td>לא סופי</td>\n",
       "    </tr>\n",
       "    <tr>\n",
       "      <th>2805</th>\n",
       "      <td>2806</td>\n",
       "      <td>AF</td>\n",
       "      <td>962</td>\n",
       "      <td>AIR FRANCE</td>\n",
       "      <td>2023-07-03T14:40:00</td>\n",
       "      <td>2023-07-03T14:40:00</td>\n",
       "      <td>A</td>\n",
       "      <td>CDG</td>\n",
       "      <td>PARIS-CHARLES DE GAULLE</td>\n",
       "      <td>פריס</td>\n",
       "      <td>PARIS</td>\n",
       "      <td>צרפת</td>\n",
       "      <td>FRANCE</td>\n",
       "      <td>3</td>\n",
       "      <td>None</td>\n",
       "      <td>None</td>\n",
       "      <td>NOT FINAL</td>\n",
       "      <td>לא סופי</td>\n",
       "    </tr>\n",
       "    <tr>\n",
       "      <th>2806</th>\n",
       "      <td>2807</td>\n",
       "      <td>BZ</td>\n",
       "      <td>754</td>\n",
       "      <td>BLUE BIRD AIRWAYS</td>\n",
       "      <td>2023-07-03T14:40:00</td>\n",
       "      <td>2023-07-03T14:40:00</td>\n",
       "      <td>D</td>\n",
       "      <td>HER</td>\n",
       "      <td>HERAKLION</td>\n",
       "      <td>הרקליון</td>\n",
       "      <td>HERAKLION</td>\n",
       "      <td>יוון</td>\n",
       "      <td>GREECE</td>\n",
       "      <td>3</td>\n",
       "      <td>None</td>\n",
       "      <td>None</td>\n",
       "      <td>ON TIME</td>\n",
       "      <td>בזמן</td>\n",
       "    </tr>\n",
       "    <tr>\n",
       "      <th>2807</th>\n",
       "      <td>2808</td>\n",
       "      <td>BZ</td>\n",
       "      <td>888</td>\n",
       "      <td>BLUE BIRD AIRWAYS</td>\n",
       "      <td>2023-07-03T14:40:00</td>\n",
       "      <td>2023-07-03T14:40:00</td>\n",
       "      <td>D</td>\n",
       "      <td>JMK</td>\n",
       "      <td>MIKONOS</td>\n",
       "      <td>מיקונוס</td>\n",
       "      <td>MYKONOS</td>\n",
       "      <td>יוון</td>\n",
       "      <td>GREECE</td>\n",
       "      <td>3</td>\n",
       "      <td>None</td>\n",
       "      <td>None</td>\n",
       "      <td>ON TIME</td>\n",
       "      <td>בזמן</td>\n",
       "    </tr>\n",
       "    <tr>\n",
       "      <th>2808</th>\n",
       "      <td>2809</td>\n",
       "      <td>DL</td>\n",
       "      <td>8457</td>\n",
       "      <td>DELTA AIRLINES</td>\n",
       "      <td>2023-07-03T14:40:00</td>\n",
       "      <td>2023-07-03T14:40:00</td>\n",
       "      <td>A</td>\n",
       "      <td>CDG</td>\n",
       "      <td>PARIS-CHARLES DE GAULLE</td>\n",
       "      <td>פריס</td>\n",
       "      <td>PARIS</td>\n",
       "      <td>צרפת</td>\n",
       "      <td>FRANCE</td>\n",
       "      <td>3</td>\n",
       "      <td>None</td>\n",
       "      <td>None</td>\n",
       "      <td>NOT FINAL</td>\n",
       "      <td>לא סופי</td>\n",
       "    </tr>\n",
       "    <tr>\n",
       "      <th>2809</th>\n",
       "      <td>2810</td>\n",
       "      <td>6H</td>\n",
       "      <td>251</td>\n",
       "      <td>ISRAIR AIRLINES</td>\n",
       "      <td>2023-07-03T14:40:00</td>\n",
       "      <td>2023-07-03T14:40:00</td>\n",
       "      <td>D</td>\n",
       "      <td>BER</td>\n",
       "      <td>BERLIN BRANDENBURG INTL</td>\n",
       "      <td>ברלין</td>\n",
       "      <td>BERLIN</td>\n",
       "      <td>גרמניה</td>\n",
       "      <td>GERMANY</td>\n",
       "      <td>1</td>\n",
       "      <td>None</td>\n",
       "      <td>None</td>\n",
       "      <td>ON TIME</td>\n",
       "      <td>בזמן</td>\n",
       "    </tr>\n",
       "  </tbody>\n",
       "</table>\n",
       "</div>"
      ],
      "text/plain": [
       "       _id CHOPER CHFLTN                   CHOPERD               CHSTOL  \\\n",
       "2800  2801     EY    594            ETIHAD AIRWAYS  2023-07-03T14:30:00   \n",
       "2801  2802     IZ    097  ARKIA  ISRAELI  AIRLINES  2023-07-03T14:30:00   \n",
       "2802  2803     LY   5193     EL AL ISRAEL AIRLINES  2023-07-03T14:30:00   \n",
       "2803  2804     LY   9601     EL AL ISRAEL AIRLINES  2023-07-03T14:30:00   \n",
       "2804  2805     6H    048           ISRAIR AIRLINES  2023-07-03T14:30:00   \n",
       "2805  2806     AF    962                AIR FRANCE  2023-07-03T14:40:00   \n",
       "2806  2807     BZ    754         BLUE BIRD AIRWAYS  2023-07-03T14:40:00   \n",
       "2807  2808     BZ    888         BLUE BIRD AIRWAYS  2023-07-03T14:40:00   \n",
       "2808  2809     DL   8457            DELTA AIRLINES  2023-07-03T14:40:00   \n",
       "2809  2810     6H    251           ISRAIR AIRLINES  2023-07-03T14:40:00   \n",
       "\n",
       "                   CHPTOL CHAORD CHLOC1                  CHLOC1D  \\\n",
       "2800  2023-07-03T14:30:00      D    AUH                ABU DHABI   \n",
       "2801  2023-07-03T14:30:00      D    HER                HERAKLION   \n",
       "2802  2023-07-03T14:30:00      D    SSH          SHARM EL SHEIKH   \n",
       "2803  2023-07-03T14:30:00      D    AUH                ABU DHABI   \n",
       "2804  2023-07-03T14:30:00      A    ETM                    RAMON   \n",
       "2805  2023-07-03T14:40:00      A    CDG  PARIS-CHARLES DE GAULLE   \n",
       "2806  2023-07-03T14:40:00      D    HER                HERAKLION   \n",
       "2807  2023-07-03T14:40:00      D    JMK                  MIKONOS   \n",
       "2808  2023-07-03T14:40:00      A    CDG  PARIS-CHARLES DE GAULLE   \n",
       "2809  2023-07-03T14:40:00      D    BER  BERLIN BRANDENBURG INTL   \n",
       "\n",
       "          CHLOC1TH          CHLOC1T              CHLOC1CH  \\\n",
       "2800      אבו דאבי        ABU DHABI  איחוד האמירויות הערב   \n",
       "2801       הרקליון        HERAKLION                  יוון   \n",
       "2802  שארם אל-שייח  SHARM EL SHEIKH                 מצרים   \n",
       "2803      אבו דאבי        ABU DHABI  איחוד האמירויות הערב   \n",
       "2804   אילת - רמון            RAMON                 ישראל   \n",
       "2805          פריס            PARIS                  צרפת   \n",
       "2806       הרקליון        HERAKLION                  יוון   \n",
       "2807       מיקונוס          MYKONOS                  יוון   \n",
       "2808          פריס            PARIS                  צרפת   \n",
       "2809         ברלין           BERLIN                גרמניה   \n",
       "\n",
       "                   CHLOCCT CHTERM CHCINT CHCKZN    CHRMINE  CHRMINH  \n",
       "2800  UNITED ARAB EMIRATES      3   None   None    ON TIME     בזמן  \n",
       "2801                GREECE      1   None   None    ON TIME     בזמן  \n",
       "2802                 EGYPT      3   None   None    ON TIME     בזמן  \n",
       "2803  UNITED ARAB EMIRATES      3   None   None    ON TIME     בזמן  \n",
       "2804                ISRAEL      1   None   None  NOT FINAL  לא סופי  \n",
       "2805                FRANCE      3   None   None  NOT FINAL  לא סופי  \n",
       "2806                GREECE      3   None   None    ON TIME     בזמן  \n",
       "2807                GREECE      3   None   None    ON TIME     בזמן  \n",
       "2808                FRANCE      3   None   None  NOT FINAL  לא סופי  \n",
       "2809               GERMANY      1   None   None    ON TIME     בזמן  "
      ]
     },
     "execution_count": 17,
     "metadata": {},
     "output_type": "execute_result"
    }
   ],
   "source": [
    "flights.tail(10)"
   ]
  },
  {
   "cell_type": "markdown",
   "metadata": {},
   "source": [
    "##### Percentage of Nulls for each columns "
   ]
  },
  {
   "cell_type": "code",
   "execution_count": 18,
   "metadata": {},
   "outputs": [
    {
     "data": {
      "text/plain": [
       "_id            0\n",
       "CHOPER         0\n",
       "CHFLTN         0\n",
       "CHOPERD        0\n",
       "CHSTOL         0\n",
       "CHPTOL         0\n",
       "CHAORD         0\n",
       "CHLOC1         0\n",
       "CHLOC1D        0\n",
       "CHLOC1TH       0\n",
       "CHLOC1T        0\n",
       "CHLOC1CH       0\n",
       "CHLOCCT        0\n",
       "CHTERM         0\n",
       "CHCINT      1623\n",
       "CHCKZN      1623\n",
       "CHRMINE        0\n",
       "CHRMINH        0\n",
       "dtype: int64"
      ]
     },
     "execution_count": 18,
     "metadata": {},
     "output_type": "execute_result"
    }
   ],
   "source": [
    "flights.isnull().sum()"
   ]
  },
  {
   "cell_type": "code",
   "execution_count": 19,
   "metadata": {},
   "outputs": [
    {
     "data": {
      "text/html": [
       "<div>\n",
       "<style scoped>\n",
       "    .dataframe tbody tr th:only-of-type {\n",
       "        vertical-align: middle;\n",
       "    }\n",
       "\n",
       "    .dataframe tbody tr th {\n",
       "        vertical-align: top;\n",
       "    }\n",
       "\n",
       "    .dataframe thead th {\n",
       "        text-align: right;\n",
       "    }\n",
       "</style>\n",
       "<table border=\"1\" class=\"dataframe\">\n",
       "  <thead>\n",
       "    <tr style=\"text-align: right;\">\n",
       "      <th></th>\n",
       "      <th>_id</th>\n",
       "      <th>CHOPER</th>\n",
       "      <th>CHFLTN</th>\n",
       "      <th>CHOPERD</th>\n",
       "      <th>CHSTOL</th>\n",
       "      <th>CHPTOL</th>\n",
       "      <th>CHAORD</th>\n",
       "      <th>CHLOC1</th>\n",
       "      <th>CHLOC1D</th>\n",
       "      <th>CHLOC1TH</th>\n",
       "      <th>CHLOC1T</th>\n",
       "      <th>CHLOC1CH</th>\n",
       "      <th>CHLOCCT</th>\n",
       "      <th>CHTERM</th>\n",
       "      <th>CHCINT</th>\n",
       "      <th>CHCKZN</th>\n",
       "      <th>CHRMINE</th>\n",
       "      <th>CHRMINH</th>\n",
       "    </tr>\n",
       "  </thead>\n",
       "  <tbody>\n",
       "    <tr>\n",
       "      <th>0</th>\n",
       "      <td>False</td>\n",
       "      <td>False</td>\n",
       "      <td>False</td>\n",
       "      <td>False</td>\n",
       "      <td>False</td>\n",
       "      <td>False</td>\n",
       "      <td>False</td>\n",
       "      <td>False</td>\n",
       "      <td>False</td>\n",
       "      <td>False</td>\n",
       "      <td>False</td>\n",
       "      <td>False</td>\n",
       "      <td>False</td>\n",
       "      <td>False</td>\n",
       "      <td>False</td>\n",
       "      <td>False</td>\n",
       "      <td>False</td>\n",
       "      <td>False</td>\n",
       "    </tr>\n",
       "    <tr>\n",
       "      <th>1</th>\n",
       "      <td>False</td>\n",
       "      <td>False</td>\n",
       "      <td>False</td>\n",
       "      <td>False</td>\n",
       "      <td>False</td>\n",
       "      <td>False</td>\n",
       "      <td>False</td>\n",
       "      <td>False</td>\n",
       "      <td>False</td>\n",
       "      <td>False</td>\n",
       "      <td>False</td>\n",
       "      <td>False</td>\n",
       "      <td>False</td>\n",
       "      <td>False</td>\n",
       "      <td>True</td>\n",
       "      <td>True</td>\n",
       "      <td>False</td>\n",
       "      <td>False</td>\n",
       "    </tr>\n",
       "    <tr>\n",
       "      <th>2</th>\n",
       "      <td>False</td>\n",
       "      <td>False</td>\n",
       "      <td>False</td>\n",
       "      <td>False</td>\n",
       "      <td>False</td>\n",
       "      <td>False</td>\n",
       "      <td>False</td>\n",
       "      <td>False</td>\n",
       "      <td>False</td>\n",
       "      <td>False</td>\n",
       "      <td>False</td>\n",
       "      <td>False</td>\n",
       "      <td>False</td>\n",
       "      <td>False</td>\n",
       "      <td>True</td>\n",
       "      <td>True</td>\n",
       "      <td>False</td>\n",
       "      <td>False</td>\n",
       "    </tr>\n",
       "    <tr>\n",
       "      <th>3</th>\n",
       "      <td>False</td>\n",
       "      <td>False</td>\n",
       "      <td>False</td>\n",
       "      <td>False</td>\n",
       "      <td>False</td>\n",
       "      <td>False</td>\n",
       "      <td>False</td>\n",
       "      <td>False</td>\n",
       "      <td>False</td>\n",
       "      <td>False</td>\n",
       "      <td>False</td>\n",
       "      <td>False</td>\n",
       "      <td>False</td>\n",
       "      <td>False</td>\n",
       "      <td>False</td>\n",
       "      <td>False</td>\n",
       "      <td>False</td>\n",
       "      <td>False</td>\n",
       "    </tr>\n",
       "    <tr>\n",
       "      <th>4</th>\n",
       "      <td>False</td>\n",
       "      <td>False</td>\n",
       "      <td>False</td>\n",
       "      <td>False</td>\n",
       "      <td>False</td>\n",
       "      <td>False</td>\n",
       "      <td>False</td>\n",
       "      <td>False</td>\n",
       "      <td>False</td>\n",
       "      <td>False</td>\n",
       "      <td>False</td>\n",
       "      <td>False</td>\n",
       "      <td>False</td>\n",
       "      <td>False</td>\n",
       "      <td>False</td>\n",
       "      <td>False</td>\n",
       "      <td>False</td>\n",
       "      <td>False</td>\n",
       "    </tr>\n",
       "    <tr>\n",
       "      <th>...</th>\n",
       "      <td>...</td>\n",
       "      <td>...</td>\n",
       "      <td>...</td>\n",
       "      <td>...</td>\n",
       "      <td>...</td>\n",
       "      <td>...</td>\n",
       "      <td>...</td>\n",
       "      <td>...</td>\n",
       "      <td>...</td>\n",
       "      <td>...</td>\n",
       "      <td>...</td>\n",
       "      <td>...</td>\n",
       "      <td>...</td>\n",
       "      <td>...</td>\n",
       "      <td>...</td>\n",
       "      <td>...</td>\n",
       "      <td>...</td>\n",
       "      <td>...</td>\n",
       "    </tr>\n",
       "    <tr>\n",
       "      <th>2805</th>\n",
       "      <td>False</td>\n",
       "      <td>False</td>\n",
       "      <td>False</td>\n",
       "      <td>False</td>\n",
       "      <td>False</td>\n",
       "      <td>False</td>\n",
       "      <td>False</td>\n",
       "      <td>False</td>\n",
       "      <td>False</td>\n",
       "      <td>False</td>\n",
       "      <td>False</td>\n",
       "      <td>False</td>\n",
       "      <td>False</td>\n",
       "      <td>False</td>\n",
       "      <td>True</td>\n",
       "      <td>True</td>\n",
       "      <td>False</td>\n",
       "      <td>False</td>\n",
       "    </tr>\n",
       "    <tr>\n",
       "      <th>2806</th>\n",
       "      <td>False</td>\n",
       "      <td>False</td>\n",
       "      <td>False</td>\n",
       "      <td>False</td>\n",
       "      <td>False</td>\n",
       "      <td>False</td>\n",
       "      <td>False</td>\n",
       "      <td>False</td>\n",
       "      <td>False</td>\n",
       "      <td>False</td>\n",
       "      <td>False</td>\n",
       "      <td>False</td>\n",
       "      <td>False</td>\n",
       "      <td>False</td>\n",
       "      <td>True</td>\n",
       "      <td>True</td>\n",
       "      <td>False</td>\n",
       "      <td>False</td>\n",
       "    </tr>\n",
       "    <tr>\n",
       "      <th>2807</th>\n",
       "      <td>False</td>\n",
       "      <td>False</td>\n",
       "      <td>False</td>\n",
       "      <td>False</td>\n",
       "      <td>False</td>\n",
       "      <td>False</td>\n",
       "      <td>False</td>\n",
       "      <td>False</td>\n",
       "      <td>False</td>\n",
       "      <td>False</td>\n",
       "      <td>False</td>\n",
       "      <td>False</td>\n",
       "      <td>False</td>\n",
       "      <td>False</td>\n",
       "      <td>True</td>\n",
       "      <td>True</td>\n",
       "      <td>False</td>\n",
       "      <td>False</td>\n",
       "    </tr>\n",
       "    <tr>\n",
       "      <th>2808</th>\n",
       "      <td>False</td>\n",
       "      <td>False</td>\n",
       "      <td>False</td>\n",
       "      <td>False</td>\n",
       "      <td>False</td>\n",
       "      <td>False</td>\n",
       "      <td>False</td>\n",
       "      <td>False</td>\n",
       "      <td>False</td>\n",
       "      <td>False</td>\n",
       "      <td>False</td>\n",
       "      <td>False</td>\n",
       "      <td>False</td>\n",
       "      <td>False</td>\n",
       "      <td>True</td>\n",
       "      <td>True</td>\n",
       "      <td>False</td>\n",
       "      <td>False</td>\n",
       "    </tr>\n",
       "    <tr>\n",
       "      <th>2809</th>\n",
       "      <td>False</td>\n",
       "      <td>False</td>\n",
       "      <td>False</td>\n",
       "      <td>False</td>\n",
       "      <td>False</td>\n",
       "      <td>False</td>\n",
       "      <td>False</td>\n",
       "      <td>False</td>\n",
       "      <td>False</td>\n",
       "      <td>False</td>\n",
       "      <td>False</td>\n",
       "      <td>False</td>\n",
       "      <td>False</td>\n",
       "      <td>False</td>\n",
       "      <td>True</td>\n",
       "      <td>True</td>\n",
       "      <td>False</td>\n",
       "      <td>False</td>\n",
       "    </tr>\n",
       "  </tbody>\n",
       "</table>\n",
       "<p>2810 rows × 18 columns</p>\n",
       "</div>"
      ],
      "text/plain": [
       "        _id  CHOPER  CHFLTN  CHOPERD  CHSTOL  CHPTOL  CHAORD  CHLOC1  CHLOC1D  \\\n",
       "0     False   False   False    False   False   False   False   False    False   \n",
       "1     False   False   False    False   False   False   False   False    False   \n",
       "2     False   False   False    False   False   False   False   False    False   \n",
       "3     False   False   False    False   False   False   False   False    False   \n",
       "4     False   False   False    False   False   False   False   False    False   \n",
       "...     ...     ...     ...      ...     ...     ...     ...     ...      ...   \n",
       "2805  False   False   False    False   False   False   False   False    False   \n",
       "2806  False   False   False    False   False   False   False   False    False   \n",
       "2807  False   False   False    False   False   False   False   False    False   \n",
       "2808  False   False   False    False   False   False   False   False    False   \n",
       "2809  False   False   False    False   False   False   False   False    False   \n",
       "\n",
       "      CHLOC1TH  CHLOC1T  CHLOC1CH  CHLOCCT  CHTERM  CHCINT  CHCKZN  CHRMINE  \\\n",
       "0        False    False     False    False   False   False   False    False   \n",
       "1        False    False     False    False   False    True    True    False   \n",
       "2        False    False     False    False   False    True    True    False   \n",
       "3        False    False     False    False   False   False   False    False   \n",
       "4        False    False     False    False   False   False   False    False   \n",
       "...        ...      ...       ...      ...     ...     ...     ...      ...   \n",
       "2805     False    False     False    False   False    True    True    False   \n",
       "2806     False    False     False    False   False    True    True    False   \n",
       "2807     False    False     False    False   False    True    True    False   \n",
       "2808     False    False     False    False   False    True    True    False   \n",
       "2809     False    False     False    False   False    True    True    False   \n",
       "\n",
       "      CHRMINH  \n",
       "0       False  \n",
       "1       False  \n",
       "2       False  \n",
       "3       False  \n",
       "4       False  \n",
       "...       ...  \n",
       "2805    False  \n",
       "2806    False  \n",
       "2807    False  \n",
       "2808    False  \n",
       "2809    False  \n",
       "\n",
       "[2810 rows x 18 columns]"
      ]
     },
     "execution_count": 19,
     "metadata": {},
     "output_type": "execute_result"
    }
   ],
   "source": [
    "flights.isnull()"
   ]
  },
  {
   "cell_type": "code",
   "execution_count": 20,
   "metadata": {},
   "outputs": [
    {
     "data": {
      "text/plain": [
       "_id          0.000000\n",
       "CHOPER       0.000000\n",
       "CHFLTN       0.000000\n",
       "CHOPERD      0.000000\n",
       "CHSTOL       0.000000\n",
       "CHPTOL       0.000000\n",
       "CHAORD       0.000000\n",
       "CHLOC1       0.000000\n",
       "CHLOC1D      0.000000\n",
       "CHLOC1TH     0.000000\n",
       "CHLOC1T      0.000000\n",
       "CHLOC1CH     0.000000\n",
       "CHLOCCT      0.000000\n",
       "CHTERM       0.000000\n",
       "CHCINT      57.758007\n",
       "CHCKZN      57.758007\n",
       "CHRMINE      0.000000\n",
       "CHRMINH      0.000000\n",
       "dtype: float64"
      ]
     },
     "execution_count": 20,
     "metadata": {},
     "output_type": "execute_result"
    }
   ],
   "source": [
    "\n",
    "flights.isnull().sum() * 100 / len(flights)\n"
   ]
  },
  {
   "cell_type": "markdown",
   "metadata": {},
   "source": [
    "##### Dropping rows that have Null"
   ]
  },
  {
   "cell_type": "code",
   "execution_count": 21,
   "metadata": {},
   "outputs": [],
   "source": [
    "flights.dropna(inplace = True)"
   ]
  },
  {
   "cell_type": "code",
   "execution_count": 22,
   "metadata": {},
   "outputs": [
    {
     "data": {
      "text/plain": [
       "(1187, 18)"
      ]
     },
     "execution_count": 22,
     "metadata": {},
     "output_type": "execute_result"
    }
   ],
   "source": [
    "flights.shape\n"
   ]
  },
  {
   "cell_type": "markdown",
   "metadata": {},
   "source": [
    "##### Format current day "
   ]
  },
  {
   "cell_type": "code",
   "execution_count": 23,
   "metadata": {},
   "outputs": [
    {
     "name": "stdout",
     "output_type": "stream",
     "text": [
      "Today = 30_06_23\n"
     ]
    }
   ],
   "source": [
    "current_date = dt.datetime.now().strftime(\"%d_%m_%y\")\n",
    "print(\"Today =\", current_date)"
   ]
  },
  {
   "cell_type": "markdown",
   "metadata": {},
   "source": [
    "##### Drop ID column"
   ]
  },
  {
   "cell_type": "code",
   "execution_count": 24,
   "metadata": {},
   "outputs": [],
   "source": [
    "flights.drop('_id', axis=1, inplace=True)"
   ]
  },
  {
   "cell_type": "markdown",
   "metadata": {},
   "source": [
    "##### Saving into csv file "
   ]
  },
  {
   "cell_type": "code",
   "execution_count": 25,
   "metadata": {},
   "outputs": [],
   "source": [
    "filename = current_date+ ' ' + 'Flights' + '.csv'\n",
    "flights.to_csv(filename, index=False)"
   ]
  },
  {
   "cell_type": "markdown",
   "metadata": {},
   "source": [
    "##### Display only airline code and name columns without duplicates"
   ]
  },
  {
   "cell_type": "code",
   "execution_count": 26,
   "metadata": {},
   "outputs": [],
   "source": [
    "airline_df = flights[['CHOPER','CHOPERD']].drop_duplicates()\n"
   ]
  },
  {
   "cell_type": "code",
   "execution_count": 27,
   "metadata": {},
   "outputs": [
    {
     "data": {
      "text/html": [
       "<div>\n",
       "<style scoped>\n",
       "    .dataframe tbody tr th:only-of-type {\n",
       "        vertical-align: middle;\n",
       "    }\n",
       "\n",
       "    .dataframe tbody tr th {\n",
       "        vertical-align: top;\n",
       "    }\n",
       "\n",
       "    .dataframe thead th {\n",
       "        text-align: right;\n",
       "    }\n",
       "</style>\n",
       "<table border=\"1\" class=\"dataframe\">\n",
       "  <thead>\n",
       "    <tr style=\"text-align: right;\">\n",
       "      <th></th>\n",
       "      <th>CHOPER</th>\n",
       "      <th>CHOPERD</th>\n",
       "    </tr>\n",
       "  </thead>\n",
       "  <tbody>\n",
       "    <tr>\n",
       "      <th>0</th>\n",
       "      <td>6H</td>\n",
       "      <td>ISRAIR AIRLINES</td>\n",
       "    </tr>\n",
       "    <tr>\n",
       "      <th>3</th>\n",
       "      <td>LY</td>\n",
       "      <td>EL AL ISRAEL AIRLINES</td>\n",
       "    </tr>\n",
       "    <tr>\n",
       "      <th>4</th>\n",
       "      <td>SM</td>\n",
       "      <td>AIR CAIRO</td>\n",
       "    </tr>\n",
       "    <tr>\n",
       "      <th>6</th>\n",
       "      <td>EJU</td>\n",
       "      <td>EASYJET EUROPE AIRLINE</td>\n",
       "    </tr>\n",
       "    <tr>\n",
       "      <th>9</th>\n",
       "      <td>CX</td>\n",
       "      <td>CATHAY PACIFIC AIRWAYS</td>\n",
       "    </tr>\n",
       "    <tr>\n",
       "      <th>...</th>\n",
       "      <td>...</td>\n",
       "      <td>...</td>\n",
       "    </tr>\n",
       "    <tr>\n",
       "      <th>1247</th>\n",
       "      <td>FI</td>\n",
       "      <td>ICELAND AIR</td>\n",
       "    </tr>\n",
       "    <tr>\n",
       "      <th>1782</th>\n",
       "      <td>S7</td>\n",
       "      <td>SIBERIA AIRLINES</td>\n",
       "    </tr>\n",
       "    <tr>\n",
       "      <th>1849</th>\n",
       "      <td>HY</td>\n",
       "      <td>UZBEKISTAN AIR</td>\n",
       "    </tr>\n",
       "    <tr>\n",
       "      <th>1881</th>\n",
       "      <td>FH</td>\n",
       "      <td>FREEBIRD AIRLINES</td>\n",
       "    </tr>\n",
       "    <tr>\n",
       "      <th>2058</th>\n",
       "      <td>HU</td>\n",
       "      <td>HAINAN AIRLINES</td>\n",
       "    </tr>\n",
       "  </tbody>\n",
       "</table>\n",
       "<p>90 rows × 2 columns</p>\n",
       "</div>"
      ],
      "text/plain": [
       "     CHOPER                 CHOPERD\n",
       "0        6H         ISRAIR AIRLINES\n",
       "3        LY   EL AL ISRAEL AIRLINES\n",
       "4        SM               AIR CAIRO\n",
       "6       EJU  EASYJET EUROPE AIRLINE\n",
       "9        CX  CATHAY PACIFIC AIRWAYS\n",
       "...     ...                     ...\n",
       "1247     FI             ICELAND AIR\n",
       "1782     S7        SIBERIA AIRLINES\n",
       "1849     HY          UZBEKISTAN AIR\n",
       "1881     FH       FREEBIRD AIRLINES\n",
       "2058     HU         HAINAN AIRLINES\n",
       "\n",
       "[90 rows x 2 columns]"
      ]
     },
     "execution_count": 27,
     "metadata": {},
     "output_type": "execute_result"
    }
   ],
   "source": [
    "airline_df"
   ]
  },
  {
   "cell_type": "markdown",
   "metadata": {},
   "source": [
    "##### Download airlines"
   ]
  },
  {
   "cell_type": "code",
   "execution_count": 29,
   "metadata": {},
   "outputs": [],
   "source": [
    "os.chdir ('C:\\\\python\\\\pandas')\n",
    "airlines = pd.read_csv ('airlines.csv')"
   ]
  },
  {
   "cell_type": "code",
   "execution_count": 30,
   "metadata": {},
   "outputs": [
    {
     "name": "stdout",
     "output_type": "stream",
     "text": [
      "<class 'pandas.core.frame.DataFrame'>\n",
      "RangeIndex: 100 entries, 0 to 99\n",
      "Data columns (total 2 columns):\n",
      " #   Column   Non-Null Count  Dtype \n",
      "---  ------   --------------  ----- \n",
      " 0   CHOPER   100 non-null    object\n",
      " 1   CHOPERD  100 non-null    object\n",
      "dtypes: object(2)\n",
      "memory usage: 1.7+ KB\n"
     ]
    }
   ],
   "source": [
    "airlines.info()"
   ]
  },
  {
   "cell_type": "markdown",
   "metadata": {},
   "source": [
    "##### merge and save airline DF to file "
   ]
  },
  {
   "cell_type": "code",
   "execution_count": 31,
   "metadata": {},
   "outputs": [],
   "source": [
    "airlines =  pd.concat ([airlines,airline_df])"
   ]
  },
  {
   "cell_type": "code",
   "execution_count": 32,
   "metadata": {},
   "outputs": [
    {
     "name": "stdout",
     "output_type": "stream",
     "text": [
      "<class 'pandas.core.frame.DataFrame'>\n",
      "Index: 190 entries, 0 to 2058\n",
      "Data columns (total 2 columns):\n",
      " #   Column   Non-Null Count  Dtype \n",
      "---  ------   --------------  ----- \n",
      " 0   CHOPER   190 non-null    object\n",
      " 1   CHOPERD  190 non-null    object\n",
      "dtypes: object(2)\n",
      "memory usage: 4.5+ KB\n"
     ]
    }
   ],
   "source": [
    "airlines.info()"
   ]
  },
  {
   "cell_type": "code",
   "execution_count": 33,
   "metadata": {},
   "outputs": [],
   "source": [
    "filename = current_date + ' ' + 'Airlines' + '.csv'\n",
    "airlines.to_csv(filename, index=False)"
   ]
  },
  {
   "cell_type": "markdown",
   "metadata": {},
   "source": [
    "##### Droping Airline name column"
   ]
  },
  {
   "cell_type": "code",
   "execution_count": 34,
   "metadata": {},
   "outputs": [],
   "source": [
    "flights = flights.drop('CHOPERD', axis=1)"
   ]
  },
  {
   "cell_type": "code",
   "execution_count": 35,
   "metadata": {},
   "outputs": [
    {
     "data": {
      "text/plain": [
       "Index(['CHOPER', 'CHFLTN', 'CHSTOL', 'CHPTOL', 'CHAORD', 'CHLOC1', 'CHLOC1D',\n",
       "       'CHLOC1TH', 'CHLOC1T', 'CHLOC1CH', 'CHLOCCT', 'CHTERM', 'CHCINT',\n",
       "       'CHCKZN', 'CHRMINE', 'CHRMINH'],\n",
       "      dtype='object')"
      ]
     },
     "execution_count": 35,
     "metadata": {},
     "output_type": "execute_result"
    }
   ],
   "source": [
    "flights.columns"
   ]
  },
  {
   "cell_type": "markdown",
   "metadata": {},
   "source": [
    "##### Airport - same task "
   ]
  },
  {
   "cell_type": "code",
   "execution_count": 36,
   "metadata": {},
   "outputs": [
    {
     "data": {
      "text/html": [
       "<div>\n",
       "<style scoped>\n",
       "    .dataframe tbody tr th:only-of-type {\n",
       "        vertical-align: middle;\n",
       "    }\n",
       "\n",
       "    .dataframe tbody tr th {\n",
       "        vertical-align: top;\n",
       "    }\n",
       "\n",
       "    .dataframe thead th {\n",
       "        text-align: right;\n",
       "    }\n",
       "</style>\n",
       "<table border=\"1\" class=\"dataframe\">\n",
       "  <thead>\n",
       "    <tr style=\"text-align: right;\">\n",
       "      <th></th>\n",
       "      <th>CHLOC1</th>\n",
       "      <th>CHLOC1D</th>\n",
       "    </tr>\n",
       "  </thead>\n",
       "  <tbody>\n",
       "    <tr>\n",
       "      <th>0</th>\n",
       "      <td>ETM</td>\n",
       "      <td>RAMON</td>\n",
       "    </tr>\n",
       "    <tr>\n",
       "      <th>3</th>\n",
       "      <td>LTN</td>\n",
       "      <td>LUTON</td>\n",
       "    </tr>\n",
       "    <tr>\n",
       "      <th>4</th>\n",
       "      <td>SSH</td>\n",
       "      <td>SHARM EL SHEIKH</td>\n",
       "    </tr>\n",
       "  </tbody>\n",
       "</table>\n",
       "</div>"
      ],
      "text/plain": [
       "  CHLOC1          CHLOC1D\n",
       "0    ETM            RAMON\n",
       "3    LTN            LUTON\n",
       "4    SSH  SHARM EL SHEIKH"
      ]
     },
     "execution_count": 36,
     "metadata": {},
     "output_type": "execute_result"
    }
   ],
   "source": [
    "airport_df = flights[['CHLOC1','CHLOC1D']].drop_duplicates()\n",
    "airport_df.head (3)"
   ]
  },
  {
   "cell_type": "code",
   "execution_count": 37,
   "metadata": {},
   "outputs": [
    {
     "data": {
      "text/html": [
       "<div>\n",
       "<style scoped>\n",
       "    .dataframe tbody tr th:only-of-type {\n",
       "        vertical-align: middle;\n",
       "    }\n",
       "\n",
       "    .dataframe tbody tr th {\n",
       "        vertical-align: top;\n",
       "    }\n",
       "\n",
       "    .dataframe thead th {\n",
       "        text-align: right;\n",
       "    }\n",
       "</style>\n",
       "<table border=\"1\" class=\"dataframe\">\n",
       "  <thead>\n",
       "    <tr style=\"text-align: right;\">\n",
       "      <th></th>\n",
       "      <th>CHLOC1</th>\n",
       "      <th>CHLOC1D</th>\n",
       "    </tr>\n",
       "  </thead>\n",
       "  <tbody>\n",
       "    <tr>\n",
       "      <th>0</th>\n",
       "      <td>SAW</td>\n",
       "      <td>ISTANBUL-SABIHA GOKCHEN</td>\n",
       "    </tr>\n",
       "    <tr>\n",
       "      <th>1</th>\n",
       "      <td>PRG</td>\n",
       "      <td>PRAGUE-RUZYNE</td>\n",
       "    </tr>\n",
       "    <tr>\n",
       "      <th>2</th>\n",
       "      <td>IST</td>\n",
       "      <td>ISTANBUL</td>\n",
       "    </tr>\n",
       "  </tbody>\n",
       "</table>\n",
       "</div>"
      ],
      "text/plain": [
       "  CHLOC1                  CHLOC1D\n",
       "0    SAW  ISTANBUL-SABIHA GOKCHEN\n",
       "1    PRG            PRAGUE-RUZYNE\n",
       "2    IST                 ISTANBUL"
      ]
     },
     "execution_count": 37,
     "metadata": {},
     "output_type": "execute_result"
    }
   ],
   "source": [
    "airport = pd.read_csv ('airports.csv')\n",
    "airport.head (3)"
   ]
  },
  {
   "cell_type": "code",
   "execution_count": 38,
   "metadata": {},
   "outputs": [
    {
     "name": "stdout",
     "output_type": "stream",
     "text": [
      "<class 'pandas.core.frame.DataFrame'>\n",
      "RangeIndex: 165 entries, 0 to 164\n",
      "Data columns (total 2 columns):\n",
      " #   Column   Non-Null Count  Dtype \n",
      "---  ------   --------------  ----- \n",
      " 0   CHLOC1   165 non-null    object\n",
      " 1   CHLOC1D  165 non-null    object\n",
      "dtypes: object(2)\n",
      "memory usage: 2.7+ KB\n"
     ]
    }
   ],
   "source": [
    "airport.info()"
   ]
  },
  {
   "cell_type": "code",
   "execution_count": 39,
   "metadata": {},
   "outputs": [
    {
     "name": "stdout",
     "output_type": "stream",
     "text": [
      "<class 'pandas.core.frame.DataFrame'>\n",
      "Index: 292 entries, 0 to 2058\n",
      "Data columns (total 2 columns):\n",
      " #   Column   Non-Null Count  Dtype \n",
      "---  ------   --------------  ----- \n",
      " 0   CHLOC1   292 non-null    object\n",
      " 1   CHLOC1D  292 non-null    object\n",
      "dtypes: object(2)\n",
      "memory usage: 6.8+ KB\n"
     ]
    }
   ],
   "source": [
    "airport =  pd.concat ([airport,airport_df])\n",
    "airport.info()"
   ]
  },
  {
   "cell_type": "markdown",
   "metadata": {},
   "source": [
    "##### Droping Hebrew columns "
   ]
  },
  {
   "cell_type": "code",
   "execution_count": 40,
   "metadata": {},
   "outputs": [],
   "source": [
    "flights = flights.drop (['CHLOC1CH' , 'CHLOC1TH' , 'CHRMINH' ],axis=1)"
   ]
  },
  {
   "cell_type": "code",
   "execution_count": 41,
   "metadata": {},
   "outputs": [
    {
     "data": {
      "text/html": [
       "<div>\n",
       "<style scoped>\n",
       "    .dataframe tbody tr th:only-of-type {\n",
       "        vertical-align: middle;\n",
       "    }\n",
       "\n",
       "    .dataframe tbody tr th {\n",
       "        vertical-align: top;\n",
       "    }\n",
       "\n",
       "    .dataframe thead th {\n",
       "        text-align: right;\n",
       "    }\n",
       "</style>\n",
       "<table border=\"1\" class=\"dataframe\">\n",
       "  <thead>\n",
       "    <tr style=\"text-align: right;\">\n",
       "      <th></th>\n",
       "      <th>CHOPER</th>\n",
       "      <th>CHFLTN</th>\n",
       "      <th>CHSTOL</th>\n",
       "      <th>CHPTOL</th>\n",
       "      <th>CHAORD</th>\n",
       "      <th>CHLOC1</th>\n",
       "      <th>CHLOC1D</th>\n",
       "      <th>CHLOC1T</th>\n",
       "      <th>CHLOCCT</th>\n",
       "      <th>CHTERM</th>\n",
       "      <th>CHCINT</th>\n",
       "      <th>CHCKZN</th>\n",
       "      <th>CHRMINE</th>\n",
       "    </tr>\n",
       "  </thead>\n",
       "  <tbody>\n",
       "    <tr>\n",
       "      <th>0</th>\n",
       "      <td>6H</td>\n",
       "      <td>047</td>\n",
       "      <td>2023-06-29T14:00:00</td>\n",
       "      <td>2023-06-29T14:46:00</td>\n",
       "      <td>D</td>\n",
       "      <td>ETM</td>\n",
       "      <td>RAMON</td>\n",
       "      <td>RAMON</td>\n",
       "      <td>ISRAEL</td>\n",
       "      <td>1</td>\n",
       "      <td>336-341</td>\n",
       "      <td>B</td>\n",
       "      <td>DEPARTED</td>\n",
       "    </tr>\n",
       "    <tr>\n",
       "      <th>3</th>\n",
       "      <td>LY</td>\n",
       "      <td>313</td>\n",
       "      <td>2023-06-29T14:30:00</td>\n",
       "      <td>2023-06-29T14:52:00</td>\n",
       "      <td>D</td>\n",
       "      <td>LTN</td>\n",
       "      <td>LUTON</td>\n",
       "      <td>LONDON LUTON</td>\n",
       "      <td>UNITED KINGDOM</td>\n",
       "      <td>3</td>\n",
       "      <td>78-99</td>\n",
       "      <td>D</td>\n",
       "      <td>DEPARTED</td>\n",
       "    </tr>\n",
       "    <tr>\n",
       "      <th>4</th>\n",
       "      <td>SM</td>\n",
       "      <td>3002</td>\n",
       "      <td>2023-06-29T13:55:00</td>\n",
       "      <td>2023-06-29T14:54:00</td>\n",
       "      <td>D</td>\n",
       "      <td>SSH</td>\n",
       "      <td>SHARM EL SHEIKH</td>\n",
       "      <td>SHARM EL SHEIKH</td>\n",
       "      <td>EGYPT</td>\n",
       "      <td>3</td>\n",
       "      <td>G22-G24</td>\n",
       "      <td>G</td>\n",
       "      <td>DEPARTED</td>\n",
       "    </tr>\n",
       "  </tbody>\n",
       "</table>\n",
       "</div>"
      ],
      "text/plain": [
       "  CHOPER CHFLTN               CHSTOL               CHPTOL CHAORD CHLOC1  \\\n",
       "0     6H    047  2023-06-29T14:00:00  2023-06-29T14:46:00      D    ETM   \n",
       "3     LY    313  2023-06-29T14:30:00  2023-06-29T14:52:00      D    LTN   \n",
       "4     SM   3002  2023-06-29T13:55:00  2023-06-29T14:54:00      D    SSH   \n",
       "\n",
       "           CHLOC1D          CHLOC1T         CHLOCCT CHTERM   CHCINT CHCKZN  \\\n",
       "0            RAMON            RAMON          ISRAEL      1  336-341      B   \n",
       "3            LUTON     LONDON LUTON  UNITED KINGDOM      3    78-99      D   \n",
       "4  SHARM EL SHEIKH  SHARM EL SHEIKH           EGYPT      3  G22-G24      G   \n",
       "\n",
       "    CHRMINE  \n",
       "0  DEPARTED  \n",
       "3  DEPARTED  \n",
       "4  DEPARTED  "
      ]
     },
     "execution_count": 41,
     "metadata": {},
     "output_type": "execute_result"
    }
   ],
   "source": [
    "flights.head(3)"
   ]
  },
  {
   "cell_type": "markdown",
   "metadata": {},
   "source": [
    "##### Columns rename "
   ]
  },
  {
   "cell_type": "code",
   "execution_count": 42,
   "metadata": {},
   "outputs": [
    {
     "data": {
      "text/plain": [
       "Index(['CHOPER', 'CHFLTN', 'CHSTOL', 'CHPTOL', 'CHAORD', 'CHLOC1', 'CHLOC1D',\n",
       "       'CHLOC1T', 'CHLOCCT', 'CHTERM', 'CHCINT', 'CHCKZN', 'CHRMINE'],\n",
       "      dtype='object')"
      ]
     },
     "execution_count": 42,
     "metadata": {},
     "output_type": "execute_result"
    }
   ],
   "source": [
    "flights.columns"
   ]
  },
  {
   "cell_type": "code",
   "execution_count": 43,
   "metadata": {},
   "outputs": [],
   "source": [
    "flights = flights.rename (columns = {'CHOPER':'Airline',         'CHFLTN':'FlightNum' ,\n",
    "                                     'CHSTOL':'PlanTime',        'CHPTOL': 'ActualTime',\n",
    "                                     'CHAORD':'Direction',       'CHLOC1': 'Airport',\n",
    "                                     'CHLOC1D': 'Airport Name',  'CHLOC1T': 'City',\n",
    "                                     'CHLOCCT': 'Country' ,      'CHTERM': 'Terminal',\n",
    "                                     'CHCINT': 'Sleeve',         'CHCKZN': 'Landing strip',\n",
    "                                     'CHRMINE':'Status' })"
   ]
  },
  {
   "cell_type": "code",
   "execution_count": 44,
   "metadata": {},
   "outputs": [
    {
     "data": {
      "text/plain": [
       "Index(['Airline', 'FlightNum', 'PlanTime', 'ActualTime', 'Direction',\n",
       "       'Airport', 'Airport Name', 'City', 'Country', 'Terminal', 'Sleeve',\n",
       "       'Landing strip', 'Status'],\n",
       "      dtype='object')"
      ]
     },
     "execution_count": 44,
     "metadata": {},
     "output_type": "execute_result"
    }
   ],
   "source": [
    "flights.columns"
   ]
  },
  {
   "cell_type": "markdown",
   "metadata": {},
   "source": [
    "##### Changes datetime type"
   ]
  },
  {
   "cell_type": "code",
   "execution_count": 45,
   "metadata": {},
   "outputs": [],
   "source": [
    "flights.PlanTime = pd.to_datetime(flights.PlanTime)\n",
    "flights.ActualTime = pd.to_datetime(flights.ActualTime)"
   ]
  },
  {
   "cell_type": "code",
   "execution_count": 46,
   "metadata": {},
   "outputs": [
    {
     "name": "stdout",
     "output_type": "stream",
     "text": [
      "<class 'pandas.core.frame.DataFrame'>\n",
      "Index: 1187 entries, 0 to 2390\n",
      "Data columns (total 13 columns):\n",
      " #   Column         Non-Null Count  Dtype         \n",
      "---  ------         --------------  -----         \n",
      " 0   Airline        1187 non-null   object        \n",
      " 1   FlightNum      1187 non-null   object        \n",
      " 2   PlanTime       1187 non-null   datetime64[ns]\n",
      " 3   ActualTime     1187 non-null   datetime64[ns]\n",
      " 4   Direction      1187 non-null   object        \n",
      " 5   Airport        1187 non-null   object        \n",
      " 6   Airport Name   1187 non-null   object        \n",
      " 7   City           1187 non-null   object        \n",
      " 8   Country        1187 non-null   object        \n",
      " 9   Terminal       1187 non-null   object        \n",
      " 10  Sleeve         1187 non-null   object        \n",
      " 11  Landing strip  1187 non-null   object        \n",
      " 12  Status         1187 non-null   object        \n",
      "dtypes: datetime64[ns](2), object(11)\n",
      "memory usage: 129.8+ KB\n"
     ]
    }
   ],
   "source": [
    "flights.info()"
   ]
  },
  {
   "cell_type": "markdown",
   "metadata": {},
   "source": [
    "##### Saving DF to Clean Data file"
   ]
  },
  {
   "cell_type": "code",
   "execution_count": 47,
   "metadata": {},
   "outputs": [],
   "source": [
    "filename = current_date+ ' ' + 'Clean' + '.csv'\n",
    "flights.to_csv(filename, index=False)"
   ]
  },
  {
   "cell_type": "markdown",
   "metadata": {},
   "source": [
    "##### Preparing Final data and save as new file "
   ]
  },
  {
   "cell_type": "code",
   "execution_count": 48,
   "metadata": {},
   "outputs": [
    {
     "data": {
      "text/plain": [
       "Index(['Airline', 'FlightNum', 'PlanTime', 'ActualTime', 'Direction',\n",
       "       'Airport', 'City', 'Country', 'Terminal', 'Status'],\n",
       "      dtype='object')"
      ]
     },
     "execution_count": 48,
     "metadata": {},
     "output_type": "execute_result"
    }
   ],
   "source": [
    "final = pd.read_csv ('final.csv')\n",
    "final.columns "
   ]
  },
  {
   "cell_type": "code",
   "execution_count": 49,
   "metadata": {},
   "outputs": [
    {
     "data": {
      "text/plain": [
       "Index(['Airline', 'FlightNum', 'PlanTime', 'ActualTime', 'Direction',\n",
       "       'Airport', 'Airport Name', 'City', 'Country', 'Terminal', 'Sleeve',\n",
       "       'Landing strip', 'Status'],\n",
       "      dtype='object')"
      ]
     },
     "execution_count": 49,
     "metadata": {},
     "output_type": "execute_result"
    }
   ],
   "source": [
    "flights.columns"
   ]
  },
  {
   "cell_type": "code",
   "execution_count": 50,
   "metadata": {},
   "outputs": [],
   "source": [
    "flights = flights.drop (['Airport Name' , 'Sleeve' , 'Landing strip' ],axis=1)"
   ]
  },
  {
   "cell_type": "code",
   "execution_count": 51,
   "metadata": {},
   "outputs": [
    {
     "data": {
      "text/plain": [
       "Index(['Airline', 'FlightNum', 'PlanTime', 'ActualTime', 'Direction',\n",
       "       'Airport', 'City', 'Country', 'Terminal', 'Status'],\n",
       "      dtype='object')"
      ]
     },
     "execution_count": 51,
     "metadata": {},
     "output_type": "execute_result"
    }
   ],
   "source": [
    "flights.columns"
   ]
  },
  {
   "cell_type": "code",
   "execution_count": 52,
   "metadata": {},
   "outputs": [
    {
     "data": {
      "text/plain": [
       "array(['DEPARTED', 'DEPARTED', 'DEPARTED', ..., 'ON TIME', 'ON TIME',\n",
       "       'ON TIME'], dtype=object)"
      ]
     },
     "execution_count": 52,
     "metadata": {},
     "output_type": "execute_result"
    }
   ],
   "source": [
    "flights.Status.values"
   ]
  },
  {
   "cell_type": "code",
   "execution_count": 53,
   "metadata": {},
   "outputs": [],
   "source": [
    "final_df = flights[flights.Status.isin(['LANDED', 'CANCELED'])]"
   ]
  },
  {
   "cell_type": "code",
   "execution_count": 54,
   "metadata": {},
   "outputs": [
    {
     "data": {
      "text/html": [
       "<div>\n",
       "<style scoped>\n",
       "    .dataframe tbody tr th:only-of-type {\n",
       "        vertical-align: middle;\n",
       "    }\n",
       "\n",
       "    .dataframe tbody tr th {\n",
       "        vertical-align: top;\n",
       "    }\n",
       "\n",
       "    .dataframe thead th {\n",
       "        text-align: right;\n",
       "    }\n",
       "</style>\n",
       "<table border=\"1\" class=\"dataframe\">\n",
       "  <thead>\n",
       "    <tr style=\"text-align: right;\">\n",
       "      <th></th>\n",
       "      <th>Airline</th>\n",
       "      <th>FlightNum</th>\n",
       "      <th>PlanTime</th>\n",
       "      <th>ActualTime</th>\n",
       "      <th>Direction</th>\n",
       "      <th>Airport</th>\n",
       "      <th>City</th>\n",
       "      <th>Country</th>\n",
       "      <th>Terminal</th>\n",
       "      <th>Status</th>\n",
       "    </tr>\n",
       "  </thead>\n",
       "  <tbody>\n",
       "    <tr>\n",
       "      <th>119</th>\n",
       "      <td>5F</td>\n",
       "      <td>448</td>\n",
       "      <td>2023-06-29 17:40:00</td>\n",
       "      <td>2023-06-29 17:40:00</td>\n",
       "      <td>D</td>\n",
       "      <td>KIV</td>\n",
       "      <td>CHISINAU</td>\n",
       "      <td>MOLDOVA</td>\n",
       "      <td>3</td>\n",
       "      <td>CANCELED</td>\n",
       "    </tr>\n",
       "    <tr>\n",
       "      <th>148</th>\n",
       "      <td>IZ</td>\n",
       "      <td>1801</td>\n",
       "      <td>2023-06-29 18:20:00</td>\n",
       "      <td>2023-06-29 18:20:00</td>\n",
       "      <td>D</td>\n",
       "      <td>ETM</td>\n",
       "      <td>RAMON</td>\n",
       "      <td>ISRAEL</td>\n",
       "      <td>1</td>\n",
       "      <td>CANCELED</td>\n",
       "    </tr>\n",
       "    <tr>\n",
       "      <th>249</th>\n",
       "      <td>EZY</td>\n",
       "      <td>2262</td>\n",
       "      <td>2023-06-29 21:00:00</td>\n",
       "      <td>2023-06-29 21:00:00</td>\n",
       "      <td>D</td>\n",
       "      <td>MAN</td>\n",
       "      <td>MANCHESTER</td>\n",
       "      <td>UNITED KINGDOM</td>\n",
       "      <td>1</td>\n",
       "      <td>CANCELED</td>\n",
       "    </tr>\n",
       "  </tbody>\n",
       "</table>\n",
       "</div>"
      ],
      "text/plain": [
       "    Airline FlightNum            PlanTime          ActualTime Direction  \\\n",
       "119      5F       448 2023-06-29 17:40:00 2023-06-29 17:40:00         D   \n",
       "148      IZ      1801 2023-06-29 18:20:00 2023-06-29 18:20:00         D   \n",
       "249     EZY      2262 2023-06-29 21:00:00 2023-06-29 21:00:00         D   \n",
       "\n",
       "    Airport        City         Country Terminal    Status  \n",
       "119     KIV    CHISINAU         MOLDOVA        3  CANCELED  \n",
       "148     ETM       RAMON          ISRAEL        1  CANCELED  \n",
       "249     MAN  MANCHESTER  UNITED KINGDOM        1  CANCELED  "
      ]
     },
     "execution_count": 54,
     "metadata": {},
     "output_type": "execute_result"
    }
   ],
   "source": [
    "final_df"
   ]
  },
  {
   "cell_type": "code",
   "execution_count": 55,
   "metadata": {},
   "outputs": [
    {
     "data": {
      "text/plain": [
       "(658, 10)"
      ]
     },
     "execution_count": 55,
     "metadata": {},
     "output_type": "execute_result"
    }
   ],
   "source": [
    "final.shape"
   ]
  },
  {
   "cell_type": "code",
   "execution_count": 56,
   "metadata": {},
   "outputs": [],
   "source": [
    "final =  pd.concat ([final,final_df])"
   ]
  },
  {
   "cell_type": "code",
   "execution_count": 57,
   "metadata": {},
   "outputs": [
    {
     "data": {
      "text/plain": [
       "(661, 10)"
      ]
     },
     "execution_count": 57,
     "metadata": {},
     "output_type": "execute_result"
    }
   ],
   "source": [
    "final.shape"
   ]
  },
  {
   "cell_type": "code",
   "execution_count": 58,
   "metadata": {},
   "outputs": [],
   "source": [
    "filename = current_date+ ' ' + 'final' + '.csv'\n",
    "final.to_csv(filename, index=False)"
   ]
  },
  {
   "cell_type": "markdown",
   "metadata": {},
   "source": [
    "##### Add a new column for total delay in minutes"
   ]
  },
  {
   "cell_type": "code",
   "execution_count": 59,
   "metadata": {},
   "outputs": [],
   "source": [
    "flights['difference_minutes'] = ( flights.ActualTime - flights.PlanTime).dt.total_seconds() / 60"
   ]
  },
  {
   "cell_type": "code",
   "execution_count": 60,
   "metadata": {},
   "outputs": [
    {
     "data": {
      "text/html": [
       "<div>\n",
       "<style scoped>\n",
       "    .dataframe tbody tr th:only-of-type {\n",
       "        vertical-align: middle;\n",
       "    }\n",
       "\n",
       "    .dataframe tbody tr th {\n",
       "        vertical-align: top;\n",
       "    }\n",
       "\n",
       "    .dataframe thead th {\n",
       "        text-align: right;\n",
       "    }\n",
       "</style>\n",
       "<table border=\"1\" class=\"dataframe\">\n",
       "  <thead>\n",
       "    <tr style=\"text-align: right;\">\n",
       "      <th></th>\n",
       "      <th>Airline</th>\n",
       "      <th>FlightNum</th>\n",
       "      <th>PlanTime</th>\n",
       "      <th>ActualTime</th>\n",
       "      <th>Direction</th>\n",
       "      <th>Airport</th>\n",
       "      <th>City</th>\n",
       "      <th>Country</th>\n",
       "      <th>Terminal</th>\n",
       "      <th>Status</th>\n",
       "      <th>difference_minutes</th>\n",
       "    </tr>\n",
       "  </thead>\n",
       "  <tbody>\n",
       "    <tr>\n",
       "      <th>0</th>\n",
       "      <td>6H</td>\n",
       "      <td>047</td>\n",
       "      <td>2023-06-29 14:00:00</td>\n",
       "      <td>2023-06-29 14:46:00</td>\n",
       "      <td>D</td>\n",
       "      <td>ETM</td>\n",
       "      <td>RAMON</td>\n",
       "      <td>ISRAEL</td>\n",
       "      <td>1</td>\n",
       "      <td>DEPARTED</td>\n",
       "      <td>46.0</td>\n",
       "    </tr>\n",
       "    <tr>\n",
       "      <th>3</th>\n",
       "      <td>LY</td>\n",
       "      <td>313</td>\n",
       "      <td>2023-06-29 14:30:00</td>\n",
       "      <td>2023-06-29 14:52:00</td>\n",
       "      <td>D</td>\n",
       "      <td>LTN</td>\n",
       "      <td>LONDON LUTON</td>\n",
       "      <td>UNITED KINGDOM</td>\n",
       "      <td>3</td>\n",
       "      <td>DEPARTED</td>\n",
       "      <td>22.0</td>\n",
       "    </tr>\n",
       "    <tr>\n",
       "      <th>4</th>\n",
       "      <td>SM</td>\n",
       "      <td>3002</td>\n",
       "      <td>2023-06-29 13:55:00</td>\n",
       "      <td>2023-06-29 14:54:00</td>\n",
       "      <td>D</td>\n",
       "      <td>SSH</td>\n",
       "      <td>SHARM EL SHEIKH</td>\n",
       "      <td>EGYPT</td>\n",
       "      <td>3</td>\n",
       "      <td>DEPARTED</td>\n",
       "      <td>59.0</td>\n",
       "    </tr>\n",
       "  </tbody>\n",
       "</table>\n",
       "</div>"
      ],
      "text/plain": [
       "  Airline FlightNum            PlanTime          ActualTime Direction Airport  \\\n",
       "0      6H       047 2023-06-29 14:00:00 2023-06-29 14:46:00         D     ETM   \n",
       "3      LY       313 2023-06-29 14:30:00 2023-06-29 14:52:00         D     LTN   \n",
       "4      SM      3002 2023-06-29 13:55:00 2023-06-29 14:54:00         D     SSH   \n",
       "\n",
       "              City         Country Terminal    Status  difference_minutes  \n",
       "0            RAMON          ISRAEL        1  DEPARTED                46.0  \n",
       "3     LONDON LUTON  UNITED KINGDOM        3  DEPARTED                22.0  \n",
       "4  SHARM EL SHEIKH           EGYPT        3  DEPARTED                59.0  "
      ]
     },
     "execution_count": 60,
     "metadata": {},
     "output_type": "execute_result"
    }
   ],
   "source": [
    "flights.head (3)"
   ]
  },
  {
   "cell_type": "markdown",
   "metadata": {},
   "source": [
    "##### Average delay for departed flights"
   ]
  },
  {
   "cell_type": "code",
   "execution_count": 61,
   "metadata": {},
   "outputs": [
    {
     "data": {
      "text/plain": [
       "41.84974093264249"
      ]
     },
     "execution_count": 61,
     "metadata": {},
     "output_type": "execute_result"
    }
   ],
   "source": [
    "flights [ flights.Status == 'DEPARTED'].difference_minutes.mean()"
   ]
  },
  {
   "cell_type": "markdown",
   "metadata": {},
   "source": [
    "#####  Total delay for Airlines , Terminals, Date"
   ]
  },
  {
   "cell_type": "code",
   "execution_count": 62,
   "metadata": {},
   "outputs": [],
   "source": [
    "delay_distribution = flights.groupby(['Airline', 'Terminal'])['difference_minutes'].sum().to_frame()"
   ]
  },
  {
   "cell_type": "code",
   "execution_count": 63,
   "metadata": {},
   "outputs": [
    {
     "data": {
      "text/html": [
       "<div>\n",
       "<style scoped>\n",
       "    .dataframe tbody tr th:only-of-type {\n",
       "        vertical-align: middle;\n",
       "    }\n",
       "\n",
       "    .dataframe tbody tr th {\n",
       "        vertical-align: top;\n",
       "    }\n",
       "\n",
       "    .dataframe thead th {\n",
       "        text-align: right;\n",
       "    }\n",
       "</style>\n",
       "<table border=\"1\" class=\"dataframe\">\n",
       "  <thead>\n",
       "    <tr style=\"text-align: right;\">\n",
       "      <th></th>\n",
       "      <th></th>\n",
       "      <th>difference_minutes</th>\n",
       "    </tr>\n",
       "    <tr>\n",
       "      <th>Airline</th>\n",
       "      <th>Terminal</th>\n",
       "      <th></th>\n",
       "    </tr>\n",
       "  </thead>\n",
       "  <tbody>\n",
       "    <tr>\n",
       "      <th>2S</th>\n",
       "      <th>3</th>\n",
       "      <td>64.0</td>\n",
       "    </tr>\n",
       "    <tr>\n",
       "      <th>5F</th>\n",
       "      <th>3</th>\n",
       "      <td>0.0</td>\n",
       "    </tr>\n",
       "    <tr>\n",
       "      <th>5W</th>\n",
       "      <th>3</th>\n",
       "      <td>98.0</td>\n",
       "    </tr>\n",
       "  </tbody>\n",
       "</table>\n",
       "</div>"
      ],
      "text/plain": [
       "                  difference_minutes\n",
       "Airline Terminal                    \n",
       "2S      3                       64.0\n",
       "5F      3                        0.0\n",
       "5W      3                       98.0"
      ]
     },
     "execution_count": 63,
     "metadata": {},
     "output_type": "execute_result"
    }
   ],
   "source": [
    "delay_distribution.head(3)"
   ]
  },
  {
   "cell_type": "code",
   "execution_count": 64,
   "metadata": {},
   "outputs": [
    {
     "data": {
      "text/plain": [
       "Airline  Terminal\n",
       "LY       3           2079.0\n",
       "BZ       3            923.0\n",
       "6H       3            850.0\n",
       "IZ       1            696.0\n",
       "         3            642.0\n",
       "Name: difference_minutes, dtype: float64"
      ]
     },
     "execution_count": 64,
     "metadata": {},
     "output_type": "execute_result"
    }
   ],
   "source": [
    "delay_distribution.difference_minutes.nlargest()"
   ]
  },
  {
   "cell_type": "code",
   "execution_count": 65,
   "metadata": {},
   "outputs": [
    {
     "data": {
      "text/plain": [
       "Airline  Terminal\n",
       "5F       3           0.0\n",
       "AY       3           0.0\n",
       "AYT      3           0.0\n",
       "FH       3           0.0\n",
       "FI       3           0.0\n",
       "Name: difference_minutes, dtype: float64"
      ]
     },
     "execution_count": 65,
     "metadata": {},
     "output_type": "execute_result"
    }
   ],
   "source": [
    "delay_distribution.difference_minutes.nsmallest()"
   ]
  },
  {
   "cell_type": "code",
   "execution_count": null,
   "metadata": {},
   "outputs": [],
   "source": []
  },
  {
   "cell_type": "markdown",
   "metadata": {},
   "source": [
    "## Create 3 diffrent visualizations with your analyzation"
   ]
  },
  {
   "cell_type": "code",
   "execution_count": 66,
   "metadata": {},
   "outputs": [
    {
     "data": {
      "text/html": [
       "<div>\n",
       "<style scoped>\n",
       "    .dataframe tbody tr th:only-of-type {\n",
       "        vertical-align: middle;\n",
       "    }\n",
       "\n",
       "    .dataframe tbody tr th {\n",
       "        vertical-align: top;\n",
       "    }\n",
       "\n",
       "    .dataframe thead th {\n",
       "        text-align: right;\n",
       "    }\n",
       "</style>\n",
       "<table border=\"1\" class=\"dataframe\">\n",
       "  <thead>\n",
       "    <tr style=\"text-align: right;\">\n",
       "      <th></th>\n",
       "      <th>PlanTime</th>\n",
       "      <th>ActualTime</th>\n",
       "      <th>difference_minutes</th>\n",
       "    </tr>\n",
       "  </thead>\n",
       "  <tbody>\n",
       "    <tr>\n",
       "      <th>count</th>\n",
       "      <td>1187</td>\n",
       "      <td>1187</td>\n",
       "      <td>1187.000000</td>\n",
       "    </tr>\n",
       "    <tr>\n",
       "      <th>mean</th>\n",
       "      <td>2023-07-01 08:08:39.376579584</td>\n",
       "      <td>2023-07-01 08:23:59.191238400</td>\n",
       "      <td>15.330244</td>\n",
       "    </tr>\n",
       "    <tr>\n",
       "      <th>min</th>\n",
       "      <td>2023-06-29 13:55:00</td>\n",
       "      <td>2023-06-29 14:46:00</td>\n",
       "      <td>0.000000</td>\n",
       "    </tr>\n",
       "    <tr>\n",
       "      <th>25%</th>\n",
       "      <td>2023-06-30 08:00:00</td>\n",
       "      <td>2023-06-30 08:45:30</td>\n",
       "      <td>0.000000</td>\n",
       "    </tr>\n",
       "    <tr>\n",
       "      <th>50%</th>\n",
       "      <td>2023-07-01 10:00:00</td>\n",
       "      <td>2023-07-01 10:00:00</td>\n",
       "      <td>0.000000</td>\n",
       "    </tr>\n",
       "    <tr>\n",
       "      <th>75%</th>\n",
       "      <td>2023-07-02 07:50:00</td>\n",
       "      <td>2023-07-02 07:50:00</td>\n",
       "      <td>24.000000</td>\n",
       "    </tr>\n",
       "    <tr>\n",
       "      <th>max</th>\n",
       "      <td>2023-07-03 01:20:00</td>\n",
       "      <td>2023-07-03 01:20:00</td>\n",
       "      <td>331.000000</td>\n",
       "    </tr>\n",
       "    <tr>\n",
       "      <th>std</th>\n",
       "      <td>NaN</td>\n",
       "      <td>NaN</td>\n",
       "      <td>28.964864</td>\n",
       "    </tr>\n",
       "  </tbody>\n",
       "</table>\n",
       "</div>"
      ],
      "text/plain": [
       "                            PlanTime                     ActualTime  \\\n",
       "count                           1187                           1187   \n",
       "mean   2023-07-01 08:08:39.376579584  2023-07-01 08:23:59.191238400   \n",
       "min              2023-06-29 13:55:00            2023-06-29 14:46:00   \n",
       "25%              2023-06-30 08:00:00            2023-06-30 08:45:30   \n",
       "50%              2023-07-01 10:00:00            2023-07-01 10:00:00   \n",
       "75%              2023-07-02 07:50:00            2023-07-02 07:50:00   \n",
       "max              2023-07-03 01:20:00            2023-07-03 01:20:00   \n",
       "std                              NaN                            NaN   \n",
       "\n",
       "       difference_minutes  \n",
       "count         1187.000000  \n",
       "mean            15.330244  \n",
       "min              0.000000  \n",
       "25%              0.000000  \n",
       "50%              0.000000  \n",
       "75%             24.000000  \n",
       "max            331.000000  \n",
       "std             28.964864  "
      ]
     },
     "execution_count": 66,
     "metadata": {},
     "output_type": "execute_result"
    }
   ],
   "source": [
    "flights.describe()"
   ]
  },
  {
   "cell_type": "code",
   "execution_count": 67,
   "metadata": {},
   "outputs": [
    {
     "data": {
      "text/plain": [
       "Index(['Airline', 'FlightNum', 'PlanTime', 'ActualTime', 'Direction',\n",
       "       'Airport', 'City', 'Country', 'Terminal', 'Status',\n",
       "       'difference_minutes'],\n",
       "      dtype='object')"
      ]
     },
     "execution_count": 67,
     "metadata": {},
     "output_type": "execute_result"
    }
   ],
   "source": [
    "flights.columns"
   ]
  },
  {
   "cell_type": "markdown",
   "metadata": {},
   "source": [
    "#### Is there a connection between the airlines and delay times "
   ]
  },
  {
   "cell_type": "markdown",
   "metadata": {},
   "source": [
    "checking delay precantuge  on each airlaine"
   ]
  },
  {
   "cell_type": "code",
   "execution_count": 68,
   "metadata": {},
   "outputs": [],
   "source": [
    "\n",
    "airline_flights = flights.Airline.value_counts().to_frame().reset_index()\n",
    "airline_flights.columns = ['Airline', 'TotalFlights'] ## Total flights for each airlain\n",
    "delay_flights  = flights [flights.difference_minutes != 0].Airline.value_counts().to_frame().reset_index()\n",
    "delay_flights.columns = ['Airline', 'DelayFlights'] ##  Flights had delay for each airlain\n",
    "\n",
    "##airline_flights ['delay flights'] = x\n",
    "##airline_flights .head (50)"
   ]
  },
  {
   "cell_type": "code",
   "execution_count": 69,
   "metadata": {},
   "outputs": [
    {
     "data": {
      "text/plain": [
       "(80, 2)"
      ]
     },
     "execution_count": 69,
     "metadata": {},
     "output_type": "execute_result"
    }
   ],
   "source": [
    "delay_flights.shape"
   ]
  },
  {
   "cell_type": "code",
   "execution_count": 70,
   "metadata": {},
   "outputs": [
    {
     "data": {
      "text/plain": [
       "(90, 2)"
      ]
     },
     "execution_count": 70,
     "metadata": {},
     "output_type": "execute_result"
    }
   ],
   "source": [
    "airline_flights.shape"
   ]
  },
  {
   "cell_type": "code",
   "execution_count": 71,
   "metadata": {},
   "outputs": [],
   "source": [
    "merged_df = airline_flights.merge(delay_flights, on='Airline',how='left',sort=True)\n",
    "merged_df.fillna(0, inplace = True)\n",
    "merged_df = merged_df.sort_values('DelayFlights')"
   ]
  },
  {
   "cell_type": "code",
   "execution_count": 72,
   "metadata": {},
   "outputs": [
    {
     "data": {
      "text/html": [
       "<div>\n",
       "<style scoped>\n",
       "    .dataframe tbody tr th:only-of-type {\n",
       "        vertical-align: middle;\n",
       "    }\n",
       "\n",
       "    .dataframe tbody tr th {\n",
       "        vertical-align: top;\n",
       "    }\n",
       "\n",
       "    .dataframe thead th {\n",
       "        text-align: right;\n",
       "    }\n",
       "</style>\n",
       "<table border=\"1\" class=\"dataframe\">\n",
       "  <thead>\n",
       "    <tr style=\"text-align: right;\">\n",
       "      <th></th>\n",
       "      <th>TotalFlights</th>\n",
       "      <th>DelayFlights</th>\n",
       "    </tr>\n",
       "  </thead>\n",
       "  <tbody>\n",
       "    <tr>\n",
       "      <th>TotalFlights</th>\n",
       "      <td>1.000000</td>\n",
       "      <td>0.981288</td>\n",
       "    </tr>\n",
       "    <tr>\n",
       "      <th>DelayFlights</th>\n",
       "      <td>0.981288</td>\n",
       "      <td>1.000000</td>\n",
       "    </tr>\n",
       "  </tbody>\n",
       "</table>\n",
       "</div>"
      ],
      "text/plain": [
       "              TotalFlights  DelayFlights\n",
       "TotalFlights      1.000000      0.981288\n",
       "DelayFlights      0.981288      1.000000"
      ]
     },
     "execution_count": 72,
     "metadata": {},
     "output_type": "execute_result"
    }
   ],
   "source": [
    "merged_df.corr(numeric_only=True)\n"
   ]
  },
  {
   "cell_type": "code",
   "execution_count": 73,
   "metadata": {},
   "outputs": [
    {
     "data": {
      "text/html": [
       "<div>\n",
       "<style scoped>\n",
       "    .dataframe tbody tr th:only-of-type {\n",
       "        vertical-align: middle;\n",
       "    }\n",
       "\n",
       "    .dataframe tbody tr th {\n",
       "        vertical-align: top;\n",
       "    }\n",
       "\n",
       "    .dataframe thead th {\n",
       "        text-align: right;\n",
       "    }\n",
       "</style>\n",
       "<table border=\"1\" class=\"dataframe\">\n",
       "  <thead>\n",
       "    <tr style=\"text-align: right;\">\n",
       "      <th></th>\n",
       "      <th>TotalFlights</th>\n",
       "      <th>DelayFlights</th>\n",
       "    </tr>\n",
       "  </thead>\n",
       "  <tbody>\n",
       "    <tr>\n",
       "      <th>count</th>\n",
       "      <td>90.000000</td>\n",
       "      <td>90.000000</td>\n",
       "    </tr>\n",
       "    <tr>\n",
       "      <th>mean</th>\n",
       "      <td>13.188889</td>\n",
       "      <td>4.655556</td>\n",
       "    </tr>\n",
       "    <tr>\n",
       "      <th>std</th>\n",
       "      <td>22.102872</td>\n",
       "      <td>9.038197</td>\n",
       "    </tr>\n",
       "    <tr>\n",
       "      <th>min</th>\n",
       "      <td>1.000000</td>\n",
       "      <td>0.000000</td>\n",
       "    </tr>\n",
       "    <tr>\n",
       "      <th>25%</th>\n",
       "      <td>3.000000</td>\n",
       "      <td>1.000000</td>\n",
       "    </tr>\n",
       "    <tr>\n",
       "      <th>50%</th>\n",
       "      <td>6.000000</td>\n",
       "      <td>2.000000</td>\n",
       "    </tr>\n",
       "    <tr>\n",
       "      <th>75%</th>\n",
       "      <td>14.000000</td>\n",
       "      <td>5.000000</td>\n",
       "    </tr>\n",
       "    <tr>\n",
       "      <th>max</th>\n",
       "      <td>177.000000</td>\n",
       "      <td>77.000000</td>\n",
       "    </tr>\n",
       "  </tbody>\n",
       "</table>\n",
       "</div>"
      ],
      "text/plain": [
       "       TotalFlights  DelayFlights\n",
       "count     90.000000     90.000000\n",
       "mean      13.188889      4.655556\n",
       "std       22.102872      9.038197\n",
       "min        1.000000      0.000000\n",
       "25%        3.000000      1.000000\n",
       "50%        6.000000      2.000000\n",
       "75%       14.000000      5.000000\n",
       "max      177.000000     77.000000"
      ]
     },
     "execution_count": 73,
     "metadata": {},
     "output_type": "execute_result"
    }
   ],
   "source": [
    "merged_df.describe() ## checking standard deviation"
   ]
  },
  {
   "cell_type": "code",
   "execution_count": 74,
   "metadata": {},
   "outputs": [
    {
     "data": {
      "text/plain": [
       "difference_minutes\n",
       "0.0      768\n",
       "18.0      21\n",
       "40.0      17\n",
       "21.0      16\n",
       "27.0      16\n",
       "        ... \n",
       "302.0      1\n",
       "90.0       1\n",
       "78.0       1\n",
       "52.0       1\n",
       "120.0      1\n",
       "Name: count, Length: 90, dtype: int64"
      ]
     },
     "execution_count": 74,
     "metadata": {},
     "output_type": "execute_result"
    }
   ],
   "source": [
    "flights.difference_minutes.value_counts()"
   ]
  },
  {
   "cell_type": "code",
   "execution_count": 75,
   "metadata": {},
   "outputs": [],
   "source": [
    "merged_df['Airline_delay_percentage'] = merged_df.DelayFlights/merged_df.TotalFlights*100\n",
    "merged_df['Flight_delay_percentage'] = merged_df.DelayFlights*100/87\n",
    "\n",
    "delay = len (flights [flights ['difference_minutes'] == 0.0])\n",
    "on_time = len (flights [flights ['difference_minutes'] != 0.0])\n",
    "pie = [delay , on_time]\n",
    "label = ['Delayed flights'  , 'Flights On_time']"
   ]
  },
  {
   "cell_type": "code",
   "execution_count": 76,
   "metadata": {},
   "outputs": [
    {
     "data": {
      "image/png": "[encoded data removed]",
      "text/plain": [
       "<Figure size 640x480 with 1 Axes>"
      ]
     },
     "metadata": {},
     "output_type": "display_data"
    },
    {
     "data": {
      "image/png": "[encoded data removed]",
      "text/plain": [
       "<Figure size 640x480 with 1 Axes>"
      ]
     },
     "metadata": {},
     "output_type": "display_data"
    }
   ],
   "source": [
    "\n",
    "## first pie \n",
    "plt.pie ( pie , \n",
    "         autopct ='%1.2f%%', shadow = True , explode = (0,0.2) , labels = label)\n",
    "\n",
    "plt.title(\"Flights on time VS Delayed Flight in Ben Gurion Airport  \", color = (0.2, 0.4, 0.6),fontsize = 12 )\n",
    "\n",
    "plt.show()\n",
    "\n",
    "##secound pie\n",
    "plt.pie (merged_df['Flight_delay_percentage'].tail(10) , \n",
    "         autopct ='%1.2f%%',  shadow = True   , \n",
    "        explode = (0,0,0,0,0,0,0,0,0,0.1),\n",
    "        labels = merged_df.Airline.tail(10),radius=0.7)\n",
    "plt.title(\"Delay Percentage\",loc='left', color=(0.2, 0.4, 0.6), fontsize=20)\n",
    "\n",
    "explanations = ['   Present 10 airlins with the highest percentage','',\n",
    "                '   100% - Total delay for all flights']\n",
    "for i, expl in enumerate(explanations):\n",
    "    plt.annotate(expl, (1.2, 0.05 + 0.1*i), fontsize = 15, color = (0.2, 0.4, 0.6))\n",
    "    \n",
    "\n",
    "xycoords='axes fraction'\n",
    "plt.axis(xmin = 0, ymin = 0)\n",
    "\n",
    "plt.show()"
   ]
  },
  {
   "cell_type": "code",
   "execution_count": null,
   "metadata": {},
   "outputs": [],
   "source": [
    "\n"
   ]
  },
  {
   "cell_type": "code",
   "execution_count": 77,
   "metadata": {},
   "outputs": [
    {
     "data": {
      "image/png": "[encoded data removed]",
      "text/plain": [
       "<Figure size 2500x1000 with 1 Axes>"
      ]
     },
     "metadata": {},
     "output_type": "display_data"
    }
   ],
   "source": [
    "plt.figure(figsize = (25,10))\n",
    "\n",
    "plt.title(\" Top Ten companies with a high chance of delay \", \n",
    "          color = (0.2, 0.4, 0.6),fontsize = 35, fontweight = 'bold' )\n",
    "\n",
    "sb.set_style (\"whitegrid\")\n",
    "\n",
    "\n",
    "\n",
    "sb.barplot (x = merged_df.Airline.tail(10) , \n",
    "            y = merged_df.Airline_delay_percentage,\n",
    "            errcolor = (0.2, 0.4, 0.6), width = 0.65 )\n",
    "\n",
    "plt.text( x=0.5 , y=45 ,s = 'Standard deviation',ha='center',fontsize = 18 ,va='bottom' )      \n",
    "plt.text( x=0.5 , y=43 ,s = merged_df.Airline_delay_percentage.std() ,ha='center',fontsize = 18 ,va='bottom' )\n",
    "\n",
    "\n",
    "x = merged_df.Airline.tail(10).to_frame().reset_index(drop = True)\n",
    "y = merged_df.Airline_delay_percentage.tail(10).to_frame().reset_index(drop = True)\n",
    "for i in range(len(x)):\n",
    "   plt.text( x.index[i],\n",
    "            y.Airline_delay_percentage[i],\n",
    "           str( round (y.Airline_delay_percentage[i],2))+'%',\n",
    "            ha='center',fontsize = 22 ,va='bottom') \n",
    "\n",
    "     \n",
    "plt.xlabel ('Airline Company',color = (0.2, 0.4, 0.6) , fontsize = 25)\n",
    "plt.ylabel ('% Delays for \\neach Airline',color = (0.2, 0.4, 0.6), fontsize = 25, rotation = 0, labelpad=30 )\n",
    "plt.xticks(fontsize=25, rotation=45) \n",
    "plt.yticks(fontsize=22)  \n",
    "plt.show()"
   ]
  }
 ],
 "metadata": {
  "kernelspec": {
   "display_name": "Python 3 (ipykernel)",
   "language": "python",
   "name": "python3"
  },
  "language_info": {
   "codemirror_mode": {
    "name": "ipython",
    "version": 3
   },
   "file_extension": ".py",
   "mimetype": "text/x-python",
   "name": "python",
   "nbconvert_exporter": "python",
   "pygments_lexer": "ipython3",
   "version": "3.10.9"
  }
 },
 "nbformat": 4,
 "nbformat_minor": 4
}
